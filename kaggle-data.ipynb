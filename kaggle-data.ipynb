{
 "cells": [
  {
   "cell_type": "code",
   "execution_count": 7,
   "metadata": {},
   "outputs": [],
   "source": [
    "import os"
   ]
  },
  {
   "cell_type": "code",
   "execution_count": 17,
   "metadata": {},
   "outputs": [
    {
     "name": "stdout",
     "output_type": "stream",
     "text": [
      "Downloading birdclef-2023.zip to /Users/sunyamare/st/docs/Unis/HSLU/spring23/maldasc/bird-project\n",
      "100%|█████████████████████████████████████▉| 4.91G/4.91G [05:21<00:00, 19.4MB/s]\n",
      "100%|██████████████████████████████████████| 4.91G/4.91G [05:21<00:00, 16.4MB/s]\n"
     ]
    }
   ],
   "source": [
    "if not os.path.exists('data'):\n",
    "    !kaggle competitions download -c 'birdclef-2023'\n",
    "    !mkdir data\n",
    "    !unzip -q birdclef-2023.zip -d data\n",
    "    !rm birdclef-2023.zip"
   ]
  },
  {
   "cell_type": "code",
   "execution_count": null,
   "metadata": {},
   "outputs": [],
   "source": []
  }
 ],
 "metadata": {
  "kernelspec": {
   "display_name": "gputorch-3-11",
   "language": "python",
   "name": "python3"
  },
  "language_info": {
   "codemirror_mode": {
    "name": "ipython",
    "version": 3
   },
   "file_extension": ".py",
   "mimetype": "text/x-python",
   "name": "python",
   "nbconvert_exporter": "python",
   "pygments_lexer": "ipython3",
   "version": "3.11.0"
  },
  "orig_nbformat": 4
 },
 "nbformat": 4,
 "nbformat_minor": 2
}
