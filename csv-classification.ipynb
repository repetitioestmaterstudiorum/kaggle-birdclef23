{
  "cells": [
    {
      "cell_type": "markdown",
      "source": [
        "# Initialization"
      ],
      "metadata": {
        "id": "I0tJAV75Gw4L"
      }
    },
    {
      "cell_type": "markdown",
      "source": [
        "## Imports"
      ],
      "metadata": {
        "id": "vOwuE8nqG3EJ"
      }
    },
    {
      "cell_type": "code",
      "source": [
        "import numpy as np\n",
        "import pandas as pd\n",
        "import ast\n",
        "from scipy.sparse import dok_matrix\n",
        "import torch"
      ],
      "metadata": {
        "id": "B17ug9KcG4BI"
      },
      "execution_count": 14,
      "outputs": []
    },
    {
      "cell_type": "markdown",
      "source": [
        "## Hyperparameters"
      ],
      "metadata": {
        "id": "qbXjRBffFhOi"
      }
    },
    {
      "cell_type": "code",
      "execution_count": 15,
      "metadata": {
        "id": "VbJGcURUSYMe"
      },
      "outputs": [],
      "source": [
        "RANDOM_STATE = 42\n",
        "TRAIN_SIZE = 0.7\n",
        "\n",
        "batch_size  = 32\n",
        "learning_rate = 0.001\n",
        "num_epochs = 10\n",
        "num_threads = 2"
      ]
    },
    {
      "cell_type": "code",
      "execution_count": 16,
      "metadata": {
        "id": "OmeH-nwnktiX",
        "colab": {
          "base_uri": "https://localhost:8080/"
        },
        "outputId": "7850b33d-ade6-484a-c80f-c1a39d9b0cfc"
      },
      "outputs": [
        {
          "output_type": "execute_result",
          "data": {
            "text/plain": [
              "<torch._C.Generator at 0x7f98a0434890>"
            ]
          },
          "metadata": {},
          "execution_count": 16
        }
      ],
      "source": [
        "np.random.seed(RANDOM_STATE)\n",
        "torch.manual_seed(RANDOM_STATE)"
      ]
    },
    {
      "cell_type": "markdown",
      "source": [
        "## Data Loading"
      ],
      "metadata": {
        "id": "x85RujkpFlIQ"
      }
    },
    {
      "cell_type": "code",
      "execution_count": 17,
      "metadata": {
        "colab": {
          "base_uri": "https://localhost:8080/",
          "height": 423
        },
        "id": "tOMKh8vgSYMf",
        "outputId": "666b9f3d-27a3-4c16-edc9-32732c5c9e75"
      },
      "outputs": [
        {
          "output_type": "execute_result",
          "data": {
            "text/plain": [
              "  primary_label secondary_labels              type  latitude  longitude  \\\n",
              "0       abethr1               []          ['song']    4.3906    38.2788   \n",
              "1       abethr1               []          ['call']   -2.9524    38.2921   \n",
              "2       abethr1               []          ['song']   -2.9524    38.2921   \n",
              "3       abethr1               []          ['song']   -2.9524    38.2921   \n",
              "4       abethr1               []  ['call', 'song']   -2.9524    38.2921   \n",
              "\n",
              "      scientific_name               common_name         author  \\\n",
              "0  Turdus tephronotus  African Bare-eyed Thrush  Rolf A. de By   \n",
              "1  Turdus tephronotus  African Bare-eyed Thrush  James Bradley   \n",
              "2  Turdus tephronotus  African Bare-eyed Thrush  James Bradley   \n",
              "3  Turdus tephronotus  African Bare-eyed Thrush  James Bradley   \n",
              "4  Turdus tephronotus  African Bare-eyed Thrush  James Bradley   \n",
              "\n",
              "                                             license  rating  \\\n",
              "0  Creative Commons Attribution-NonCommercial-Sha...     4.0   \n",
              "1  Creative Commons Attribution-NonCommercial-Sha...     3.5   \n",
              "2  Creative Commons Attribution-NonCommercial-Sha...     3.5   \n",
              "3  Creative Commons Attribution-NonCommercial-Sha...     5.0   \n",
              "4  Creative Commons Attribution-NonCommercial-Sha...     4.5   \n",
              "\n",
              "                                 url              filename  \n",
              "0  https://www.xeno-canto.org/128013  abethr1/XC128013.ogg  \n",
              "1  https://www.xeno-canto.org/363501  abethr1/XC363501.ogg  \n",
              "2  https://www.xeno-canto.org/363502  abethr1/XC363502.ogg  \n",
              "3  https://www.xeno-canto.org/363503  abethr1/XC363503.ogg  \n",
              "4  https://www.xeno-canto.org/363504  abethr1/XC363504.ogg  "
            ],
            "text/html": [
              "\n",
              "  <div id=\"df-efd5b53d-b1ca-4932-b38b-e0645a37ee5d\">\n",
              "    <div class=\"colab-df-container\">\n",
              "      <div>\n",
              "<style scoped>\n",
              "    .dataframe tbody tr th:only-of-type {\n",
              "        vertical-align: middle;\n",
              "    }\n",
              "\n",
              "    .dataframe tbody tr th {\n",
              "        vertical-align: top;\n",
              "    }\n",
              "\n",
              "    .dataframe thead th {\n",
              "        text-align: right;\n",
              "    }\n",
              "</style>\n",
              "<table border=\"1\" class=\"dataframe\">\n",
              "  <thead>\n",
              "    <tr style=\"text-align: right;\">\n",
              "      <th></th>\n",
              "      <th>primary_label</th>\n",
              "      <th>secondary_labels</th>\n",
              "      <th>type</th>\n",
              "      <th>latitude</th>\n",
              "      <th>longitude</th>\n",
              "      <th>scientific_name</th>\n",
              "      <th>common_name</th>\n",
              "      <th>author</th>\n",
              "      <th>license</th>\n",
              "      <th>rating</th>\n",
              "      <th>url</th>\n",
              "      <th>filename</th>\n",
              "    </tr>\n",
              "  </thead>\n",
              "  <tbody>\n",
              "    <tr>\n",
              "      <th>0</th>\n",
              "      <td>abethr1</td>\n",
              "      <td>[]</td>\n",
              "      <td>['song']</td>\n",
              "      <td>4.3906</td>\n",
              "      <td>38.2788</td>\n",
              "      <td>Turdus tephronotus</td>\n",
              "      <td>African Bare-eyed Thrush</td>\n",
              "      <td>Rolf A. de By</td>\n",
              "      <td>Creative Commons Attribution-NonCommercial-Sha...</td>\n",
              "      <td>4.0</td>\n",
              "      <td>https://www.xeno-canto.org/128013</td>\n",
              "      <td>abethr1/XC128013.ogg</td>\n",
              "    </tr>\n",
              "    <tr>\n",
              "      <th>1</th>\n",
              "      <td>abethr1</td>\n",
              "      <td>[]</td>\n",
              "      <td>['call']</td>\n",
              "      <td>-2.9524</td>\n",
              "      <td>38.2921</td>\n",
              "      <td>Turdus tephronotus</td>\n",
              "      <td>African Bare-eyed Thrush</td>\n",
              "      <td>James Bradley</td>\n",
              "      <td>Creative Commons Attribution-NonCommercial-Sha...</td>\n",
              "      <td>3.5</td>\n",
              "      <td>https://www.xeno-canto.org/363501</td>\n",
              "      <td>abethr1/XC363501.ogg</td>\n",
              "    </tr>\n",
              "    <tr>\n",
              "      <th>2</th>\n",
              "      <td>abethr1</td>\n",
              "      <td>[]</td>\n",
              "      <td>['song']</td>\n",
              "      <td>-2.9524</td>\n",
              "      <td>38.2921</td>\n",
              "      <td>Turdus tephronotus</td>\n",
              "      <td>African Bare-eyed Thrush</td>\n",
              "      <td>James Bradley</td>\n",
              "      <td>Creative Commons Attribution-NonCommercial-Sha...</td>\n",
              "      <td>3.5</td>\n",
              "      <td>https://www.xeno-canto.org/363502</td>\n",
              "      <td>abethr1/XC363502.ogg</td>\n",
              "    </tr>\n",
              "    <tr>\n",
              "      <th>3</th>\n",
              "      <td>abethr1</td>\n",
              "      <td>[]</td>\n",
              "      <td>['song']</td>\n",
              "      <td>-2.9524</td>\n",
              "      <td>38.2921</td>\n",
              "      <td>Turdus tephronotus</td>\n",
              "      <td>African Bare-eyed Thrush</td>\n",
              "      <td>James Bradley</td>\n",
              "      <td>Creative Commons Attribution-NonCommercial-Sha...</td>\n",
              "      <td>5.0</td>\n",
              "      <td>https://www.xeno-canto.org/363503</td>\n",
              "      <td>abethr1/XC363503.ogg</td>\n",
              "    </tr>\n",
              "    <tr>\n",
              "      <th>4</th>\n",
              "      <td>abethr1</td>\n",
              "      <td>[]</td>\n",
              "      <td>['call', 'song']</td>\n",
              "      <td>-2.9524</td>\n",
              "      <td>38.2921</td>\n",
              "      <td>Turdus tephronotus</td>\n",
              "      <td>African Bare-eyed Thrush</td>\n",
              "      <td>James Bradley</td>\n",
              "      <td>Creative Commons Attribution-NonCommercial-Sha...</td>\n",
              "      <td>4.5</td>\n",
              "      <td>https://www.xeno-canto.org/363504</td>\n",
              "      <td>abethr1/XC363504.ogg</td>\n",
              "    </tr>\n",
              "  </tbody>\n",
              "</table>\n",
              "</div>\n",
              "      <button class=\"colab-df-convert\" onclick=\"convertToInteractive('df-efd5b53d-b1ca-4932-b38b-e0645a37ee5d')\"\n",
              "              title=\"Convert this dataframe to an interactive table.\"\n",
              "              style=\"display:none;\">\n",
              "        \n",
              "  <svg xmlns=\"http://www.w3.org/2000/svg\" height=\"24px\"viewBox=\"0 0 24 24\"\n",
              "       width=\"24px\">\n",
              "    <path d=\"M0 0h24v24H0V0z\" fill=\"none\"/>\n",
              "    <path d=\"M18.56 5.44l.94 2.06.94-2.06 2.06-.94-2.06-.94-.94-2.06-.94 2.06-2.06.94zm-11 1L8.5 8.5l.94-2.06 2.06-.94-2.06-.94L8.5 2.5l-.94 2.06-2.06.94zm10 10l.94 2.06.94-2.06 2.06-.94-2.06-.94-.94-2.06-.94 2.06-2.06.94z\"/><path d=\"M17.41 7.96l-1.37-1.37c-.4-.4-.92-.59-1.43-.59-.52 0-1.04.2-1.43.59L10.3 9.45l-7.72 7.72c-.78.78-.78 2.05 0 2.83L4 21.41c.39.39.9.59 1.41.59.51 0 1.02-.2 1.41-.59l7.78-7.78 2.81-2.81c.8-.78.8-2.07 0-2.86zM5.41 20L4 18.59l7.72-7.72 1.47 1.35L5.41 20z\"/>\n",
              "  </svg>\n",
              "      </button>\n",
              "      \n",
              "  <style>\n",
              "    .colab-df-container {\n",
              "      display:flex;\n",
              "      flex-wrap:wrap;\n",
              "      gap: 12px;\n",
              "    }\n",
              "\n",
              "    .colab-df-convert {\n",
              "      background-color: #E8F0FE;\n",
              "      border: none;\n",
              "      border-radius: 50%;\n",
              "      cursor: pointer;\n",
              "      display: none;\n",
              "      fill: #1967D2;\n",
              "      height: 32px;\n",
              "      padding: 0 0 0 0;\n",
              "      width: 32px;\n",
              "    }\n",
              "\n",
              "    .colab-df-convert:hover {\n",
              "      background-color: #E2EBFA;\n",
              "      box-shadow: 0px 1px 2px rgba(60, 64, 67, 0.3), 0px 1px 3px 1px rgba(60, 64, 67, 0.15);\n",
              "      fill: #174EA6;\n",
              "    }\n",
              "\n",
              "    [theme=dark] .colab-df-convert {\n",
              "      background-color: #3B4455;\n",
              "      fill: #D2E3FC;\n",
              "    }\n",
              "\n",
              "    [theme=dark] .colab-df-convert:hover {\n",
              "      background-color: #434B5C;\n",
              "      box-shadow: 0px 1px 3px 1px rgba(0, 0, 0, 0.15);\n",
              "      filter: drop-shadow(0px 1px 2px rgba(0, 0, 0, 0.3));\n",
              "      fill: #FFFFFF;\n",
              "    }\n",
              "  </style>\n",
              "\n",
              "      <script>\n",
              "        const buttonEl =\n",
              "          document.querySelector('#df-efd5b53d-b1ca-4932-b38b-e0645a37ee5d button.colab-df-convert');\n",
              "        buttonEl.style.display =\n",
              "          google.colab.kernel.accessAllowed ? 'block' : 'none';\n",
              "\n",
              "        async function convertToInteractive(key) {\n",
              "          const element = document.querySelector('#df-efd5b53d-b1ca-4932-b38b-e0645a37ee5d');\n",
              "          const dataTable =\n",
              "            await google.colab.kernel.invokeFunction('convertToInteractive',\n",
              "                                                     [key], {});\n",
              "          if (!dataTable) return;\n",
              "\n",
              "          const docLinkHtml = 'Like what you see? Visit the ' +\n",
              "            '<a target=\"_blank\" href=https://colab.research.google.com/notebooks/data_table.ipynb>data table notebook</a>'\n",
              "            + ' to learn more about interactive tables.';\n",
              "          element.innerHTML = '';\n",
              "          dataTable['output_type'] = 'display_data';\n",
              "          await google.colab.output.renderOutput(dataTable, element);\n",
              "          const docLink = document.createElement('div');\n",
              "          docLink.innerHTML = docLinkHtml;\n",
              "          element.appendChild(docLink);\n",
              "        }\n",
              "      </script>\n",
              "    </div>\n",
              "  </div>\n",
              "  "
            ]
          },
          "metadata": {},
          "execution_count": 17
        }
      ],
      "source": [
        "df = pd.read_csv(\"/content/train_metadata.csv\")\n",
        "df.head()"
      ]
    },
    {
      "cell_type": "code",
      "execution_count": 18,
      "metadata": {
        "colab": {
          "base_uri": "https://localhost:8080/",
          "height": 206
        },
        "id": "tGUOq99rSYMf",
        "outputId": "48eb87d1-718b-48fe-d322-0132e69b2dbc"
      },
      "outputs": [
        {
          "output_type": "execute_result",
          "data": {
            "text/plain": [
              "  primary_label              type  latitude  longitude\n",
              "0       abethr1          ['song']    4.3906    38.2788\n",
              "1       abethr1          ['call']   -2.9524    38.2921\n",
              "2       abethr1          ['song']   -2.9524    38.2921\n",
              "3       abethr1          ['song']   -2.9524    38.2921\n",
              "4       abethr1  ['call', 'song']   -2.9524    38.2921"
            ],
            "text/html": [
              "\n",
              "  <div id=\"df-49dc3732-4f71-4ce0-a87d-0fda2c9b6d20\">\n",
              "    <div class=\"colab-df-container\">\n",
              "      <div>\n",
              "<style scoped>\n",
              "    .dataframe tbody tr th:only-of-type {\n",
              "        vertical-align: middle;\n",
              "    }\n",
              "\n",
              "    .dataframe tbody tr th {\n",
              "        vertical-align: top;\n",
              "    }\n",
              "\n",
              "    .dataframe thead th {\n",
              "        text-align: right;\n",
              "    }\n",
              "</style>\n",
              "<table border=\"1\" class=\"dataframe\">\n",
              "  <thead>\n",
              "    <tr style=\"text-align: right;\">\n",
              "      <th></th>\n",
              "      <th>primary_label</th>\n",
              "      <th>type</th>\n",
              "      <th>latitude</th>\n",
              "      <th>longitude</th>\n",
              "    </tr>\n",
              "  </thead>\n",
              "  <tbody>\n",
              "    <tr>\n",
              "      <th>0</th>\n",
              "      <td>abethr1</td>\n",
              "      <td>['song']</td>\n",
              "      <td>4.3906</td>\n",
              "      <td>38.2788</td>\n",
              "    </tr>\n",
              "    <tr>\n",
              "      <th>1</th>\n",
              "      <td>abethr1</td>\n",
              "      <td>['call']</td>\n",
              "      <td>-2.9524</td>\n",
              "      <td>38.2921</td>\n",
              "    </tr>\n",
              "    <tr>\n",
              "      <th>2</th>\n",
              "      <td>abethr1</td>\n",
              "      <td>['song']</td>\n",
              "      <td>-2.9524</td>\n",
              "      <td>38.2921</td>\n",
              "    </tr>\n",
              "    <tr>\n",
              "      <th>3</th>\n",
              "      <td>abethr1</td>\n",
              "      <td>['song']</td>\n",
              "      <td>-2.9524</td>\n",
              "      <td>38.2921</td>\n",
              "    </tr>\n",
              "    <tr>\n",
              "      <th>4</th>\n",
              "      <td>abethr1</td>\n",
              "      <td>['call', 'song']</td>\n",
              "      <td>-2.9524</td>\n",
              "      <td>38.2921</td>\n",
              "    </tr>\n",
              "  </tbody>\n",
              "</table>\n",
              "</div>\n",
              "      <button class=\"colab-df-convert\" onclick=\"convertToInteractive('df-49dc3732-4f71-4ce0-a87d-0fda2c9b6d20')\"\n",
              "              title=\"Convert this dataframe to an interactive table.\"\n",
              "              style=\"display:none;\">\n",
              "        \n",
              "  <svg xmlns=\"http://www.w3.org/2000/svg\" height=\"24px\"viewBox=\"0 0 24 24\"\n",
              "       width=\"24px\">\n",
              "    <path d=\"M0 0h24v24H0V0z\" fill=\"none\"/>\n",
              "    <path d=\"M18.56 5.44l.94 2.06.94-2.06 2.06-.94-2.06-.94-.94-2.06-.94 2.06-2.06.94zm-11 1L8.5 8.5l.94-2.06 2.06-.94-2.06-.94L8.5 2.5l-.94 2.06-2.06.94zm10 10l.94 2.06.94-2.06 2.06-.94-2.06-.94-.94-2.06-.94 2.06-2.06.94z\"/><path d=\"M17.41 7.96l-1.37-1.37c-.4-.4-.92-.59-1.43-.59-.52 0-1.04.2-1.43.59L10.3 9.45l-7.72 7.72c-.78.78-.78 2.05 0 2.83L4 21.41c.39.39.9.59 1.41.59.51 0 1.02-.2 1.41-.59l7.78-7.78 2.81-2.81c.8-.78.8-2.07 0-2.86zM5.41 20L4 18.59l7.72-7.72 1.47 1.35L5.41 20z\"/>\n",
              "  </svg>\n",
              "      </button>\n",
              "      \n",
              "  <style>\n",
              "    .colab-df-container {\n",
              "      display:flex;\n",
              "      flex-wrap:wrap;\n",
              "      gap: 12px;\n",
              "    }\n",
              "\n",
              "    .colab-df-convert {\n",
              "      background-color: #E8F0FE;\n",
              "      border: none;\n",
              "      border-radius: 50%;\n",
              "      cursor: pointer;\n",
              "      display: none;\n",
              "      fill: #1967D2;\n",
              "      height: 32px;\n",
              "      padding: 0 0 0 0;\n",
              "      width: 32px;\n",
              "    }\n",
              "\n",
              "    .colab-df-convert:hover {\n",
              "      background-color: #E2EBFA;\n",
              "      box-shadow: 0px 1px 2px rgba(60, 64, 67, 0.3), 0px 1px 3px 1px rgba(60, 64, 67, 0.15);\n",
              "      fill: #174EA6;\n",
              "    }\n",
              "\n",
              "    [theme=dark] .colab-df-convert {\n",
              "      background-color: #3B4455;\n",
              "      fill: #D2E3FC;\n",
              "    }\n",
              "\n",
              "    [theme=dark] .colab-df-convert:hover {\n",
              "      background-color: #434B5C;\n",
              "      box-shadow: 0px 1px 3px 1px rgba(0, 0, 0, 0.15);\n",
              "      filter: drop-shadow(0px 1px 2px rgba(0, 0, 0, 0.3));\n",
              "      fill: #FFFFFF;\n",
              "    }\n",
              "  </style>\n",
              "\n",
              "      <script>\n",
              "        const buttonEl =\n",
              "          document.querySelector('#df-49dc3732-4f71-4ce0-a87d-0fda2c9b6d20 button.colab-df-convert');\n",
              "        buttonEl.style.display =\n",
              "          google.colab.kernel.accessAllowed ? 'block' : 'none';\n",
              "\n",
              "        async function convertToInteractive(key) {\n",
              "          const element = document.querySelector('#df-49dc3732-4f71-4ce0-a87d-0fda2c9b6d20');\n",
              "          const dataTable =\n",
              "            await google.colab.kernel.invokeFunction('convertToInteractive',\n",
              "                                                     [key], {});\n",
              "          if (!dataTable) return;\n",
              "\n",
              "          const docLinkHtml = 'Like what you see? Visit the ' +\n",
              "            '<a target=\"_blank\" href=https://colab.research.google.com/notebooks/data_table.ipynb>data table notebook</a>'\n",
              "            + ' to learn more about interactive tables.';\n",
              "          element.innerHTML = '';\n",
              "          dataTable['output_type'] = 'display_data';\n",
              "          await google.colab.output.renderOutput(dataTable, element);\n",
              "          const docLink = document.createElement('div');\n",
              "          docLink.innerHTML = docLinkHtml;\n",
              "          element.appendChild(docLink);\n",
              "        }\n",
              "      </script>\n",
              "    </div>\n",
              "  </div>\n",
              "  "
            ]
          },
          "metadata": {},
          "execution_count": 18
        }
      ],
      "source": [
        "df.drop(['scientific_name', 'common_name', 'author', 'license', 'rating', 'url', 'secondary_labels', 'filename'], axis=1, inplace=True)\n",
        "df.head()"
      ]
    },
    {
      "cell_type": "code",
      "source": [
        "types = []\n",
        "for item in df['type']:\n",
        "  types.append(ast.literal_eval(item))\n",
        "types = np.array(types, dtype=object)\n",
        "unique_types = np.unique(np.concatenate(np.array(types, dtype=object)))\n",
        "\n",
        "unique_types.shape, types.shape"
      ],
      "metadata": {
        "colab": {
          "base_uri": "https://localhost:8080/"
        },
        "id": "bQhPncapHOdm",
        "outputId": "904dea67-711a-4b6e-9653-a51ca8674445"
      },
      "execution_count": 19,
      "outputs": [
        {
          "output_type": "execute_result",
          "data": {
            "text/plain": [
              "((399,), (16941,))"
            ]
          },
          "metadata": {},
          "execution_count": 19
        }
      ]
    },
    {
      "cell_type": "code",
      "source": [
        "value_to_idx = {value: idx for idx, value in enumerate(unique_types)}\n",
        "one_hot_data = dok_matrix((types.shape[0], len(unique_types)), dtype=np.float32)\n",
        "\n",
        "# Iterate over each row in the data array\n",
        "for i, row in enumerate(types):\n",
        "    # Iterate over each value in the row\n",
        "    for value in row:\n",
        "        # Get the index of the value in the 1D array\n",
        "        idx = value_to_idx[value]\n",
        "        # Set the corresponding element in the one-hot encoded row to 1\n",
        "        one_hot_data[i, idx] = 1\n",
        "\n",
        "# Convert the dok_matrix to a numpy array\n",
        "one_hot_data = one_hot_data.toarray()"
      ],
      "metadata": {
        "id": "GUt42O5GKOQW"
      },
      "execution_count": 20,
      "outputs": []
    },
    {
      "cell_type": "code",
      "source": [
        "df_one_hot = pd.DataFrame(one_hot_data, columns=unique_types)\n",
        "df = pd.concat([df, df_one_hot], axis=1)\n",
        "df.head()"
      ],
      "metadata": {
        "colab": {
          "base_uri": "https://localhost:8080/",
          "height": 369
        },
        "id": "gALkOXJKM5-W",
        "outputId": "effda414-f1e6-4228-cb5c-6afb0438e426"
      },
      "execution_count": 21,
      "outputs": [
        {
          "output_type": "execute_result",
          "data": {
            "text/plain": [
              "  primary_label              type  latitude  longitude       \"S\" call  \\\n",
              "0       abethr1          ['song']    4.3906    38.2788  0.0       0.0   \n",
              "1       abethr1          ['call']   -2.9524    38.2921  0.0       0.0   \n",
              "2       abethr1          ['song']   -2.9524    38.2921  0.0       0.0   \n",
              "3       abethr1          ['song']   -2.9524    38.2921  0.0       0.0   \n",
              "4       abethr1  ['call', 'song']   -2.9524    38.2921  0.0       0.0   \n",
              "\n",
              "   \"huiit and sssshh call\"  \"tew\" calls  \"tilit\" call  \"tiouk\"  ...  \\\n",
              "0                      0.0          0.0           0.0      0.0  ...   \n",
              "1                      0.0          0.0           0.0      0.0  ...   \n",
              "2                      0.0          0.0           0.0      0.0  ...   \n",
              "3                      0.0          0.0           0.0      0.0  ...   \n",
              "4                      0.0          0.0           0.0      0.0  ...   \n",
              "\n",
              "   wing sound  wing sounds  wing-beats  wing-snapping  wingbeats  wings  \\\n",
              "0         0.0          0.0         0.0            0.0        0.0    0.0   \n",
              "1         0.0          0.0         0.0            0.0        0.0    0.0   \n",
              "2         0.0          0.0         0.0            0.0        0.0    0.0   \n",
              "3         0.0          0.0         0.0            0.0        0.0    0.0   \n",
              "4         0.0          0.0         0.0            0.0        0.0    0.0   \n",
              "\n",
              "   wings beats  wings flapping sound  wingsong  wood pigeon  \n",
              "0          0.0                   0.0       0.0          0.0  \n",
              "1          0.0                   0.0       0.0          0.0  \n",
              "2          0.0                   0.0       0.0          0.0  \n",
              "3          0.0                   0.0       0.0          0.0  \n",
              "4          0.0                   0.0       0.0          0.0  \n",
              "\n",
              "[5 rows x 403 columns]"
            ],
            "text/html": [
              "\n",
              "  <div id=\"df-5072fd13-a705-40bb-a887-f9228bec810b\">\n",
              "    <div class=\"colab-df-container\">\n",
              "      <div>\n",
              "<style scoped>\n",
              "    .dataframe tbody tr th:only-of-type {\n",
              "        vertical-align: middle;\n",
              "    }\n",
              "\n",
              "    .dataframe tbody tr th {\n",
              "        vertical-align: top;\n",
              "    }\n",
              "\n",
              "    .dataframe thead th {\n",
              "        text-align: right;\n",
              "    }\n",
              "</style>\n",
              "<table border=\"1\" class=\"dataframe\">\n",
              "  <thead>\n",
              "    <tr style=\"text-align: right;\">\n",
              "      <th></th>\n",
              "      <th>primary_label</th>\n",
              "      <th>type</th>\n",
              "      <th>latitude</th>\n",
              "      <th>longitude</th>\n",
              "      <th></th>\n",
              "      <th>\"S\" call</th>\n",
              "      <th>\"huiit and sssshh call\"</th>\n",
              "      <th>\"tew\" calls</th>\n",
              "      <th>\"tilit\" call</th>\n",
              "      <th>\"tiouk\"</th>\n",
              "      <th>...</th>\n",
              "      <th>wing sound</th>\n",
              "      <th>wing sounds</th>\n",
              "      <th>wing-beats</th>\n",
              "      <th>wing-snapping</th>\n",
              "      <th>wingbeats</th>\n",
              "      <th>wings</th>\n",
              "      <th>wings beats</th>\n",
              "      <th>wings flapping sound</th>\n",
              "      <th>wingsong</th>\n",
              "      <th>wood pigeon</th>\n",
              "    </tr>\n",
              "  </thead>\n",
              "  <tbody>\n",
              "    <tr>\n",
              "      <th>0</th>\n",
              "      <td>abethr1</td>\n",
              "      <td>['song']</td>\n",
              "      <td>4.3906</td>\n",
              "      <td>38.2788</td>\n",
              "      <td>0.0</td>\n",
              "      <td>0.0</td>\n",
              "      <td>0.0</td>\n",
              "      <td>0.0</td>\n",
              "      <td>0.0</td>\n",
              "      <td>0.0</td>\n",
              "      <td>...</td>\n",
              "      <td>0.0</td>\n",
              "      <td>0.0</td>\n",
              "      <td>0.0</td>\n",
              "      <td>0.0</td>\n",
              "      <td>0.0</td>\n",
              "      <td>0.0</td>\n",
              "      <td>0.0</td>\n",
              "      <td>0.0</td>\n",
              "      <td>0.0</td>\n",
              "      <td>0.0</td>\n",
              "    </tr>\n",
              "    <tr>\n",
              "      <th>1</th>\n",
              "      <td>abethr1</td>\n",
              "      <td>['call']</td>\n",
              "      <td>-2.9524</td>\n",
              "      <td>38.2921</td>\n",
              "      <td>0.0</td>\n",
              "      <td>0.0</td>\n",
              "      <td>0.0</td>\n",
              "      <td>0.0</td>\n",
              "      <td>0.0</td>\n",
              "      <td>0.0</td>\n",
              "      <td>...</td>\n",
              "      <td>0.0</td>\n",
              "      <td>0.0</td>\n",
              "      <td>0.0</td>\n",
              "      <td>0.0</td>\n",
              "      <td>0.0</td>\n",
              "      <td>0.0</td>\n",
              "      <td>0.0</td>\n",
              "      <td>0.0</td>\n",
              "      <td>0.0</td>\n",
              "      <td>0.0</td>\n",
              "    </tr>\n",
              "    <tr>\n",
              "      <th>2</th>\n",
              "      <td>abethr1</td>\n",
              "      <td>['song']</td>\n",
              "      <td>-2.9524</td>\n",
              "      <td>38.2921</td>\n",
              "      <td>0.0</td>\n",
              "      <td>0.0</td>\n",
              "      <td>0.0</td>\n",
              "      <td>0.0</td>\n",
              "      <td>0.0</td>\n",
              "      <td>0.0</td>\n",
              "      <td>...</td>\n",
              "      <td>0.0</td>\n",
              "      <td>0.0</td>\n",
              "      <td>0.0</td>\n",
              "      <td>0.0</td>\n",
              "      <td>0.0</td>\n",
              "      <td>0.0</td>\n",
              "      <td>0.0</td>\n",
              "      <td>0.0</td>\n",
              "      <td>0.0</td>\n",
              "      <td>0.0</td>\n",
              "    </tr>\n",
              "    <tr>\n",
              "      <th>3</th>\n",
              "      <td>abethr1</td>\n",
              "      <td>['song']</td>\n",
              "      <td>-2.9524</td>\n",
              "      <td>38.2921</td>\n",
              "      <td>0.0</td>\n",
              "      <td>0.0</td>\n",
              "      <td>0.0</td>\n",
              "      <td>0.0</td>\n",
              "      <td>0.0</td>\n",
              "      <td>0.0</td>\n",
              "      <td>...</td>\n",
              "      <td>0.0</td>\n",
              "      <td>0.0</td>\n",
              "      <td>0.0</td>\n",
              "      <td>0.0</td>\n",
              "      <td>0.0</td>\n",
              "      <td>0.0</td>\n",
              "      <td>0.0</td>\n",
              "      <td>0.0</td>\n",
              "      <td>0.0</td>\n",
              "      <td>0.0</td>\n",
              "    </tr>\n",
              "    <tr>\n",
              "      <th>4</th>\n",
              "      <td>abethr1</td>\n",
              "      <td>['call', 'song']</td>\n",
              "      <td>-2.9524</td>\n",
              "      <td>38.2921</td>\n",
              "      <td>0.0</td>\n",
              "      <td>0.0</td>\n",
              "      <td>0.0</td>\n",
              "      <td>0.0</td>\n",
              "      <td>0.0</td>\n",
              "      <td>0.0</td>\n",
              "      <td>...</td>\n",
              "      <td>0.0</td>\n",
              "      <td>0.0</td>\n",
              "      <td>0.0</td>\n",
              "      <td>0.0</td>\n",
              "      <td>0.0</td>\n",
              "      <td>0.0</td>\n",
              "      <td>0.0</td>\n",
              "      <td>0.0</td>\n",
              "      <td>0.0</td>\n",
              "      <td>0.0</td>\n",
              "    </tr>\n",
              "  </tbody>\n",
              "</table>\n",
              "<p>5 rows × 403 columns</p>\n",
              "</div>\n",
              "      <button class=\"colab-df-convert\" onclick=\"convertToInteractive('df-5072fd13-a705-40bb-a887-f9228bec810b')\"\n",
              "              title=\"Convert this dataframe to an interactive table.\"\n",
              "              style=\"display:none;\">\n",
              "        \n",
              "  <svg xmlns=\"http://www.w3.org/2000/svg\" height=\"24px\"viewBox=\"0 0 24 24\"\n",
              "       width=\"24px\">\n",
              "    <path d=\"M0 0h24v24H0V0z\" fill=\"none\"/>\n",
              "    <path d=\"M18.56 5.44l.94 2.06.94-2.06 2.06-.94-2.06-.94-.94-2.06-.94 2.06-2.06.94zm-11 1L8.5 8.5l.94-2.06 2.06-.94-2.06-.94L8.5 2.5l-.94 2.06-2.06.94zm10 10l.94 2.06.94-2.06 2.06-.94-2.06-.94-.94-2.06-.94 2.06-2.06.94z\"/><path d=\"M17.41 7.96l-1.37-1.37c-.4-.4-.92-.59-1.43-.59-.52 0-1.04.2-1.43.59L10.3 9.45l-7.72 7.72c-.78.78-.78 2.05 0 2.83L4 21.41c.39.39.9.59 1.41.59.51 0 1.02-.2 1.41-.59l7.78-7.78 2.81-2.81c.8-.78.8-2.07 0-2.86zM5.41 20L4 18.59l7.72-7.72 1.47 1.35L5.41 20z\"/>\n",
              "  </svg>\n",
              "      </button>\n",
              "      \n",
              "  <style>\n",
              "    .colab-df-container {\n",
              "      display:flex;\n",
              "      flex-wrap:wrap;\n",
              "      gap: 12px;\n",
              "    }\n",
              "\n",
              "    .colab-df-convert {\n",
              "      background-color: #E8F0FE;\n",
              "      border: none;\n",
              "      border-radius: 50%;\n",
              "      cursor: pointer;\n",
              "      display: none;\n",
              "      fill: #1967D2;\n",
              "      height: 32px;\n",
              "      padding: 0 0 0 0;\n",
              "      width: 32px;\n",
              "    }\n",
              "\n",
              "    .colab-df-convert:hover {\n",
              "      background-color: #E2EBFA;\n",
              "      box-shadow: 0px 1px 2px rgba(60, 64, 67, 0.3), 0px 1px 3px 1px rgba(60, 64, 67, 0.15);\n",
              "      fill: #174EA6;\n",
              "    }\n",
              "\n",
              "    [theme=dark] .colab-df-convert {\n",
              "      background-color: #3B4455;\n",
              "      fill: #D2E3FC;\n",
              "    }\n",
              "\n",
              "    [theme=dark] .colab-df-convert:hover {\n",
              "      background-color: #434B5C;\n",
              "      box-shadow: 0px 1px 3px 1px rgba(0, 0, 0, 0.15);\n",
              "      filter: drop-shadow(0px 1px 2px rgba(0, 0, 0, 0.3));\n",
              "      fill: #FFFFFF;\n",
              "    }\n",
              "  </style>\n",
              "\n",
              "      <script>\n",
              "        const buttonEl =\n",
              "          document.querySelector('#df-5072fd13-a705-40bb-a887-f9228bec810b button.colab-df-convert');\n",
              "        buttonEl.style.display =\n",
              "          google.colab.kernel.accessAllowed ? 'block' : 'none';\n",
              "\n",
              "        async function convertToInteractive(key) {\n",
              "          const element = document.querySelector('#df-5072fd13-a705-40bb-a887-f9228bec810b');\n",
              "          const dataTable =\n",
              "            await google.colab.kernel.invokeFunction('convertToInteractive',\n",
              "                                                     [key], {});\n",
              "          if (!dataTable) return;\n",
              "\n",
              "          const docLinkHtml = 'Like what you see? Visit the ' +\n",
              "            '<a target=\"_blank\" href=https://colab.research.google.com/notebooks/data_table.ipynb>data table notebook</a>'\n",
              "            + ' to learn more about interactive tables.';\n",
              "          element.innerHTML = '';\n",
              "          dataTable['output_type'] = 'display_data';\n",
              "          await google.colab.output.renderOutput(dataTable, element);\n",
              "          const docLink = document.createElement('div');\n",
              "          docLink.innerHTML = docLinkHtml;\n",
              "          element.appendChild(docLink);\n",
              "        }\n",
              "      </script>\n",
              "    </div>\n",
              "  </div>\n",
              "  "
            ]
          },
          "metadata": {},
          "execution_count": 21
        }
      ]
    },
    {
      "cell_type": "code",
      "execution_count": 22,
      "metadata": {
        "id": "VMo_QKfsSYMf"
      },
      "outputs": [],
      "source": [
        "df.dropna(axis=0, inplace=True)\n",
        "df.drop(['type'], axis=1, inplace=True)"
      ]
    },
    {
      "cell_type": "code",
      "execution_count": 23,
      "metadata": {
        "colab": {
          "base_uri": "https://localhost:8080/",
          "height": 331
        },
        "id": "dmvCK84GSYMg",
        "outputId": "f90ce040-8d24-463e-e7db-9d95b37f29a2"
      },
      "outputs": [
        {
          "output_type": "execute_result",
          "data": {
            "text/plain": [
              "   latitude  longitude       \"S\" call  \"huiit and sssshh call\"  \"tew\" calls  \\\n",
              "0    4.3906    38.2788  0.0       0.0                      0.0          0.0   \n",
              "1   -2.9524    38.2921  0.0       0.0                      0.0          0.0   \n",
              "2   -2.9524    38.2921  0.0       0.0                      0.0          0.0   \n",
              "3   -2.9524    38.2921  0.0       0.0                      0.0          0.0   \n",
              "4   -2.9524    38.2921  0.0       0.0                      0.0          0.0   \n",
              "\n",
              "   \"tilit\" call  \"tiouk\"  \"tjirr\"    $  ...  wing sound  wing sounds  \\\n",
              "0           0.0      0.0      0.0  0.0  ...         0.0          0.0   \n",
              "1           0.0      0.0      0.0  0.0  ...         0.0          0.0   \n",
              "2           0.0      0.0      0.0  0.0  ...         0.0          0.0   \n",
              "3           0.0      0.0      0.0  0.0  ...         0.0          0.0   \n",
              "4           0.0      0.0      0.0  0.0  ...         0.0          0.0   \n",
              "\n",
              "   wing-beats  wing-snapping  wingbeats  wings  wings beats  \\\n",
              "0         0.0            0.0        0.0    0.0          0.0   \n",
              "1         0.0            0.0        0.0    0.0          0.0   \n",
              "2         0.0            0.0        0.0    0.0          0.0   \n",
              "3         0.0            0.0        0.0    0.0          0.0   \n",
              "4         0.0            0.0        0.0    0.0          0.0   \n",
              "\n",
              "   wings flapping sound  wingsong  wood pigeon  \n",
              "0                   0.0       0.0          0.0  \n",
              "1                   0.0       0.0          0.0  \n",
              "2                   0.0       0.0          0.0  \n",
              "3                   0.0       0.0          0.0  \n",
              "4                   0.0       0.0          0.0  \n",
              "\n",
              "[5 rows x 401 columns]"
            ],
            "text/html": [
              "\n",
              "  <div id=\"df-7d550bc7-7ba1-4fbf-a4f8-92e13148e66f\">\n",
              "    <div class=\"colab-df-container\">\n",
              "      <div>\n",
              "<style scoped>\n",
              "    .dataframe tbody tr th:only-of-type {\n",
              "        vertical-align: middle;\n",
              "    }\n",
              "\n",
              "    .dataframe tbody tr th {\n",
              "        vertical-align: top;\n",
              "    }\n",
              "\n",
              "    .dataframe thead th {\n",
              "        text-align: right;\n",
              "    }\n",
              "</style>\n",
              "<table border=\"1\" class=\"dataframe\">\n",
              "  <thead>\n",
              "    <tr style=\"text-align: right;\">\n",
              "      <th></th>\n",
              "      <th>latitude</th>\n",
              "      <th>longitude</th>\n",
              "      <th></th>\n",
              "      <th>\"S\" call</th>\n",
              "      <th>\"huiit and sssshh call\"</th>\n",
              "      <th>\"tew\" calls</th>\n",
              "      <th>\"tilit\" call</th>\n",
              "      <th>\"tiouk\"</th>\n",
              "      <th>\"tjirr\"</th>\n",
              "      <th>$</th>\n",
              "      <th>...</th>\n",
              "      <th>wing sound</th>\n",
              "      <th>wing sounds</th>\n",
              "      <th>wing-beats</th>\n",
              "      <th>wing-snapping</th>\n",
              "      <th>wingbeats</th>\n",
              "      <th>wings</th>\n",
              "      <th>wings beats</th>\n",
              "      <th>wings flapping sound</th>\n",
              "      <th>wingsong</th>\n",
              "      <th>wood pigeon</th>\n",
              "    </tr>\n",
              "  </thead>\n",
              "  <tbody>\n",
              "    <tr>\n",
              "      <th>0</th>\n",
              "      <td>4.3906</td>\n",
              "      <td>38.2788</td>\n",
              "      <td>0.0</td>\n",
              "      <td>0.0</td>\n",
              "      <td>0.0</td>\n",
              "      <td>0.0</td>\n",
              "      <td>0.0</td>\n",
              "      <td>0.0</td>\n",
              "      <td>0.0</td>\n",
              "      <td>0.0</td>\n",
              "      <td>...</td>\n",
              "      <td>0.0</td>\n",
              "      <td>0.0</td>\n",
              "      <td>0.0</td>\n",
              "      <td>0.0</td>\n",
              "      <td>0.0</td>\n",
              "      <td>0.0</td>\n",
              "      <td>0.0</td>\n",
              "      <td>0.0</td>\n",
              "      <td>0.0</td>\n",
              "      <td>0.0</td>\n",
              "    </tr>\n",
              "    <tr>\n",
              "      <th>1</th>\n",
              "      <td>-2.9524</td>\n",
              "      <td>38.2921</td>\n",
              "      <td>0.0</td>\n",
              "      <td>0.0</td>\n",
              "      <td>0.0</td>\n",
              "      <td>0.0</td>\n",
              "      <td>0.0</td>\n",
              "      <td>0.0</td>\n",
              "      <td>0.0</td>\n",
              "      <td>0.0</td>\n",
              "      <td>...</td>\n",
              "      <td>0.0</td>\n",
              "      <td>0.0</td>\n",
              "      <td>0.0</td>\n",
              "      <td>0.0</td>\n",
              "      <td>0.0</td>\n",
              "      <td>0.0</td>\n",
              "      <td>0.0</td>\n",
              "      <td>0.0</td>\n",
              "      <td>0.0</td>\n",
              "      <td>0.0</td>\n",
              "    </tr>\n",
              "    <tr>\n",
              "      <th>2</th>\n",
              "      <td>-2.9524</td>\n",
              "      <td>38.2921</td>\n",
              "      <td>0.0</td>\n",
              "      <td>0.0</td>\n",
              "      <td>0.0</td>\n",
              "      <td>0.0</td>\n",
              "      <td>0.0</td>\n",
              "      <td>0.0</td>\n",
              "      <td>0.0</td>\n",
              "      <td>0.0</td>\n",
              "      <td>...</td>\n",
              "      <td>0.0</td>\n",
              "      <td>0.0</td>\n",
              "      <td>0.0</td>\n",
              "      <td>0.0</td>\n",
              "      <td>0.0</td>\n",
              "      <td>0.0</td>\n",
              "      <td>0.0</td>\n",
              "      <td>0.0</td>\n",
              "      <td>0.0</td>\n",
              "      <td>0.0</td>\n",
              "    </tr>\n",
              "    <tr>\n",
              "      <th>3</th>\n",
              "      <td>-2.9524</td>\n",
              "      <td>38.2921</td>\n",
              "      <td>0.0</td>\n",
              "      <td>0.0</td>\n",
              "      <td>0.0</td>\n",
              "      <td>0.0</td>\n",
              "      <td>0.0</td>\n",
              "      <td>0.0</td>\n",
              "      <td>0.0</td>\n",
              "      <td>0.0</td>\n",
              "      <td>...</td>\n",
              "      <td>0.0</td>\n",
              "      <td>0.0</td>\n",
              "      <td>0.0</td>\n",
              "      <td>0.0</td>\n",
              "      <td>0.0</td>\n",
              "      <td>0.0</td>\n",
              "      <td>0.0</td>\n",
              "      <td>0.0</td>\n",
              "      <td>0.0</td>\n",
              "      <td>0.0</td>\n",
              "    </tr>\n",
              "    <tr>\n",
              "      <th>4</th>\n",
              "      <td>-2.9524</td>\n",
              "      <td>38.2921</td>\n",
              "      <td>0.0</td>\n",
              "      <td>0.0</td>\n",
              "      <td>0.0</td>\n",
              "      <td>0.0</td>\n",
              "      <td>0.0</td>\n",
              "      <td>0.0</td>\n",
              "      <td>0.0</td>\n",
              "      <td>0.0</td>\n",
              "      <td>...</td>\n",
              "      <td>0.0</td>\n",
              "      <td>0.0</td>\n",
              "      <td>0.0</td>\n",
              "      <td>0.0</td>\n",
              "      <td>0.0</td>\n",
              "      <td>0.0</td>\n",
              "      <td>0.0</td>\n",
              "      <td>0.0</td>\n",
              "      <td>0.0</td>\n",
              "      <td>0.0</td>\n",
              "    </tr>\n",
              "  </tbody>\n",
              "</table>\n",
              "<p>5 rows × 401 columns</p>\n",
              "</div>\n",
              "      <button class=\"colab-df-convert\" onclick=\"convertToInteractive('df-7d550bc7-7ba1-4fbf-a4f8-92e13148e66f')\"\n",
              "              title=\"Convert this dataframe to an interactive table.\"\n",
              "              style=\"display:none;\">\n",
              "        \n",
              "  <svg xmlns=\"http://www.w3.org/2000/svg\" height=\"24px\"viewBox=\"0 0 24 24\"\n",
              "       width=\"24px\">\n",
              "    <path d=\"M0 0h24v24H0V0z\" fill=\"none\"/>\n",
              "    <path d=\"M18.56 5.44l.94 2.06.94-2.06 2.06-.94-2.06-.94-.94-2.06-.94 2.06-2.06.94zm-11 1L8.5 8.5l.94-2.06 2.06-.94-2.06-.94L8.5 2.5l-.94 2.06-2.06.94zm10 10l.94 2.06.94-2.06 2.06-.94-2.06-.94-.94-2.06-.94 2.06-2.06.94z\"/><path d=\"M17.41 7.96l-1.37-1.37c-.4-.4-.92-.59-1.43-.59-.52 0-1.04.2-1.43.59L10.3 9.45l-7.72 7.72c-.78.78-.78 2.05 0 2.83L4 21.41c.39.39.9.59 1.41.59.51 0 1.02-.2 1.41-.59l7.78-7.78 2.81-2.81c.8-.78.8-2.07 0-2.86zM5.41 20L4 18.59l7.72-7.72 1.47 1.35L5.41 20z\"/>\n",
              "  </svg>\n",
              "      </button>\n",
              "      \n",
              "  <style>\n",
              "    .colab-df-container {\n",
              "      display:flex;\n",
              "      flex-wrap:wrap;\n",
              "      gap: 12px;\n",
              "    }\n",
              "\n",
              "    .colab-df-convert {\n",
              "      background-color: #E8F0FE;\n",
              "      border: none;\n",
              "      border-radius: 50%;\n",
              "      cursor: pointer;\n",
              "      display: none;\n",
              "      fill: #1967D2;\n",
              "      height: 32px;\n",
              "      padding: 0 0 0 0;\n",
              "      width: 32px;\n",
              "    }\n",
              "\n",
              "    .colab-df-convert:hover {\n",
              "      background-color: #E2EBFA;\n",
              "      box-shadow: 0px 1px 2px rgba(60, 64, 67, 0.3), 0px 1px 3px 1px rgba(60, 64, 67, 0.15);\n",
              "      fill: #174EA6;\n",
              "    }\n",
              "\n",
              "    [theme=dark] .colab-df-convert {\n",
              "      background-color: #3B4455;\n",
              "      fill: #D2E3FC;\n",
              "    }\n",
              "\n",
              "    [theme=dark] .colab-df-convert:hover {\n",
              "      background-color: #434B5C;\n",
              "      box-shadow: 0px 1px 3px 1px rgba(0, 0, 0, 0.15);\n",
              "      filter: drop-shadow(0px 1px 2px rgba(0, 0, 0, 0.3));\n",
              "      fill: #FFFFFF;\n",
              "    }\n",
              "  </style>\n",
              "\n",
              "      <script>\n",
              "        const buttonEl =\n",
              "          document.querySelector('#df-7d550bc7-7ba1-4fbf-a4f8-92e13148e66f button.colab-df-convert');\n",
              "        buttonEl.style.display =\n",
              "          google.colab.kernel.accessAllowed ? 'block' : 'none';\n",
              "\n",
              "        async function convertToInteractive(key) {\n",
              "          const element = document.querySelector('#df-7d550bc7-7ba1-4fbf-a4f8-92e13148e66f');\n",
              "          const dataTable =\n",
              "            await google.colab.kernel.invokeFunction('convertToInteractive',\n",
              "                                                     [key], {});\n",
              "          if (!dataTable) return;\n",
              "\n",
              "          const docLinkHtml = 'Like what you see? Visit the ' +\n",
              "            '<a target=\"_blank\" href=https://colab.research.google.com/notebooks/data_table.ipynb>data table notebook</a>'\n",
              "            + ' to learn more about interactive tables.';\n",
              "          element.innerHTML = '';\n",
              "          dataTable['output_type'] = 'display_data';\n",
              "          await google.colab.output.renderOutput(dataTable, element);\n",
              "          const docLink = document.createElement('div');\n",
              "          docLink.innerHTML = docLinkHtml;\n",
              "          element.appendChild(docLink);\n",
              "        }\n",
              "      </script>\n",
              "    </div>\n",
              "  </div>\n",
              "  "
            ]
          },
          "metadata": {},
          "execution_count": 23
        }
      ],
      "source": [
        "X = df.drop(['primary_label'], axis=1)\n",
        "X.head()"
      ]
    },
    {
      "cell_type": "code",
      "execution_count": 24,
      "metadata": {
        "colab": {
          "base_uri": "https://localhost:8080/",
          "height": 423
        },
        "id": "oz7my4AASYMg",
        "outputId": "8725060a-dfc4-4996-d334-897a48d4e794"
      },
      "outputs": [
        {
          "output_type": "execute_result",
          "data": {
            "text/plain": [
              "       primary_label\n",
              "0                  0\n",
              "1                  0\n",
              "2                  0\n",
              "3                  0\n",
              "4                  0\n",
              "...              ...\n",
              "16936            263\n",
              "16937            263\n",
              "16938            263\n",
              "16939            263\n",
              "16940            263\n",
              "\n",
              "[16714 rows x 1 columns]"
            ],
            "text/html": [
              "\n",
              "  <div id=\"df-a426ebc6-a5ad-4db4-ba22-f95ad62b6ea1\">\n",
              "    <div class=\"colab-df-container\">\n",
              "      <div>\n",
              "<style scoped>\n",
              "    .dataframe tbody tr th:only-of-type {\n",
              "        vertical-align: middle;\n",
              "    }\n",
              "\n",
              "    .dataframe tbody tr th {\n",
              "        vertical-align: top;\n",
              "    }\n",
              "\n",
              "    .dataframe thead th {\n",
              "        text-align: right;\n",
              "    }\n",
              "</style>\n",
              "<table border=\"1\" class=\"dataframe\">\n",
              "  <thead>\n",
              "    <tr style=\"text-align: right;\">\n",
              "      <th></th>\n",
              "      <th>primary_label</th>\n",
              "    </tr>\n",
              "  </thead>\n",
              "  <tbody>\n",
              "    <tr>\n",
              "      <th>0</th>\n",
              "      <td>0</td>\n",
              "    </tr>\n",
              "    <tr>\n",
              "      <th>1</th>\n",
              "      <td>0</td>\n",
              "    </tr>\n",
              "    <tr>\n",
              "      <th>2</th>\n",
              "      <td>0</td>\n",
              "    </tr>\n",
              "    <tr>\n",
              "      <th>3</th>\n",
              "      <td>0</td>\n",
              "    </tr>\n",
              "    <tr>\n",
              "      <th>4</th>\n",
              "      <td>0</td>\n",
              "    </tr>\n",
              "    <tr>\n",
              "      <th>...</th>\n",
              "      <td>...</td>\n",
              "    </tr>\n",
              "    <tr>\n",
              "      <th>16936</th>\n",
              "      <td>263</td>\n",
              "    </tr>\n",
              "    <tr>\n",
              "      <th>16937</th>\n",
              "      <td>263</td>\n",
              "    </tr>\n",
              "    <tr>\n",
              "      <th>16938</th>\n",
              "      <td>263</td>\n",
              "    </tr>\n",
              "    <tr>\n",
              "      <th>16939</th>\n",
              "      <td>263</td>\n",
              "    </tr>\n",
              "    <tr>\n",
              "      <th>16940</th>\n",
              "      <td>263</td>\n",
              "    </tr>\n",
              "  </tbody>\n",
              "</table>\n",
              "<p>16714 rows × 1 columns</p>\n",
              "</div>\n",
              "      <button class=\"colab-df-convert\" onclick=\"convertToInteractive('df-a426ebc6-a5ad-4db4-ba22-f95ad62b6ea1')\"\n",
              "              title=\"Convert this dataframe to an interactive table.\"\n",
              "              style=\"display:none;\">\n",
              "        \n",
              "  <svg xmlns=\"http://www.w3.org/2000/svg\" height=\"24px\"viewBox=\"0 0 24 24\"\n",
              "       width=\"24px\">\n",
              "    <path d=\"M0 0h24v24H0V0z\" fill=\"none\"/>\n",
              "    <path d=\"M18.56 5.44l.94 2.06.94-2.06 2.06-.94-2.06-.94-.94-2.06-.94 2.06-2.06.94zm-11 1L8.5 8.5l.94-2.06 2.06-.94-2.06-.94L8.5 2.5l-.94 2.06-2.06.94zm10 10l.94 2.06.94-2.06 2.06-.94-2.06-.94-.94-2.06-.94 2.06-2.06.94z\"/><path d=\"M17.41 7.96l-1.37-1.37c-.4-.4-.92-.59-1.43-.59-.52 0-1.04.2-1.43.59L10.3 9.45l-7.72 7.72c-.78.78-.78 2.05 0 2.83L4 21.41c.39.39.9.59 1.41.59.51 0 1.02-.2 1.41-.59l7.78-7.78 2.81-2.81c.8-.78.8-2.07 0-2.86zM5.41 20L4 18.59l7.72-7.72 1.47 1.35L5.41 20z\"/>\n",
              "  </svg>\n",
              "      </button>\n",
              "      \n",
              "  <style>\n",
              "    .colab-df-container {\n",
              "      display:flex;\n",
              "      flex-wrap:wrap;\n",
              "      gap: 12px;\n",
              "    }\n",
              "\n",
              "    .colab-df-convert {\n",
              "      background-color: #E8F0FE;\n",
              "      border: none;\n",
              "      border-radius: 50%;\n",
              "      cursor: pointer;\n",
              "      display: none;\n",
              "      fill: #1967D2;\n",
              "      height: 32px;\n",
              "      padding: 0 0 0 0;\n",
              "      width: 32px;\n",
              "    }\n",
              "\n",
              "    .colab-df-convert:hover {\n",
              "      background-color: #E2EBFA;\n",
              "      box-shadow: 0px 1px 2px rgba(60, 64, 67, 0.3), 0px 1px 3px 1px rgba(60, 64, 67, 0.15);\n",
              "      fill: #174EA6;\n",
              "    }\n",
              "\n",
              "    [theme=dark] .colab-df-convert {\n",
              "      background-color: #3B4455;\n",
              "      fill: #D2E3FC;\n",
              "    }\n",
              "\n",
              "    [theme=dark] .colab-df-convert:hover {\n",
              "      background-color: #434B5C;\n",
              "      box-shadow: 0px 1px 3px 1px rgba(0, 0, 0, 0.15);\n",
              "      filter: drop-shadow(0px 1px 2px rgba(0, 0, 0, 0.3));\n",
              "      fill: #FFFFFF;\n",
              "    }\n",
              "  </style>\n",
              "\n",
              "      <script>\n",
              "        const buttonEl =\n",
              "          document.querySelector('#df-a426ebc6-a5ad-4db4-ba22-f95ad62b6ea1 button.colab-df-convert');\n",
              "        buttonEl.style.display =\n",
              "          google.colab.kernel.accessAllowed ? 'block' : 'none';\n",
              "\n",
              "        async function convertToInteractive(key) {\n",
              "          const element = document.querySelector('#df-a426ebc6-a5ad-4db4-ba22-f95ad62b6ea1');\n",
              "          const dataTable =\n",
              "            await google.colab.kernel.invokeFunction('convertToInteractive',\n",
              "                                                     [key], {});\n",
              "          if (!dataTable) return;\n",
              "\n",
              "          const docLinkHtml = 'Like what you see? Visit the ' +\n",
              "            '<a target=\"_blank\" href=https://colab.research.google.com/notebooks/data_table.ipynb>data table notebook</a>'\n",
              "            + ' to learn more about interactive tables.';\n",
              "          element.innerHTML = '';\n",
              "          dataTable['output_type'] = 'display_data';\n",
              "          await google.colab.output.renderOutput(dataTable, element);\n",
              "          const docLink = document.createElement('div');\n",
              "          docLink.innerHTML = docLinkHtml;\n",
              "          element.appendChild(docLink);\n",
              "        }\n",
              "      </script>\n",
              "    </div>\n",
              "  </div>\n",
              "  "
            ]
          },
          "metadata": {},
          "execution_count": 24
        }
      ],
      "source": [
        "unique_labels = df['primary_label'].unique()\n",
        "y = df['primary_label'].map(pd.Index(unique_labels).get_loc).to_frame()\n",
        "y"
      ]
    },
    {
      "cell_type": "markdown",
      "source": [
        "# Data Management (Yans)"
      ],
      "metadata": {
        "id": "Ihr0KigaOcko"
      }
    },
    {
      "cell_type": "markdown",
      "source": [
        "## Imports"
      ],
      "metadata": {
        "id": "ELgp8SHEOfgo"
      }
    },
    {
      "cell_type": "code",
      "source": [
        "import matplotlib.pyplot as plt\n",
        "from sklearn.decomposition import PCA"
      ],
      "metadata": {
        "id": "UMUALsHWOeq_"
      },
      "execution_count": 25,
      "outputs": []
    },
    {
      "cell_type": "markdown",
      "source": [
        "## Data Augmentation"
      ],
      "metadata": {
        "id": "AtR2Oak_Og26"
      }
    },
    {
      "cell_type": "code",
      "source": [
        "pca = PCA(random_state=RANDOM_STATE).fit(X)\n",
        "plt.plot(np.cumsum(pca.explained_variance_ratio_)[:20])\n",
        "plt.xlabel('number of components')\n",
        "plt.ylabel('cumulative explained variance')\n",
        "plt.grid()"
      ],
      "metadata": {
        "colab": {
          "base_uri": "https://localhost:8080/",
          "height": 449
        },
        "id": "qs8qSJVoOgia",
        "outputId": "b987a9e4-c552-400c-91ab-75817bad5da1"
      },
      "execution_count": 26,
      "outputs": [
        {
          "output_type": "display_data",
          "data": {
            "text/plain": [
              "<Figure size 640x480 with 1 Axes>"
            ],
            "image/png": "[encoded data removed]"
          },
          "metadata": {}
        }
      ]
    },
    {
      "cell_type": "code",
      "source": [
        "np.cumsum(pca.explained_variance_ratio_)[0:3]"
      ],
      "metadata": {
        "colab": {
          "base_uri": "https://localhost:8080/"
        },
        "id": "4LQqKKYtPBZB",
        "outputId": "3a4066e8-d0ca-4b84-a32a-de0a3f5bfd9c"
      },
      "execution_count": 27,
      "outputs": [
        {
          "output_type": "execute_result",
          "data": {
            "text/plain": [
              "array([0.60962798, 0.99934076, 0.99954353])"
            ]
          },
          "metadata": {},
          "execution_count": 27
        }
      ]
    },
    {
      "cell_type": "markdown",
      "source": [
        "Starts off at 1 component with 66% rate, 2 components at 99% rate. Chosen: 2 components"
      ],
      "metadata": {
        "id": "Qo0bEwLiP1q4"
      }
    },
    {
      "cell_type": "code",
      "source": [
        "n_features = 2\n",
        "X_projected = PCA(random_state=RANDOM_STATE, n_components=n_features).fit_transform(X)\n",
        "X_projected.shape"
      ],
      "metadata": {
        "colab": {
          "base_uri": "https://localhost:8080/"
        },
        "id": "5Z0mDG-AT5Hz",
        "outputId": "c044af37-16dc-4168-ad29-8d53cdb447a3"
      },
      "execution_count": 28,
      "outputs": [
        {
          "output_type": "execute_result",
          "data": {
            "text/plain": [
              "(16714, 2)"
            ]
          },
          "metadata": {},
          "execution_count": 28
        }
      ]
    },
    {
      "cell_type": "code",
      "source": [
        "plt.figure(figsize=(7, 7))\n",
        "plt.scatter(X_projected[:, 0], X_projected[:, 1],\n",
        "            c=y.values, edgecolor='none', alpha=0.6,\n",
        "            cmap=plt.cm.get_cmap('Spectral', 10))\n",
        "plt.xlabel('Principal Component 1')\n",
        "plt.ylabel('Principal Component 2')\n",
        "plt.colorbar()"
      ],
      "metadata": {
        "colab": {
          "base_uri": "https://localhost:8080/",
          "height": 694
        },
        "id": "p0yZSerqUQFb",
        "outputId": "ed1d12cc-2d1e-4025-fadc-113e39e941a2"
      },
      "execution_count": 29,
      "outputs": [
        {
          "output_type": "stream",
          "name": "stderr",
          "text": [
            "<ipython-input-29-c17ed88f5509>:4: MatplotlibDeprecationWarning: The get_cmap function was deprecated in Matplotlib 3.7 and will be removed two minor releases later. Use ``matplotlib.colormaps[name]`` or ``matplotlib.colormaps.get_cmap(obj)`` instead.\n",
            "  cmap=plt.cm.get_cmap('Spectral', 10))\n"
          ]
        },
        {
          "output_type": "execute_result",
          "data": {
            "text/plain": [
              "<matplotlib.colorbar.Colorbar at 0x7f9896fa6b20>"
            ]
          },
          "metadata": {},
          "execution_count": 29
        },
        {
          "output_type": "display_data",
          "data": {
            "text/plain": [
              "<Figure size 700x700 with 2 Axes>"
            ],
            "image/png": "[encoded data removed]"
          },
          "metadata": {}
        }
      ]
    },
    {
      "cell_type": "markdown",
      "source": [
        "# Machine Learning"
      ],
      "metadata": {
        "id": "7HCHw8ClFsQw"
      }
    },
    {
      "cell_type": "markdown",
      "source": [
        "## Imports"
      ],
      "metadata": {
        "id": "Y49Uo6w2Fvmq"
      }
    },
    {
      "cell_type": "code",
      "source": [
        "from sklearn.ensemble import GradientBoostingClassifier, RandomForestClassifier\n",
        "from sklearn.tree import DecisionTreeClassifier\n",
        "from sklearn.model_selection import train_test_split, StratifiedShuffleSplit, StratifiedKFold, ShuffleSplit"
      ],
      "metadata": {
        "id": "SCRJGrkmFs38"
      },
      "execution_count": 30,
      "outputs": []
    },
    {
      "cell_type": "markdown",
      "source": [
        "## Data Splitting"
      ],
      "metadata": {
        "id": "Wy5GXnIrFyLu"
      }
    },
    {
      "cell_type": "code",
      "execution_count": 31,
      "metadata": {
        "id": "eMxMJjCASYMg"
      },
      "outputs": [],
      "source": [
        "x_train, x_test, y_train, y_test = train_test_split(X_projected, y, train_size=TRAIN_SIZE, random_state=RANDOM_STATE)"
      ]
    },
    {
      "cell_type": "code",
      "execution_count": 32,
      "metadata": {
        "id": "8ngFihWOhcPo"
      },
      "outputs": [],
      "source": [
        "def get_data_splits(n_splits):\n",
        "  skf = StratifiedKFold(n_splits=n_splits, random_state=RANDOM_STATE, shuffle=True)\n",
        "  splits = []\n",
        "  for train_index, test_index in skf.split(x_train, y_train):\n",
        "    x_val = X_projected\n",
        "    y_val = y.values\n",
        "    X_train, X_test = x_val[train_index], x_val[test_index]\n",
        "    Y_train, Y_test = y_val[train_index], y_val[test_index]\n",
        "    splits.append((X_train, X_test, Y_train, Y_test))\n",
        "  return splits"
      ]
    },
    {
      "cell_type": "markdown",
      "source": [
        "## Decision Trees"
      ],
      "metadata": {
        "id": "vnjJAMqOFz_a"
      }
    },
    {
      "cell_type": "code",
      "execution_count": 33,
      "metadata": {
        "id": "an1Qh1DsbO4R"
      },
      "outputs": [],
      "source": [
        "def run_tree_on_data(X, y, x_test, y_test, clf=None, high_acc=0):\n",
        "  criteria = ['gini', 'entropy', 'log_loss']\n",
        "  max_depth = [None, 5, 10, 15, 20, 30, 50]\n",
        "\n",
        "  for criterion in criteria:\n",
        "    for depth in max_depth:\n",
        "      tree = DecisionTreeClassifier(max_depth=depth, criterion=criterion, random_state=RANDOM_STATE).fit(X, y)\n",
        "      acc = tree.score(x_test, y_test)\n",
        "      if acc > high_acc:\n",
        "        clf = tree\n",
        "        high_acc = acc\n",
        "        print('best tree = criterion: {}, depth: {}, accuracy: {}'.format(criterion, depth, acc))\n",
        "  return clf, high_acc"
      ]
    },
    {
      "cell_type": "code",
      "execution_count": 34,
      "metadata": {
        "colab": {
          "base_uri": "https://localhost:8080/"
        },
        "id": "_sWeNsLjXp6w",
        "outputId": "e185167d-25a2-408c-8166-d6b6e4f43b87"
      },
      "outputs": [
        {
          "output_type": "stream",
          "name": "stdout",
          "text": [
            "Split: 5\n",
            "Fold: 0\n",
            "best tree = criterion: gini, depth: None, accuracy: 0.32863247863247863\n"
          ]
        },
        {
          "output_type": "stream",
          "name": "stderr",
          "text": [
            "/usr/local/lib/python3.9/dist-packages/sklearn/model_selection/_split.py:700: UserWarning: The least populated class in y has only 1 members, which is less than n_splits=5.\n",
            "  warnings.warn(\n"
          ]
        },
        {
          "output_type": "stream",
          "name": "stdout",
          "text": [
            "best tree = criterion: gini, depth: 30, accuracy: 0.33076923076923076\n",
            "best tree = criterion: entropy, depth: None, accuracy: 0.33376068376068374\n",
            "best tree = criterion: entropy, depth: 20, accuracy: 0.33418803418803417\n",
            "Fold: 1\n",
            "best tree = criterion: gini, depth: None, accuracy: 0.3401709401709402\n",
            "best tree = criterion: entropy, depth: None, accuracy: 0.34273504273504274\n",
            "best tree = criterion: entropy, depth: 20, accuracy: 0.34316239316239316\n",
            "Fold: 2\n",
            "Fold: 3\n",
            "best tree = criterion: gini, depth: None, accuracy: 0.3474358974358974\n",
            "best tree = criterion: gini, depth: 30, accuracy: 0.34786324786324785\n",
            "Fold: 4\n",
            "Split: 10\n",
            "Fold: 0\n"
          ]
        },
        {
          "output_type": "stream",
          "name": "stderr",
          "text": [
            "/usr/local/lib/python3.9/dist-packages/sklearn/model_selection/_split.py:700: UserWarning: The least populated class in y has only 1 members, which is less than n_splits=10.\n",
            "  warnings.warn(\n"
          ]
        },
        {
          "output_type": "stream",
          "name": "stdout",
          "text": [
            "Fold: 1\n",
            "best tree = criterion: gini, depth: None, accuracy: 0.3598290598290598\n",
            "Fold: 2\n",
            "Fold: 3\n",
            "Fold: 4\n",
            "Fold: 5\n",
            "Fold: 6\n",
            "Fold: 7\n",
            "Fold: 8\n",
            "Fold: 9\n",
            "Split: 15\n",
            "Fold: 0\n"
          ]
        },
        {
          "output_type": "stream",
          "name": "stderr",
          "text": [
            "/usr/local/lib/python3.9/dist-packages/sklearn/model_selection/_split.py:700: UserWarning: The least populated class in y has only 1 members, which is less than n_splits=15.\n",
            "  warnings.warn(\n"
          ]
        },
        {
          "output_type": "stream",
          "name": "stdout",
          "text": [
            "Fold: 1\n",
            "best tree = criterion: gini, depth: None, accuracy: 0.3730769230769231\n",
            "best tree = criterion: gini, depth: 30, accuracy: 0.37564102564102564\n",
            "Fold: 2\n",
            "Fold: 3\n",
            "Fold: 4\n",
            "Fold: 5\n",
            "Fold: 6\n",
            "Fold: 7\n",
            "Fold: 8\n",
            "Fold: 9\n",
            "Fold: 10\n",
            "best tree = criterion: gini, depth: None, accuracy: 0.3769230769230769\n",
            "best tree = criterion: gini, depth: 30, accuracy: 0.37948717948717947\n",
            "Fold: 11\n",
            "Fold: 12\n",
            "Fold: 13\n",
            "Fold: 14\n",
            "Split: 20\n",
            "Fold: 0\n"
          ]
        },
        {
          "output_type": "stream",
          "name": "stderr",
          "text": [
            "/usr/local/lib/python3.9/dist-packages/sklearn/model_selection/_split.py:700: UserWarning: The least populated class in y has only 1 members, which is less than n_splits=20.\n",
            "  warnings.warn(\n"
          ]
        },
        {
          "output_type": "stream",
          "name": "stdout",
          "text": [
            "Fold: 1\n",
            "best tree = criterion: gini, depth: None, accuracy: 0.38290598290598293\n",
            "Fold: 2\n",
            "Fold: 3\n",
            "Fold: 4\n",
            "Fold: 5\n",
            "Fold: 6\n",
            "Fold: 7\n",
            "Fold: 8\n",
            "Fold: 9\n",
            "Fold: 10\n",
            "Fold: 11\n",
            "Fold: 12\n",
            "Fold: 13\n",
            "Fold: 14\n",
            "Fold: 15\n",
            "Fold: 16\n",
            "Fold: 17\n",
            "Fold: 18\n",
            "Fold: 19\n",
            "Split: 25\n",
            "Fold: 0\n"
          ]
        },
        {
          "output_type": "stream",
          "name": "stderr",
          "text": [
            "/usr/local/lib/python3.9/dist-packages/sklearn/model_selection/_split.py:700: UserWarning: The least populated class in y has only 1 members, which is less than n_splits=25.\n",
            "  warnings.warn(\n"
          ]
        },
        {
          "output_type": "stream",
          "name": "stdout",
          "text": [
            "Fold: 1\n",
            "Fold: 2\n",
            "best tree = criterion: gini, depth: None, accuracy: 0.38461538461538464\n",
            "Fold: 3\n",
            "best tree = criterion: gini, depth: None, accuracy: 0.39316239316239315\n",
            "Fold: 4\n",
            "Fold: 5\n",
            "Fold: 6\n",
            "Fold: 7\n",
            "Fold: 8\n",
            "Fold: 9\n",
            "Fold: 10\n",
            "Fold: 11\n",
            "Fold: 12\n",
            "Fold: 13\n",
            "Fold: 14\n",
            "Fold: 15\n",
            "Fold: 16\n",
            "Fold: 17\n",
            "Fold: 18\n",
            "Fold: 19\n",
            "Fold: 20\n",
            "Fold: 21\n",
            "Fold: 22\n",
            "Fold: 23\n",
            "Fold: 24\n",
            "0.39316239316239315\n",
            "DecisionTreeClassifier(random_state=42)\n"
          ]
        }
      ],
      "source": [
        "tree = None\n",
        "accuracy = 0\n",
        "n_splits = [5, 10, 15, 20, 25]\n",
        "\n",
        "for n_split in n_splits:\n",
        "  print(f'Split: {n_split}')\n",
        "  data_splits = get_data_splits(n_split)\n",
        "  for i, (X_train, X_test, Y_train, Y_test) in enumerate(data_splits):\n",
        "    print(f'Fold: {i}')\n",
        "    tree, accuracy = run_tree_on_data(X_train, Y_train, X_test, Y_test, tree, accuracy)\n",
        "  \n",
        "print(accuracy)\n",
        "print(tree)"
      ]
    },
    {
      "cell_type": "code",
      "execution_count": 35,
      "metadata": {
        "colab": {
          "base_uri": "https://localhost:8080/"
        },
        "id": "V9c2uyleU56I",
        "outputId": "729d779b-756b-4185-a304-a6757898caa9"
      },
      "outputs": [
        {
          "output_type": "execute_result",
          "data": {
            "text/plain": [
              "0.5509471585244268"
            ]
          },
          "metadata": {},
          "execution_count": 35
        }
      ],
      "source": [
        "tree.score(x_test, y_test)"
      ]
    },
    {
      "cell_type": "markdown",
      "source": [
        "## Random Forest"
      ],
      "metadata": {
        "id": "2575p4ZlF1wM"
      }
    },
    {
      "cell_type": "code",
      "execution_count": 67,
      "metadata": {
        "id": "NgS92xK_m7Nk"
      },
      "outputs": [],
      "source": [
        "def run_forest_on_data(X, y, x_test, y_test, tree_kwargs, clf=None, high_acc=0):\n",
        "  criteria = ['gini']\n",
        "  max_depth = [None, 5, 10, 15, 20, 30, 50]\n",
        "  min_samples = [1, 2, 3, 4, 5]\n",
        "  n_estimators = [5, 10, 20, 25, 50, 80, 100, 120, 150, 200]\n",
        "\n",
        "  for criterion in criteria:\n",
        "    for depth in max_depth:\n",
        "      for estimator in n_estimators:\n",
        "        for min_sample in min_samples:\n",
        "          forest = RandomForestClassifier(max_depth=depth, criterion=criterion, n_estimators=estimator, min_samples_leaf=min_sample, random_state=RANDOM_STATE).fit(X, y)\n",
        "          acc = forest.score(x_test, y_test)\n",
        "          if acc > high_acc:\n",
        "            clf = forest\n",
        "            high_acc = acc\n",
        "            print('best forest = criterion: {}, depth: {}, min_samples: {}, n_estimators: {}, accuracy: {}'.format(criterion, depth, min_sample, estimator, acc))\n",
        "  return clf, high_acc"
      ]
    },
    {
      "cell_type": "code",
      "execution_count": 68,
      "metadata": {
        "colab": {
          "base_uri": "https://localhost:8080/",
          "height": 581
        },
        "id": "11n54w1OoebE",
        "outputId": "c4e326cc-20a1-4779-82d6-2c2c526d4a6d"
      },
      "outputs": [
        {
          "output_type": "stream",
          "name": "stdout",
          "text": [
            "Split: 5\n",
            "Fold: 0\n",
            "best forest = criterion: gini, depth: None, min_samples: 1, n_estimators: 5, accuracy: 0.4027777777777778\n"
          ]
        },
        {
          "output_type": "stream",
          "name": "stderr",
          "text": [
            "/usr/local/lib/python3.9/dist-packages/sklearn/model_selection/_split.py:700: UserWarning: The least populated class in y has only 1 members, which is less than n_splits=5.\n",
            "  warnings.warn(\n"
          ]
        },
        {
          "output_type": "stream",
          "name": "stdout",
          "text": [
            "best forest = criterion: gini, depth: None, min_samples: 1, n_estimators: 10, accuracy: 0.41154970760233917\n",
            "best forest = criterion: gini, depth: None, min_samples: 1, n_estimators: 25, accuracy: 0.4144736842105263\n",
            "best forest = criterion: gini, depth: None, min_samples: 1, n_estimators: 50, accuracy: 0.4159356725146199\n",
            "best forest = criterion: gini, depth: None, min_samples: 1, n_estimators: 120, accuracy: 0.4195906432748538\n"
          ]
        },
        {
          "output_type": "error",
          "ename": "KeyboardInterrupt",
          "evalue": "ignored",
          "traceback": [
            "\u001b[0;31m---------------------------------------------------------------------------\u001b[0m",
            "\u001b[0;31mKeyboardInterrupt\u001b[0m                         Traceback (most recent call last)",
            "\u001b[0;32m<ipython-input-68-0950977ee4a1>\u001b[0m in \u001b[0;36m<cell line: 5>\u001b[0;34m()\u001b[0m\n\u001b[1;32m      8\u001b[0m   \u001b[0;32mfor\u001b[0m \u001b[0mi\u001b[0m\u001b[0;34m,\u001b[0m \u001b[0;34m(\u001b[0m\u001b[0mX_train\u001b[0m\u001b[0;34m,\u001b[0m \u001b[0mX_test\u001b[0m\u001b[0;34m,\u001b[0m \u001b[0mY_train\u001b[0m\u001b[0;34m,\u001b[0m \u001b[0mY_test\u001b[0m\u001b[0;34m)\u001b[0m \u001b[0;32min\u001b[0m \u001b[0menumerate\u001b[0m\u001b[0;34m(\u001b[0m\u001b[0mdata_splits\u001b[0m\u001b[0;34m)\u001b[0m\u001b[0;34m:\u001b[0m\u001b[0;34m\u001b[0m\u001b[0;34m\u001b[0m\u001b[0m\n\u001b[1;32m      9\u001b[0m     \u001b[0mprint\u001b[0m\u001b[0;34m(\u001b[0m\u001b[0;34mf'Fold: {i}'\u001b[0m\u001b[0;34m)\u001b[0m\u001b[0;34m\u001b[0m\u001b[0;34m\u001b[0m\u001b[0m\n\u001b[0;32m---> 10\u001b[0;31m     \u001b[0mforest\u001b[0m\u001b[0;34m,\u001b[0m \u001b[0maccuracy\u001b[0m \u001b[0;34m=\u001b[0m \u001b[0mrun_forest_on_data\u001b[0m\u001b[0;34m(\u001b[0m\u001b[0mX_train\u001b[0m\u001b[0;34m,\u001b[0m \u001b[0mY_train\u001b[0m\u001b[0;34m[\u001b[0m\u001b[0;34m:\u001b[0m\u001b[0;34m,\u001b[0m \u001b[0;36m0\u001b[0m\u001b[0;34m]\u001b[0m\u001b[0;34m,\u001b[0m \u001b[0mX_test\u001b[0m\u001b[0;34m,\u001b[0m \u001b[0mY_test\u001b[0m\u001b[0;34m[\u001b[0m\u001b[0;34m:\u001b[0m\u001b[0;34m,\u001b[0m \u001b[0;36m0\u001b[0m\u001b[0;34m]\u001b[0m\u001b[0;34m,\u001b[0m \u001b[0mforest\u001b[0m\u001b[0;34m,\u001b[0m \u001b[0maccuracy\u001b[0m\u001b[0;34m)\u001b[0m\u001b[0;34m\u001b[0m\u001b[0;34m\u001b[0m\u001b[0m\n\u001b[0m\u001b[1;32m     11\u001b[0m \u001b[0;34m\u001b[0m\u001b[0m\n\u001b[1;32m     12\u001b[0m \u001b[0mprint\u001b[0m\u001b[0;34m(\u001b[0m\u001b[0maccuracy\u001b[0m\u001b[0;34m)\u001b[0m\u001b[0;34m\u001b[0m\u001b[0;34m\u001b[0m\u001b[0m\n",
            "\u001b[0;32m<ipython-input-67-69f4b0717772>\u001b[0m in \u001b[0;36mrun_forest_on_data\u001b[0;34m(X, y, x_test, y_test, tree_kwargs, clf, high_acc)\u001b[0m\n\u001b[1;32m      9\u001b[0m       \u001b[0;32mfor\u001b[0m \u001b[0mestimator\u001b[0m \u001b[0;32min\u001b[0m \u001b[0mn_estimators\u001b[0m\u001b[0;34m:\u001b[0m\u001b[0;34m\u001b[0m\u001b[0;34m\u001b[0m\u001b[0m\n\u001b[1;32m     10\u001b[0m         \u001b[0;32mfor\u001b[0m \u001b[0mmin_sample\u001b[0m \u001b[0;32min\u001b[0m \u001b[0mmin_samples\u001b[0m\u001b[0;34m:\u001b[0m\u001b[0;34m\u001b[0m\u001b[0;34m\u001b[0m\u001b[0m\n\u001b[0;32m---> 11\u001b[0;31m           \u001b[0mforest\u001b[0m \u001b[0;34m=\u001b[0m \u001b[0mRandomForestClassifier\u001b[0m\u001b[0;34m(\u001b[0m\u001b[0mmax_depth\u001b[0m\u001b[0;34m=\u001b[0m\u001b[0mdepth\u001b[0m\u001b[0;34m,\u001b[0m \u001b[0mcriterion\u001b[0m\u001b[0;34m=\u001b[0m\u001b[0mcriterion\u001b[0m\u001b[0;34m,\u001b[0m \u001b[0mn_estimators\u001b[0m\u001b[0;34m=\u001b[0m\u001b[0mestimator\u001b[0m\u001b[0;34m,\u001b[0m \u001b[0mmin_samples_leaf\u001b[0m\u001b[0;34m=\u001b[0m\u001b[0mmin_sample\u001b[0m\u001b[0;34m,\u001b[0m \u001b[0mrandom_state\u001b[0m\u001b[0;34m=\u001b[0m\u001b[0mRANDOM_STATE\u001b[0m\u001b[0;34m)\u001b[0m\u001b[0;34m.\u001b[0m\u001b[0mfit\u001b[0m\u001b[0;34m(\u001b[0m\u001b[0mX\u001b[0m\u001b[0;34m,\u001b[0m \u001b[0my\u001b[0m\u001b[0;34m)\u001b[0m\u001b[0;34m\u001b[0m\u001b[0;34m\u001b[0m\u001b[0m\n\u001b[0m\u001b[1;32m     12\u001b[0m           \u001b[0macc\u001b[0m \u001b[0;34m=\u001b[0m \u001b[0mforest\u001b[0m\u001b[0;34m.\u001b[0m\u001b[0mscore\u001b[0m\u001b[0;34m(\u001b[0m\u001b[0mx_test\u001b[0m\u001b[0;34m,\u001b[0m \u001b[0my_test\u001b[0m\u001b[0;34m)\u001b[0m\u001b[0;34m\u001b[0m\u001b[0;34m\u001b[0m\u001b[0m\n\u001b[1;32m     13\u001b[0m           \u001b[0;32mif\u001b[0m \u001b[0macc\u001b[0m \u001b[0;34m>\u001b[0m \u001b[0mhigh_acc\u001b[0m\u001b[0;34m:\u001b[0m\u001b[0;34m\u001b[0m\u001b[0;34m\u001b[0m\u001b[0m\n",
            "\u001b[0;32m/usr/local/lib/python3.9/dist-packages/sklearn/ensemble/_forest.py\u001b[0m in \u001b[0;36mfit\u001b[0;34m(self, X, y, sample_weight)\u001b[0m\n\u001b[1;32m    471\u001b[0m             \u001b[0;31m# parallel_backend contexts set at a higher level,\u001b[0m\u001b[0;34m\u001b[0m\u001b[0;34m\u001b[0m\u001b[0m\n\u001b[1;32m    472\u001b[0m             \u001b[0;31m# since correctness does not rely on using threads.\u001b[0m\u001b[0;34m\u001b[0m\u001b[0;34m\u001b[0m\u001b[0m\n\u001b[0;32m--> 473\u001b[0;31m             trees = Parallel(\n\u001b[0m\u001b[1;32m    474\u001b[0m                 \u001b[0mn_jobs\u001b[0m\u001b[0;34m=\u001b[0m\u001b[0mself\u001b[0m\u001b[0;34m.\u001b[0m\u001b[0mn_jobs\u001b[0m\u001b[0;34m,\u001b[0m\u001b[0;34m\u001b[0m\u001b[0;34m\u001b[0m\u001b[0m\n\u001b[1;32m    475\u001b[0m                 \u001b[0mverbose\u001b[0m\u001b[0;34m=\u001b[0m\u001b[0mself\u001b[0m\u001b[0;34m.\u001b[0m\u001b[0mverbose\u001b[0m\u001b[0;34m,\u001b[0m\u001b[0;34m\u001b[0m\u001b[0;34m\u001b[0m\u001b[0m\n",
            "\u001b[0;32m/usr/local/lib/python3.9/dist-packages/sklearn/utils/parallel.py\u001b[0m in \u001b[0;36m__call__\u001b[0;34m(self, iterable)\u001b[0m\n\u001b[1;32m     61\u001b[0m             \u001b[0;32mfor\u001b[0m \u001b[0mdelayed_func\u001b[0m\u001b[0;34m,\u001b[0m \u001b[0margs\u001b[0m\u001b[0;34m,\u001b[0m \u001b[0mkwargs\u001b[0m \u001b[0;32min\u001b[0m \u001b[0miterable\u001b[0m\u001b[0;34m\u001b[0m\u001b[0;34m\u001b[0m\u001b[0m\n\u001b[1;32m     62\u001b[0m         )\n\u001b[0;32m---> 63\u001b[0;31m         \u001b[0;32mreturn\u001b[0m \u001b[0msuper\u001b[0m\u001b[0;34m(\u001b[0m\u001b[0;34m)\u001b[0m\u001b[0;34m.\u001b[0m\u001b[0m__call__\u001b[0m\u001b[0;34m(\u001b[0m\u001b[0miterable_with_config\u001b[0m\u001b[0;34m)\u001b[0m\u001b[0;34m\u001b[0m\u001b[0;34m\u001b[0m\u001b[0m\n\u001b[0m\u001b[1;32m     64\u001b[0m \u001b[0;34m\u001b[0m\u001b[0m\n\u001b[1;32m     65\u001b[0m \u001b[0;34m\u001b[0m\u001b[0m\n",
            "\u001b[0;32m/usr/local/lib/python3.9/dist-packages/joblib/parallel.py\u001b[0m in \u001b[0;36m__call__\u001b[0;34m(self, iterable)\u001b[0m\n\u001b[1;32m   1086\u001b[0m                 \u001b[0mself\u001b[0m\u001b[0;34m.\u001b[0m\u001b[0m_iterating\u001b[0m \u001b[0;34m=\u001b[0m \u001b[0mself\u001b[0m\u001b[0;34m.\u001b[0m\u001b[0m_original_iterator\u001b[0m \u001b[0;32mis\u001b[0m \u001b[0;32mnot\u001b[0m \u001b[0;32mNone\u001b[0m\u001b[0;34m\u001b[0m\u001b[0;34m\u001b[0m\u001b[0m\n\u001b[1;32m   1087\u001b[0m \u001b[0;34m\u001b[0m\u001b[0m\n\u001b[0;32m-> 1088\u001b[0;31m             \u001b[0;32mwhile\u001b[0m \u001b[0mself\u001b[0m\u001b[0;34m.\u001b[0m\u001b[0mdispatch_one_batch\u001b[0m\u001b[0;34m(\u001b[0m\u001b[0miterator\u001b[0m\u001b[0;34m)\u001b[0m\u001b[0;34m:\u001b[0m\u001b[0;34m\u001b[0m\u001b[0;34m\u001b[0m\u001b[0m\n\u001b[0m\u001b[1;32m   1089\u001b[0m                 \u001b[0;32mpass\u001b[0m\u001b[0;34m\u001b[0m\u001b[0;34m\u001b[0m\u001b[0m\n\u001b[1;32m   1090\u001b[0m \u001b[0;34m\u001b[0m\u001b[0m\n",
            "\u001b[0;32m/usr/local/lib/python3.9/dist-packages/joblib/parallel.py\u001b[0m in \u001b[0;36mdispatch_one_batch\u001b[0;34m(self, iterator)\u001b[0m\n\u001b[1;32m    899\u001b[0m                 \u001b[0;32mreturn\u001b[0m \u001b[0;32mFalse\u001b[0m\u001b[0;34m\u001b[0m\u001b[0;34m\u001b[0m\u001b[0m\n\u001b[1;32m    900\u001b[0m             \u001b[0;32melse\u001b[0m\u001b[0;34m:\u001b[0m\u001b[0;34m\u001b[0m\u001b[0;34m\u001b[0m\u001b[0m\n\u001b[0;32m--> 901\u001b[0;31m                 \u001b[0mself\u001b[0m\u001b[0;34m.\u001b[0m\u001b[0m_dispatch\u001b[0m\u001b[0;34m(\u001b[0m\u001b[0mtasks\u001b[0m\u001b[0;34m)\u001b[0m\u001b[0;34m\u001b[0m\u001b[0;34m\u001b[0m\u001b[0m\n\u001b[0m\u001b[1;32m    902\u001b[0m                 \u001b[0;32mreturn\u001b[0m \u001b[0;32mTrue\u001b[0m\u001b[0;34m\u001b[0m\u001b[0;34m\u001b[0m\u001b[0m\n\u001b[1;32m    903\u001b[0m \u001b[0;34m\u001b[0m\u001b[0m\n",
            "\u001b[0;32m/usr/local/lib/python3.9/dist-packages/joblib/parallel.py\u001b[0m in \u001b[0;36m_dispatch\u001b[0;34m(self, batch)\u001b[0m\n\u001b[1;32m    817\u001b[0m         \u001b[0;32mwith\u001b[0m \u001b[0mself\u001b[0m\u001b[0;34m.\u001b[0m\u001b[0m_lock\u001b[0m\u001b[0;34m:\u001b[0m\u001b[0;34m\u001b[0m\u001b[0;34m\u001b[0m\u001b[0m\n\u001b[1;32m    818\u001b[0m             \u001b[0mjob_idx\u001b[0m \u001b[0;34m=\u001b[0m \u001b[0mlen\u001b[0m\u001b[0;34m(\u001b[0m\u001b[0mself\u001b[0m\u001b[0;34m.\u001b[0m\u001b[0m_jobs\u001b[0m\u001b[0;34m)\u001b[0m\u001b[0;34m\u001b[0m\u001b[0;34m\u001b[0m\u001b[0m\n\u001b[0;32m--> 819\u001b[0;31m             \u001b[0mjob\u001b[0m \u001b[0;34m=\u001b[0m \u001b[0mself\u001b[0m\u001b[0;34m.\u001b[0m\u001b[0m_backend\u001b[0m\u001b[0;34m.\u001b[0m\u001b[0mapply_async\u001b[0m\u001b[0;34m(\u001b[0m\u001b[0mbatch\u001b[0m\u001b[0;34m,\u001b[0m \u001b[0mcallback\u001b[0m\u001b[0;34m=\u001b[0m\u001b[0mcb\u001b[0m\u001b[0;34m)\u001b[0m\u001b[0;34m\u001b[0m\u001b[0;34m\u001b[0m\u001b[0m\n\u001b[0m\u001b[1;32m    820\u001b[0m             \u001b[0;31m# A job can complete so quickly than its callback is\u001b[0m\u001b[0;34m\u001b[0m\u001b[0;34m\u001b[0m\u001b[0m\n\u001b[1;32m    821\u001b[0m             \u001b[0;31m# called before we get here, causing self._jobs to\u001b[0m\u001b[0;34m\u001b[0m\u001b[0;34m\u001b[0m\u001b[0m\n",
            "\u001b[0;32m/usr/local/lib/python3.9/dist-packages/joblib/_parallel_backends.py\u001b[0m in \u001b[0;36mapply_async\u001b[0;34m(self, func, callback)\u001b[0m\n\u001b[1;32m    206\u001b[0m     \u001b[0;32mdef\u001b[0m \u001b[0mapply_async\u001b[0m\u001b[0;34m(\u001b[0m\u001b[0mself\u001b[0m\u001b[0;34m,\u001b[0m \u001b[0mfunc\u001b[0m\u001b[0;34m,\u001b[0m \u001b[0mcallback\u001b[0m\u001b[0;34m=\u001b[0m\u001b[0;32mNone\u001b[0m\u001b[0;34m)\u001b[0m\u001b[0;34m:\u001b[0m\u001b[0;34m\u001b[0m\u001b[0;34m\u001b[0m\u001b[0m\n\u001b[1;32m    207\u001b[0m         \u001b[0;34m\"\"\"Schedule a func to be run\"\"\"\u001b[0m\u001b[0;34m\u001b[0m\u001b[0;34m\u001b[0m\u001b[0m\n\u001b[0;32m--> 208\u001b[0;31m         \u001b[0mresult\u001b[0m \u001b[0;34m=\u001b[0m \u001b[0mImmediateResult\u001b[0m\u001b[0;34m(\u001b[0m\u001b[0mfunc\u001b[0m\u001b[0;34m)\u001b[0m\u001b[0;34m\u001b[0m\u001b[0;34m\u001b[0m\u001b[0m\n\u001b[0m\u001b[1;32m    209\u001b[0m         \u001b[0;32mif\u001b[0m \u001b[0mcallback\u001b[0m\u001b[0;34m:\u001b[0m\u001b[0;34m\u001b[0m\u001b[0;34m\u001b[0m\u001b[0m\n\u001b[1;32m    210\u001b[0m             \u001b[0mcallback\u001b[0m\u001b[0;34m(\u001b[0m\u001b[0mresult\u001b[0m\u001b[0;34m)\u001b[0m\u001b[0;34m\u001b[0m\u001b[0;34m\u001b[0m\u001b[0m\n",
            "\u001b[0;32m/usr/local/lib/python3.9/dist-packages/joblib/_parallel_backends.py\u001b[0m in \u001b[0;36m__init__\u001b[0;34m(self, batch)\u001b[0m\n\u001b[1;32m    595\u001b[0m         \u001b[0;31m# Don't delay the application, to avoid keeping the input\u001b[0m\u001b[0;34m\u001b[0m\u001b[0;34m\u001b[0m\u001b[0m\n\u001b[1;32m    596\u001b[0m         \u001b[0;31m# arguments in memory\u001b[0m\u001b[0;34m\u001b[0m\u001b[0;34m\u001b[0m\u001b[0m\n\u001b[0;32m--> 597\u001b[0;31m         \u001b[0mself\u001b[0m\u001b[0;34m.\u001b[0m\u001b[0mresults\u001b[0m \u001b[0;34m=\u001b[0m \u001b[0mbatch\u001b[0m\u001b[0;34m(\u001b[0m\u001b[0;34m)\u001b[0m\u001b[0;34m\u001b[0m\u001b[0;34m\u001b[0m\u001b[0m\n\u001b[0m\u001b[1;32m    598\u001b[0m \u001b[0;34m\u001b[0m\u001b[0m\n\u001b[1;32m    599\u001b[0m     \u001b[0;32mdef\u001b[0m \u001b[0mget\u001b[0m\u001b[0;34m(\u001b[0m\u001b[0mself\u001b[0m\u001b[0;34m)\u001b[0m\u001b[0;34m:\u001b[0m\u001b[0;34m\u001b[0m\u001b[0;34m\u001b[0m\u001b[0m\n",
            "\u001b[0;32m/usr/local/lib/python3.9/dist-packages/joblib/parallel.py\u001b[0m in \u001b[0;36m__call__\u001b[0;34m(self)\u001b[0m\n\u001b[1;32m    286\u001b[0m         \u001b[0;31m# change the default number of processes to -1\u001b[0m\u001b[0;34m\u001b[0m\u001b[0;34m\u001b[0m\u001b[0m\n\u001b[1;32m    287\u001b[0m         \u001b[0;32mwith\u001b[0m \u001b[0mparallel_backend\u001b[0m\u001b[0;34m(\u001b[0m\u001b[0mself\u001b[0m\u001b[0;34m.\u001b[0m\u001b[0m_backend\u001b[0m\u001b[0;34m,\u001b[0m \u001b[0mn_jobs\u001b[0m\u001b[0;34m=\u001b[0m\u001b[0mself\u001b[0m\u001b[0;34m.\u001b[0m\u001b[0m_n_jobs\u001b[0m\u001b[0;34m)\u001b[0m\u001b[0;34m:\u001b[0m\u001b[0;34m\u001b[0m\u001b[0;34m\u001b[0m\u001b[0m\n\u001b[0;32m--> 288\u001b[0;31m             return [func(*args, **kwargs)\n\u001b[0m\u001b[1;32m    289\u001b[0m                     for func, args, kwargs in self.items]\n\u001b[1;32m    290\u001b[0m \u001b[0;34m\u001b[0m\u001b[0m\n",
            "\u001b[0;32m/usr/local/lib/python3.9/dist-packages/joblib/parallel.py\u001b[0m in \u001b[0;36m<listcomp>\u001b[0;34m(.0)\u001b[0m\n\u001b[1;32m    286\u001b[0m         \u001b[0;31m# change the default number of processes to -1\u001b[0m\u001b[0;34m\u001b[0m\u001b[0;34m\u001b[0m\u001b[0m\n\u001b[1;32m    287\u001b[0m         \u001b[0;32mwith\u001b[0m \u001b[0mparallel_backend\u001b[0m\u001b[0;34m(\u001b[0m\u001b[0mself\u001b[0m\u001b[0;34m.\u001b[0m\u001b[0m_backend\u001b[0m\u001b[0;34m,\u001b[0m \u001b[0mn_jobs\u001b[0m\u001b[0;34m=\u001b[0m\u001b[0mself\u001b[0m\u001b[0;34m.\u001b[0m\u001b[0m_n_jobs\u001b[0m\u001b[0;34m)\u001b[0m\u001b[0;34m:\u001b[0m\u001b[0;34m\u001b[0m\u001b[0;34m\u001b[0m\u001b[0m\n\u001b[0;32m--> 288\u001b[0;31m             return [func(*args, **kwargs)\n\u001b[0m\u001b[1;32m    289\u001b[0m                     for func, args, kwargs in self.items]\n\u001b[1;32m    290\u001b[0m \u001b[0;34m\u001b[0m\u001b[0m\n",
            "\u001b[0;32m/usr/local/lib/python3.9/dist-packages/sklearn/utils/parallel.py\u001b[0m in \u001b[0;36m__call__\u001b[0;34m(self, *args, **kwargs)\u001b[0m\n\u001b[1;32m    121\u001b[0m             \u001b[0mconfig\u001b[0m \u001b[0;34m=\u001b[0m \u001b[0;34m{\u001b[0m\u001b[0;34m}\u001b[0m\u001b[0;34m\u001b[0m\u001b[0;34m\u001b[0m\u001b[0m\n\u001b[1;32m    122\u001b[0m         \u001b[0;32mwith\u001b[0m \u001b[0mconfig_context\u001b[0m\u001b[0;34m(\u001b[0m\u001b[0;34m**\u001b[0m\u001b[0mconfig\u001b[0m\u001b[0;34m)\u001b[0m\u001b[0;34m:\u001b[0m\u001b[0;34m\u001b[0m\u001b[0;34m\u001b[0m\u001b[0m\n\u001b[0;32m--> 123\u001b[0;31m             \u001b[0;32mreturn\u001b[0m \u001b[0mself\u001b[0m\u001b[0;34m.\u001b[0m\u001b[0mfunction\u001b[0m\u001b[0;34m(\u001b[0m\u001b[0;34m*\u001b[0m\u001b[0margs\u001b[0m\u001b[0;34m,\u001b[0m \u001b[0;34m**\u001b[0m\u001b[0mkwargs\u001b[0m\u001b[0;34m)\u001b[0m\u001b[0;34m\u001b[0m\u001b[0;34m\u001b[0m\u001b[0m\n\u001b[0m",
            "\u001b[0;32m/usr/local/lib/python3.9/dist-packages/sklearn/ensemble/_forest.py\u001b[0m in \u001b[0;36m_parallel_build_trees\u001b[0;34m(tree, bootstrap, X, y, sample_weight, tree_idx, n_trees, verbose, class_weight, n_samples_bootstrap)\u001b[0m\n\u001b[1;32m    182\u001b[0m             \u001b[0mcurr_sample_weight\u001b[0m \u001b[0;34m*=\u001b[0m \u001b[0mcompute_sample_weight\u001b[0m\u001b[0;34m(\u001b[0m\u001b[0;34m\"balanced\"\u001b[0m\u001b[0;34m,\u001b[0m \u001b[0my\u001b[0m\u001b[0;34m,\u001b[0m \u001b[0mindices\u001b[0m\u001b[0;34m=\u001b[0m\u001b[0mindices\u001b[0m\u001b[0;34m)\u001b[0m\u001b[0;34m\u001b[0m\u001b[0;34m\u001b[0m\u001b[0m\n\u001b[1;32m    183\u001b[0m \u001b[0;34m\u001b[0m\u001b[0m\n\u001b[0;32m--> 184\u001b[0;31m         \u001b[0mtree\u001b[0m\u001b[0;34m.\u001b[0m\u001b[0mfit\u001b[0m\u001b[0;34m(\u001b[0m\u001b[0mX\u001b[0m\u001b[0;34m,\u001b[0m \u001b[0my\u001b[0m\u001b[0;34m,\u001b[0m \u001b[0msample_weight\u001b[0m\u001b[0;34m=\u001b[0m\u001b[0mcurr_sample_weight\u001b[0m\u001b[0;34m,\u001b[0m \u001b[0mcheck_input\u001b[0m\u001b[0;34m=\u001b[0m\u001b[0;32mFalse\u001b[0m\u001b[0;34m)\u001b[0m\u001b[0;34m\u001b[0m\u001b[0;34m\u001b[0m\u001b[0m\n\u001b[0m\u001b[1;32m    185\u001b[0m     \u001b[0;32melse\u001b[0m\u001b[0;34m:\u001b[0m\u001b[0;34m\u001b[0m\u001b[0;34m\u001b[0m\u001b[0m\n\u001b[1;32m    186\u001b[0m         \u001b[0mtree\u001b[0m\u001b[0;34m.\u001b[0m\u001b[0mfit\u001b[0m\u001b[0;34m(\u001b[0m\u001b[0mX\u001b[0m\u001b[0;34m,\u001b[0m \u001b[0my\u001b[0m\u001b[0;34m,\u001b[0m \u001b[0msample_weight\u001b[0m\u001b[0;34m=\u001b[0m\u001b[0msample_weight\u001b[0m\u001b[0;34m,\u001b[0m \u001b[0mcheck_input\u001b[0m\u001b[0;34m=\u001b[0m\u001b[0;32mFalse\u001b[0m\u001b[0;34m)\u001b[0m\u001b[0;34m\u001b[0m\u001b[0;34m\u001b[0m\u001b[0m\n",
            "\u001b[0;32m/usr/local/lib/python3.9/dist-packages/sklearn/tree/_classes.py\u001b[0m in \u001b[0;36mfit\u001b[0;34m(self, X, y, sample_weight, check_input)\u001b[0m\n\u001b[1;32m    887\u001b[0m         \"\"\"\n\u001b[1;32m    888\u001b[0m \u001b[0;34m\u001b[0m\u001b[0m\n\u001b[0;32m--> 889\u001b[0;31m         super().fit(\n\u001b[0m\u001b[1;32m    890\u001b[0m             \u001b[0mX\u001b[0m\u001b[0;34m,\u001b[0m\u001b[0;34m\u001b[0m\u001b[0;34m\u001b[0m\u001b[0m\n\u001b[1;32m    891\u001b[0m             \u001b[0my\u001b[0m\u001b[0;34m,\u001b[0m\u001b[0;34m\u001b[0m\u001b[0;34m\u001b[0m\u001b[0m\n",
            "\u001b[0;32m/usr/local/lib/python3.9/dist-packages/sklearn/tree/_classes.py\u001b[0m in \u001b[0;36mfit\u001b[0;34m(self, X, y, sample_weight, check_input)\u001b[0m\n\u001b[1;32m    377\u001b[0m             )\n\u001b[1;32m    378\u001b[0m \u001b[0;34m\u001b[0m\u001b[0m\n\u001b[0;32m--> 379\u001b[0;31m         \u001b[0mbuilder\u001b[0m\u001b[0;34m.\u001b[0m\u001b[0mbuild\u001b[0m\u001b[0;34m(\u001b[0m\u001b[0mself\u001b[0m\u001b[0;34m.\u001b[0m\u001b[0mtree_\u001b[0m\u001b[0;34m,\u001b[0m \u001b[0mX\u001b[0m\u001b[0;34m,\u001b[0m \u001b[0my\u001b[0m\u001b[0;34m,\u001b[0m \u001b[0msample_weight\u001b[0m\u001b[0;34m)\u001b[0m\u001b[0;34m\u001b[0m\u001b[0;34m\u001b[0m\u001b[0m\n\u001b[0m\u001b[1;32m    380\u001b[0m \u001b[0;34m\u001b[0m\u001b[0m\n\u001b[1;32m    381\u001b[0m         \u001b[0;32mif\u001b[0m \u001b[0mself\u001b[0m\u001b[0;34m.\u001b[0m\u001b[0mn_outputs_\u001b[0m \u001b[0;34m==\u001b[0m \u001b[0;36m1\u001b[0m \u001b[0;32mand\u001b[0m \u001b[0mis_classifier\u001b[0m\u001b[0;34m(\u001b[0m\u001b[0mself\u001b[0m\u001b[0;34m)\u001b[0m\u001b[0;34m:\u001b[0m\u001b[0;34m\u001b[0m\u001b[0;34m\u001b[0m\u001b[0m\n",
            "\u001b[0;31mKeyboardInterrupt\u001b[0m: "
          ]
        }
      ],
      "source": [
        "forest = None\n",
        "accuracy = 0\n",
        "n_splits = [5, 10, 15, 20, 25]\n",
        "\n",
        "for n_split in n_splits:\n",
        "  print(f'Split: {n_split}')\n",
        "  data_splits = get_data_splits(n_split)\n",
        "  for i, (X_train, X_test, Y_train, Y_test) in enumerate(data_splits):\n",
        "    print(f'Fold: {i}')\n",
        "    forest, accuracy = run_forest_on_data(X_train, Y_train[:, 0], X_test, Y_test[:, 0], forest, accuracy)\n",
        "  \n",
        "print(accuracy)\n",
        "print(forest)"
      ]
    },
    {
      "cell_type": "code",
      "execution_count": null,
      "metadata": {
        "id": "-ox4hLyso12X"
      },
      "outputs": [],
      "source": [
        "  forest.score(x_test, y_test)"
      ]
    },
    {
      "cell_type": "markdown",
      "source": [
        "## Gradient Boosting"
      ],
      "metadata": {
        "id": "1R_9DUiCF3Zj"
      }
    },
    {
      "cell_type": "code",
      "execution_count": null,
      "metadata": {
        "id": "rjfVnbhCiiW8"
      },
      "outputs": [],
      "source": [
        "def run_gd_on_data(X, y, x_test, y_test, clf=None, high_acc=0):\n",
        "  loss_fns = ['log_loss', 'deviance', 'exponential']\n",
        "  lr = [0.1, 0.05, 0.01, 0.005, 0.001]\n",
        "  # n_estimators = []\n",
        "  criteria = ['friedman_mse', 'squared_error']\n",
        "  # min_samples_split = [2, 3, 4, 5, 6, 7, 8, 9, 10]\n",
        "  # min_samples_leafint = []\n",
        "\n",
        "  for loss_fn in loss_fns:\n",
        "    for rate in lr:\n",
        "      for criterion in criteria:\n",
        "        gb = GradientBoostingClassifier(loss=loss_fn, criterion=criterion, learning_rate=rate, random_state=RANDOM_STATE).fit(X, y)\n",
        "        acc = gb.score(x_test, y_test)\n",
        "        if acc > high_acc:\n",
        "          clf = gb\n",
        "          high_acc = acc\n",
        "          print('best classifier = criterion: {}, loss: {}, lr: {}, accuracy: {}'.format(criterion, loss_fn, rate, acc))\n",
        "  return clf, high_acc"
      ]
    },
    {
      "cell_type": "code",
      "execution_count": null,
      "metadata": {
        "id": "EdWZ5pXSSYMh"
      },
      "outputs": [],
      "source": [
        "gbc = None\n",
        "accuracy = 0\n",
        "n_splits = [5, 10, 15, 20, 25]\n",
        "\n",
        "for n_split in n_splits:\n",
        "  print(f'Split: {n_split}')\n",
        "  data_splits = get_data_splits(n_split)\n",
        "  for i, (X_train, X_test, Y_train, Y_test) in enumerate(data_splits):\n",
        "    print(f'Fold: {i}')\n",
        "    gbc, accuracy = run_gd_on_data(X_train, Y_train, X_test, Y_test, gbc, accuracy)\n",
        "  \n",
        "print(accuracy)\n",
        "print(gbc)"
      ]
    },
    {
      "cell_type": "markdown",
      "source": [
        "# Deep Learning"
      ],
      "metadata": {
        "id": "i3Py3yFNGZc6"
      }
    },
    {
      "cell_type": "markdown",
      "source": [
        "## Imports"
      ],
      "metadata": {
        "id": "Q32Oq4vrGcgJ"
      }
    },
    {
      "cell_type": "code",
      "source": [
        "from torch import nn\n",
        "from torch import optim\n",
        "import torch.nn.functional as F\n",
        "import time\n",
        "from torch.utils.data import DataLoader, TensorDataset\n",
        "import random\n",
        "from torchvision import transforms\n",
        "from sklearn.model_selection import train_test_split"
      ],
      "metadata": {
        "id": "GwIgz2EKGbpn"
      },
      "execution_count": 21,
      "outputs": []
    },
    {
      "cell_type": "markdown",
      "source": [
        "## Data Loading"
      ],
      "metadata": {
        "id": "5CxfrnIlYlQK"
      }
    },
    {
      "cell_type": "code",
      "source": [
        "g = torch.Generator()\n",
        "g.manual_seed(RANDOM_STATE)"
      ],
      "metadata": {
        "colab": {
          "base_uri": "https://localhost:8080/"
        },
        "id": "dIYVVL3Ax2Dq",
        "outputId": "35ce1912-3649-4e66-8673-af9147ac67f4"
      },
      "execution_count": 24,
      "outputs": [
        {
          "output_type": "execute_result",
          "data": {
            "text/plain": [
              "<torch._C.Generator at 0x7f38110539b0>"
            ]
          },
          "metadata": {},
          "execution_count": 24
        }
      ]
    },
    {
      "cell_type": "code",
      "source": [
        "def seed_worker(worker_id):\n",
        "    np.random.seed(RANDOM_STATE)\n",
        "    random.seed(RANDOM_STATE)"
      ],
      "metadata": {
        "id": "t2hdhLdrDf09"
      },
      "execution_count": null,
      "outputs": []
    },
    {
      "cell_type": "code",
      "source": [
        "x_train, x_test, y_train, y_test = train_test_split(X_projected, y.values, train_size=TRAIN_SIZE, random_state=RANDOM_STATE)"
      ],
      "metadata": {
        "id": "pak_R7mPw2ox"
      },
      "execution_count": 25,
      "outputs": []
    },
    {
      "cell_type": "code",
      "source": [
        "x_train, x_valid, y_train, y_valid = train_test_split(x_train, y_train, train_size=TRAIN_SIZE, random_state=RANDOM_STATE)"
      ],
      "metadata": {
        "id": "DztqoqrZyucx"
      },
      "execution_count": 26,
      "outputs": []
    },
    {
      "cell_type": "code",
      "source": [
        "x_train_norm = F.normalize(torch.tensor(x_train, dtype=torch.float), p=2, dim=1)\n",
        "x_valid_norm = F.normalize(torch.tensor(x_valid, dtype=torch.float), p=2, dim=1)"
      ],
      "metadata": {
        "id": "wI828eGbKdJb"
      },
      "execution_count": 27,
      "outputs": []
    },
    {
      "cell_type": "code",
      "source": [
        "train_dataset = TensorDataset(x_train_norm, torch.tensor(y_train[:,0]))\n",
        "valid_dataset = TensorDataset(x_valid_norm, torch.tensor(y_valid[:,0]))\n",
        "test_dataset = TensorDataset(torch.tensor(x_test, dtype=torch.float), torch.tensor(y_test[:,0]))"
      ],
      "metadata": {
        "id": "0FSul74TxaEB"
      },
      "execution_count": 28,
      "outputs": []
    },
    {
      "cell_type": "code",
      "source": [
        "train_loader = DataLoader(dataset=train_dataset, batch_size=batch_size, shuffle=True, num_workers=num_threads, generator=g, worker_init_fn=seed_worker)\n",
        "valid_loader = DataLoader(dataset=valid_dataset, batch_size=batch_size, shuffle=False, num_workers=num_threads, generator=g, worker_init_fn=seed_worker)\n",
        "test_loader = DataLoader(dataset=test_dataset, batch_size=batch_size, shuffle=False, num_workers=num_threads, generator=g, worker_init_fn=seed_worker)"
      ],
      "metadata": {
        "id": "khP-WlLNzjhK"
      },
      "execution_count": 29,
      "outputs": []
    },
    {
      "cell_type": "code",
      "source": [
        "device = torch.device(\"cuda:0\" if torch.cuda.is_available() else \"cpu\")"
      ],
      "metadata": {
        "id": "YOAx-kVx0hBk"
      },
      "execution_count": 32,
      "outputs": []
    },
    {
      "cell_type": "markdown",
      "source": [
        "## Model"
      ],
      "metadata": {
        "id": "qB0BY0CGVb4C"
      }
    },
    {
      "cell_type": "code",
      "source": [
        "class TemplateClassifier(nn.Module):\n",
        "  def __init__(self, n_classes, n_features=2):\n",
        "    super(TemplateClassifier, self).__init__()\n",
        "    self.sequential = nn.Sequential(\n",
        "        nn.Linear(n_features, 100),\n",
        "        nn.ReLU(),\n",
        "        nn.Linear(100, 250),\n",
        "        nn.ReLU(),\n",
        "        nn.Linear(250, 420),\n",
        "        nn.ReLU(),\n",
        "        nn.Linear(420, 250),\n",
        "        nn.ReLU(),\n",
        "        nn.Linear(250, 250),\n",
        "        nn.ReLU(),\n",
        "        nn.Linear(250, 50),\n",
        "        nn.ReLU(),\n",
        "        nn.Linear(50, n_classes)\n",
        "    )\n",
        "\n",
        "  def forward(self, X: torch.Tensor):\n",
        "    logits = self.sequential(X)\n",
        "    probas = torch.softmax(logits, dim=1)\n",
        "    return logits, probas"
      ],
      "metadata": {
        "id": "NBoRQ2GUVbqi"
      },
      "execution_count": 46,
      "outputs": []
    },
    {
      "cell_type": "code",
      "source": [
        "model = TemplateClassifier(n_classes=y.shape[0], n_features=n_features).to(device)\n",
        "model"
      ],
      "metadata": {
        "colab": {
          "base_uri": "https://localhost:8080/"
        },
        "id": "mxkQiyTuYaoq",
        "outputId": "972a9faa-8213-481e-b44a-e18a07852729"
      },
      "execution_count": 34,
      "outputs": [
        {
          "output_type": "execute_result",
          "data": {
            "text/plain": [
              "TemplateClassifier(\n",
              "  (sequential): Sequential(\n",
              "    (0): Linear(in_features=2, out_features=100, bias=True)\n",
              "    (1): ReLU()\n",
              "    (2): Linear(in_features=100, out_features=250, bias=True)\n",
              "    (3): ReLU()\n",
              "    (4): Linear(in_features=250, out_features=420, bias=True)\n",
              "    (5): ReLU()\n",
              "    (6): Linear(in_features=420, out_features=250, bias=True)\n",
              "    (7): ReLU()\n",
              "    (8): Linear(in_features=250, out_features=250, bias=True)\n",
              "    (9): ReLU()\n",
              "    (10): Linear(in_features=250, out_features=50, bias=True)\n",
              "    (11): ReLU()\n",
              "    (12): Linear(in_features=50, out_features=9767, bias=True)\n",
              "  )\n",
              ")"
            ]
          },
          "metadata": {},
          "execution_count": 34
        }
      ]
    },
    {
      "cell_type": "code",
      "source": [
        "class CNNTemplateClassifier(nn.Module):\n",
        "  def __init__(self, n_classes):\n",
        "    super(CNNTemplateClassifier, self).__init__()\n",
        "    self.features = nn.Sequential(\n",
        "        nn.Conv1d(in_channels=2, out_channels=64, kernel_size=11),\n",
        "        nn.ReLU(),\n",
        "        nn.MaxPool1d(kernel_size=3, stride=2),\n",
        "        \n",
        "        nn.Conv1d(in_channels=64, out_channels=192, kernel_size=5),\n",
        "        nn.ReLU(),\n",
        "        nn.MaxPool1d(kernel_size=3, stride=2),\n",
        "        \n",
        "        nn.Conv1d(in_channels=192, out_channels=384, kernel_size=3),\n",
        "        nn.ReLU(),\n",
        "        \n",
        "        nn.Conv1d(in_channels=384, out_channels=256, kernel_size=3),\n",
        "        nn.ReLU(),\n",
        "        \n",
        "        nn.Conv1d(in_channels=256, out_channels=256, kernel_size=3),\n",
        "        nn.ReLU(),\n",
        "        nn.MaxPool1d(kernel_size=3, stride=2),\n",
        "    )\n",
        "    \n",
        "    self.classifier = nn.Sequential(\n",
        "        nn.Dropout(0.5),\n",
        "        nn.Linear(256 * 6 * 6, 4096),\n",
        "        nn.ReLU(True),\n",
        "        nn.Dropout(0.5),\n",
        "        nn.Linear(4096, 4096),\n",
        "        nn.ReLU(True),\n",
        "        nn.Linear(4096, n_classes),\n",
        "    )\n",
        "\n",
        "  def forward(self, X: torch.Tensor):\n",
        "    X = self.features(X)\n",
        "    logits = self.classifier(X)\n",
        "    probas = torch.softmax(logits, dim=1)\n",
        "    return logits, probas"
      ],
      "metadata": {
        "id": "cTBrlmEQ9J1u"
      },
      "execution_count": 56,
      "outputs": []
    },
    {
      "cell_type": "code",
      "source": [
        "model2 = CNNTemplateClassifier(n_classes=y.shape[0]).to(device)\n",
        "model2"
      ],
      "metadata": {
        "colab": {
          "base_uri": "https://localhost:8080/"
        },
        "id": "EklRrhwQ9vjx",
        "outputId": "1789a145-8709-462d-a155-59128f59916e"
      },
      "execution_count": 57,
      "outputs": [
        {
          "output_type": "execute_result",
          "data": {
            "text/plain": [
              "CNNTemplateClassifier(\n",
              "  (features): Sequential(\n",
              "    (0): Conv1d(2, 64, kernel_size=(11,), stride=(1,))\n",
              "    (1): ReLU()\n",
              "    (2): MaxPool1d(kernel_size=3, stride=2, padding=0, dilation=1, ceil_mode=False)\n",
              "    (3): Conv1d(64, 192, kernel_size=(5,), stride=(1,))\n",
              "    (4): ReLU()\n",
              "    (5): MaxPool1d(kernel_size=3, stride=2, padding=0, dilation=1, ceil_mode=False)\n",
              "    (6): Conv1d(192, 384, kernel_size=(3,), stride=(1,))\n",
              "    (7): ReLU()\n",
              "    (8): Conv1d(384, 256, kernel_size=(3,), stride=(1,))\n",
              "    (9): ReLU()\n",
              "    (10): Conv1d(256, 256, kernel_size=(3,), stride=(1,))\n",
              "    (11): ReLU()\n",
              "    (12): MaxPool1d(kernel_size=3, stride=2, padding=0, dilation=1, ceil_mode=False)\n",
              "  )\n",
              "  (classifier): Sequential(\n",
              "    (0): Dropout(p=0.5, inplace=False)\n",
              "    (1): Linear(in_features=9216, out_features=4096, bias=True)\n",
              "    (2): ReLU(inplace=True)\n",
              "    (3): Dropout(p=0.5, inplace=False)\n",
              "    (4): Linear(in_features=4096, out_features=4096, bias=True)\n",
              "    (5): ReLU(inplace=True)\n",
              "    (6): Linear(in_features=4096, out_features=9767, bias=True)\n",
              "  )\n",
              ")"
            ]
          },
          "metadata": {},
          "execution_count": 57
        }
      ]
    },
    {
      "cell_type": "code",
      "source": [
        "class TemplateClassifier2(nn.Module):\n",
        "  def __init__(self, n_classes, n_features=2):\n",
        "    super(TemplateClassifier2, self).__init__()\n",
        "    self.sequential = nn.Sequential(\n",
        "        nn.Dropout(0.5),\n",
        "        nn.Linear(n_features, 4096),\n",
        "        nn.ReLU(True),\n",
        "        nn.Dropout(0.5),\n",
        "        nn.Linear(4096, 4096),\n",
        "        nn.ReLU(True),\n",
        "        nn.Linear(4096, n_classes),\n",
        "    )\n",
        "\n",
        "  def forward(self, X: torch.Tensor):\n",
        "    logits = self.sequential(X)\n",
        "    probas = torch.softmax(logits, dim=1)\n",
        "    return logits, probas"
      ],
      "metadata": {
        "id": "q8wHu4fLAsmM"
      },
      "execution_count": 58,
      "outputs": []
    },
    {
      "cell_type": "markdown",
      "source": [
        "## Training"
      ],
      "metadata": {
        "id": "60nEEc5X0C4q"
      }
    },
    {
      "cell_type": "markdown",
      "source": [
        "### Optimizer"
      ],
      "metadata": {
        "id": "zrbhgGuh0Pqj"
      }
    },
    {
      "cell_type": "code",
      "source": [
        "optimizer = torch.optim.Adam(\n",
        "    model.parameters(),\n",
        "    lr=learning_rate\n",
        ")"
      ],
      "metadata": {
        "id": "jcggcqbk0SNo"
      },
      "execution_count": 39,
      "outputs": []
    },
    {
      "cell_type": "markdown",
      "source": [
        "### Functions"
      ],
      "metadata": {
        "id": "aXDvvBv50KTH"
      }
    },
    {
      "cell_type": "code",
      "source": [
        "def compute_accuracy_and_loss(model, data_loader, device):\n",
        "    \n",
        "    correct_pred, num_examples = 0, 0\n",
        "    \n",
        "    cross_entropy = 0.\n",
        "\n",
        "    for ii, (features, targets) in enumerate(data_loader):\n",
        "            \n",
        "        features = features.to(device) # X\n",
        "        targets = targets.to(device) # y\n",
        "\n",
        "        logits, probas = model(features) # forward propagation z=logits, a=f(z)\n",
        "        cross_entropy += F.cross_entropy(logits, targets).item()\n",
        "\n",
        "        _, predicted_labels = torch.max(probas, 1)  # y_hat=predicted_labels\n",
        "        num_examples += targets.size(0)\n",
        "\n",
        "        correct_pred += (predicted_labels == targets).sum()\n",
        "\n",
        "    return correct_pred.float()/num_examples * 100, cross_entropy/num_examples"
      ],
      "metadata": {
        "id": "0Ubm03Xp0Mmf"
      },
      "execution_count": 40,
      "outputs": []
    },
    {
      "cell_type": "code",
      "source": [
        "def train(model, num_epochs, train_loader, valid_loader):\n",
        "  \n",
        "  minibatch_cost = []\n",
        "  train_acc_lst, valid_acc_lst = [], []\n",
        "  train_loss_lst, valid_loss_lst = [], []\n",
        "\n",
        "  best_acc = 0\n",
        "  best_loss = np.inf\n",
        "\n",
        "  start_time = time.time()\n",
        "  for epoch in range(num_epochs):\n",
        "\n",
        "      model.train()\n",
        "\n",
        "      for batch_idx, (features, targets) in enumerate(train_loader):\n",
        "          \n",
        "          features = features.to(device) # X to device\n",
        "          targets = targets.to(device) # Y to device\n",
        "              \n",
        "          # forward-propagation\n",
        "          logits, probas = model.forward(features)\n",
        "\n",
        "          # compute cost function\n",
        "          cost = F.cross_entropy(logits, targets)\n",
        "\n",
        "          # clean gradients\n",
        "          optimizer.zero_grad()\n",
        "          \n",
        "          # compute derivatives (backward propagation)\n",
        "          cost.backward()\n",
        "\n",
        "          # append minibatch cost\n",
        "          minibatch_cost.append(cost.item())\n",
        "          \n",
        "          # update model parameters\n",
        "          optimizer.step() # w = w - learning_rate * partial_deriv_error\n",
        "          \n",
        "          # logging results\n",
        "          if not batch_idx % 50:\n",
        "              print ('Epoch: %05d/%05d | Batch %05d/%05d | Cost: %.4f' \n",
        "                    %(epoch+1, num_epochs, batch_idx, \n",
        "                      len(train_loader), cost))\n",
        "              \n",
        "      with torch.set_grad_enabled(False):\n",
        "          train_acc, train_loss = compute_accuracy_and_loss(model, train_loader, device=device)\n",
        "          valid_acc, valid_loss = compute_accuracy_and_loss(model, valid_loader, device=device)\n",
        "\n",
        "          print('Epoch: %05d/%05d | Train cost: %.4f | Valid cost: %.4f | Train acc.: %.4f%% | Val.acc.: %.4f%%' % (\n",
        "                epoch+1, num_epochs, \n",
        "                train_loss,\n",
        "                valid_loss,\n",
        "                train_acc,\n",
        "                valid_acc))\n",
        "          \n",
        "          train_acc_lst.append(train_acc)\n",
        "          valid_acc_lst.append(valid_acc)\n",
        "          train_loss_lst.append(train_loss)\n",
        "          valid_loss_lst.append(valid_loss)\n",
        "\n",
        "          # if valid_acc > best_acc:\n",
        "          #   best_acc = valid_acc\n",
        "          #   print('Better model: saving to disk.')\n",
        "          #   state = {\n",
        "          #     'model': model.state_dict(),\n",
        "          #     'best_acc': best_acc,\n",
        "          #     'epoch': epoch,\n",
        "          #     'optimizer': optimizer.state_dict(),\n",
        "          #   }\n",
        "          #   if not os.path.isdir('checkpoint'):\n",
        "          #       os.mkdir('checkpoint')\n",
        "          #   torch.save(state, './checkpoint/ckpt.pth')\n",
        "\n",
        "          \n",
        "      print('Time elapsed: %.2f min' % ((time.time() - start_time)/60))\n",
        "      \n",
        "  print('Total Training Time: %.2f min' % ((time.time() - start_time)/60))\n",
        "\n",
        "  return minibatch_cost, train_loss_lst, valid_loss_lst, train_acc_lst, valid_acc_lst"
      ],
      "metadata": {
        "id": "imDrdXE_0Gth"
      },
      "execution_count": 41,
      "outputs": []
    },
    {
      "cell_type": "markdown",
      "source": [
        "### Actual Training"
      ],
      "metadata": {
        "id": "UrbWbnnB0bcw"
      }
    },
    {
      "cell_type": "code",
      "source": [
        "minibatch_cost, train_loss_lst, valid_loss_lst, train_acc_lst, valid_acc_lst = train(model, num_epochs, train_loader, valid_loader) # train model"
      ],
      "metadata": {
        "colab": {
          "base_uri": "https://localhost:8080/"
        },
        "id": "dTlrEa7y0cdT",
        "outputId": "d9b3278c-1d52-4135-ffbd-442c1845e3df"
      },
      "execution_count": 42,
      "outputs": [
        {
          "output_type": "stream",
          "name": "stdout",
          "text": [
            "Epoch: 00001/00010 | Batch 00000/00150 | Cost: 9.1758\n",
            "Epoch: 00001/00010 | Batch 00050/00150 | Cost: 4.8992\n",
            "Epoch: 00001/00010 | Batch 00100/00150 | Cost: 4.2246\n",
            "Epoch: 00001/00010 | Train cost: 0.1211 | Valid cost: 0.1254 | Train acc.: 7.7534% | Val.acc.: 6.8259%\n",
            "Time elapsed: 0.10 min\n",
            "Epoch: 00002/00010 | Batch 00000/00150 | Cost: 3.7434\n",
            "Epoch: 00002/00010 | Batch 00050/00150 | Cost: 3.6028\n",
            "Epoch: 00002/00010 | Batch 00100/00150 | Cost: 3.3748\n",
            "Epoch: 00002/00010 | Train cost: 0.1152 | Valid cost: 0.1189 | Train acc.: 8.2341% | Val.acc.: 8.5812%\n",
            "Time elapsed: 0.18 min\n",
            "Epoch: 00003/00010 | Batch 00000/00150 | Cost: 3.3432\n",
            "Epoch: 00003/00010 | Batch 00050/00150 | Cost: 3.8259\n",
            "Epoch: 00003/00010 | Batch 00100/00150 | Cost: 3.7974\n",
            "Epoch: 00003/00010 | Train cost: 0.1136 | Valid cost: 0.1172 | Train acc.: 6.8757% | Val.acc.: 6.5334%\n",
            "Time elapsed: 0.26 min\n",
            "Epoch: 00004/00010 | Batch 00000/00150 | Cost: 3.8987\n",
            "Epoch: 00004/00010 | Batch 00050/00150 | Cost: 3.8134\n",
            "Epoch: 00004/00010 | Batch 00100/00150 | Cost: 3.6524\n",
            "Epoch: 00004/00010 | Train cost: 0.1126 | Valid cost: 0.1159 | Train acc.: 8.8192% | Val.acc.: 9.1663%\n",
            "Time elapsed: 0.34 min\n",
            "Epoch: 00005/00010 | Batch 00000/00150 | Cost: 4.0272\n",
            "Epoch: 00005/00010 | Batch 00050/00150 | Cost: 3.5783\n",
            "Epoch: 00005/00010 | Batch 00100/00150 | Cost: 3.3939\n",
            "Epoch: 00005/00010 | Train cost: 0.1109 | Valid cost: 0.1145 | Train acc.: 8.9446% | Val.acc.: 9.5563%\n",
            "Time elapsed: 0.45 min\n",
            "Epoch: 00006/00010 | Batch 00000/00150 | Cost: 3.4747\n",
            "Epoch: 00006/00010 | Batch 00050/00150 | Cost: 3.7448\n",
            "Epoch: 00006/00010 | Batch 00100/00150 | Cost: 3.5492\n",
            "Epoch: 00006/00010 | Train cost: 0.1109 | Valid cost: 0.1149 | Train acc.: 8.7565% | Val.acc.: 8.3374%\n",
            "Time elapsed: 0.56 min\n",
            "Epoch: 00007/00010 | Batch 00000/00150 | Cost: 3.3863\n",
            "Epoch: 00007/00010 | Batch 00050/00150 | Cost: 3.8305\n",
            "Epoch: 00007/00010 | Batch 00100/00150 | Cost: 3.9222\n",
            "Epoch: 00007/00010 | Train cost: 0.1101 | Valid cost: 0.1143 | Train acc.: 9.4044% | Val.acc.: 8.2886%\n",
            "Time elapsed: 0.69 min\n",
            "Epoch: 00008/00010 | Batch 00000/00150 | Cost: 3.6565\n",
            "Epoch: 00008/00010 | Batch 00050/00150 | Cost: 3.8157\n",
            "Epoch: 00008/00010 | Batch 00100/00150 | Cost: 3.7780\n",
            "Epoch: 00008/00010 | Train cost: 0.1083 | Valid cost: 0.1128 | Train acc.: 9.8015% | Val.acc.: 9.8001%\n",
            "Time elapsed: 0.80 min\n",
            "Epoch: 00009/00010 | Batch 00000/00150 | Cost: 3.7844\n",
            "Epoch: 00009/00010 | Batch 00050/00150 | Cost: 3.4237\n",
            "Epoch: 00009/00010 | Batch 00100/00150 | Cost: 3.2623\n",
            "Epoch: 00009/00010 | Train cost: 0.1071 | Valid cost: 0.1117 | Train acc.: 9.8433% | Val.acc.: 8.7275%\n",
            "Time elapsed: 0.92 min\n",
            "Epoch: 00010/00010 | Batch 00000/00150 | Cost: 3.2586\n",
            "Epoch: 00010/00010 | Batch 00050/00150 | Cost: 3.3663\n",
            "Epoch: 00010/00010 | Batch 00100/00150 | Cost: 3.2825\n",
            "Epoch: 00010/00010 | Train cost: 0.1076 | Valid cost: 0.1126 | Train acc.: 9.3835% | Val.acc.: 9.3125%\n",
            "Time elapsed: 1.03 min\n",
            "Total Training Time: 1.03 min\n"
          ]
        }
      ]
    },
    {
      "cell_type": "code",
      "source": [
        "minibatch_cost, train_loss_lst, valid_loss_lst, train_acc_lst, valid_acc_lst = train(model3, num_epochs, train_loader, valid_loader) # train model"
      ],
      "metadata": {
        "colab": {
          "base_uri": "https://localhost:8080/",
          "height": 615
        },
        "id": "fGr39_a_JleZ",
        "outputId": "a1bf68a9-4d6b-4f99-cea2-ba57b284dada"
      },
      "execution_count": 60,
      "outputs": [
        {
          "output_type": "stream",
          "name": "stdout",
          "text": [
            "Epoch: 00001/00010 | Batch 00000/00150 | Cost: 9.1732\n",
            "Epoch: 00001/00010 | Batch 00050/00150 | Cost: 9.1936\n",
            "Epoch: 00001/00010 | Batch 00100/00150 | Cost: 9.1807\n",
            "Epoch: 00001/00010 | Train cost: 0.2881 | Valid cost: 0.2914 | Train acc.: 0.0209% | Val.acc.: 0.0000%\n",
            "Time elapsed: 1.71 min\n",
            "Epoch: 00002/00010 | Batch 00000/00150 | Cost: 9.2048\n",
            "Epoch: 00002/00010 | Batch 00050/00150 | Cost: 9.1749\n",
            "Epoch: 00002/00010 | Batch 00100/00150 | Cost: 9.1828\n",
            "Epoch: 00002/00010 | Train cost: 0.2880 | Valid cost: 0.2913 | Train acc.: 0.0209% | Val.acc.: 0.0488%\n",
            "Time elapsed: 3.42 min\n",
            "Epoch: 00003/00010 | Batch 00000/00150 | Cost: 9.1833\n",
            "Epoch: 00003/00010 | Batch 00050/00150 | Cost: 9.2146\n",
            "Epoch: 00003/00010 | Batch 00100/00150 | Cost: 9.1851\n",
            "Epoch: 00003/00010 | Train cost: 0.2881 | Valid cost: 0.2912 | Train acc.: 0.0000% | Val.acc.: 0.0000%\n",
            "Time elapsed: 5.13 min\n",
            "Epoch: 00004/00010 | Batch 00000/00150 | Cost: 9.1945\n"
          ]
        },
        {
          "output_type": "error",
          "ename": "KeyboardInterrupt",
          "evalue": "ignored",
          "traceback": [
            "\u001b[0;31m---------------------------------------------------------------------------\u001b[0m",
            "\u001b[0;31mKeyboardInterrupt\u001b[0m                         Traceback (most recent call last)",
            "\u001b[0;32m<ipython-input-60-27b081371c15>\u001b[0m in \u001b[0;36m<cell line: 1>\u001b[0;34m()\u001b[0m\n\u001b[0;32m----> 1\u001b[0;31m \u001b[0mminibatch_cost\u001b[0m\u001b[0;34m,\u001b[0m \u001b[0mtrain_loss_lst\u001b[0m\u001b[0;34m,\u001b[0m \u001b[0mvalid_loss_lst\u001b[0m\u001b[0;34m,\u001b[0m \u001b[0mtrain_acc_lst\u001b[0m\u001b[0;34m,\u001b[0m \u001b[0mvalid_acc_lst\u001b[0m \u001b[0;34m=\u001b[0m \u001b[0mtrain\u001b[0m\u001b[0;34m(\u001b[0m\u001b[0mmodel3\u001b[0m\u001b[0;34m,\u001b[0m \u001b[0mnum_epochs\u001b[0m\u001b[0;34m,\u001b[0m \u001b[0mtrain_loader\u001b[0m\u001b[0;34m,\u001b[0m \u001b[0mvalid_loader\u001b[0m\u001b[0;34m)\u001b[0m \u001b[0;31m# train model\u001b[0m\u001b[0;34m\u001b[0m\u001b[0;34m\u001b[0m\u001b[0m\n\u001b[0m",
            "\u001b[0;32m<ipython-input-41-a4b1aeedcb31>\u001b[0m in \u001b[0;36mtrain\u001b[0;34m(model, num_epochs, train_loader, valid_loader)\u001b[0m\n\u001b[1;32m     28\u001b[0m \u001b[0;34m\u001b[0m\u001b[0m\n\u001b[1;32m     29\u001b[0m           \u001b[0;31m# compute derivatives (backward propagation)\u001b[0m\u001b[0;34m\u001b[0m\u001b[0;34m\u001b[0m\u001b[0m\n\u001b[0;32m---> 30\u001b[0;31m           \u001b[0mcost\u001b[0m\u001b[0;34m.\u001b[0m\u001b[0mbackward\u001b[0m\u001b[0;34m(\u001b[0m\u001b[0;34m)\u001b[0m\u001b[0;34m\u001b[0m\u001b[0;34m\u001b[0m\u001b[0m\n\u001b[0m\u001b[1;32m     31\u001b[0m \u001b[0;34m\u001b[0m\u001b[0m\n\u001b[1;32m     32\u001b[0m           \u001b[0;31m# append minibatch cost\u001b[0m\u001b[0;34m\u001b[0m\u001b[0;34m\u001b[0m\u001b[0m\n",
            "\u001b[0;32m/usr/local/lib/python3.9/dist-packages/torch/_tensor.py\u001b[0m in \u001b[0;36mbackward\u001b[0;34m(self, gradient, retain_graph, create_graph, inputs)\u001b[0m\n\u001b[1;32m    485\u001b[0m                 \u001b[0minputs\u001b[0m\u001b[0;34m=\u001b[0m\u001b[0minputs\u001b[0m\u001b[0;34m,\u001b[0m\u001b[0;34m\u001b[0m\u001b[0;34m\u001b[0m\u001b[0m\n\u001b[1;32m    486\u001b[0m             )\n\u001b[0;32m--> 487\u001b[0;31m         torch.autograd.backward(\n\u001b[0m\u001b[1;32m    488\u001b[0m             \u001b[0mself\u001b[0m\u001b[0;34m,\u001b[0m \u001b[0mgradient\u001b[0m\u001b[0;34m,\u001b[0m \u001b[0mretain_graph\u001b[0m\u001b[0;34m,\u001b[0m \u001b[0mcreate_graph\u001b[0m\u001b[0;34m,\u001b[0m \u001b[0minputs\u001b[0m\u001b[0;34m=\u001b[0m\u001b[0minputs\u001b[0m\u001b[0;34m\u001b[0m\u001b[0;34m\u001b[0m\u001b[0m\n\u001b[1;32m    489\u001b[0m         )\n",
            "\u001b[0;32m/usr/local/lib/python3.9/dist-packages/torch/autograd/__init__.py\u001b[0m in \u001b[0;36mbackward\u001b[0;34m(tensors, grad_tensors, retain_graph, create_graph, grad_variables, inputs)\u001b[0m\n\u001b[1;32m    198\u001b[0m     \u001b[0;31m# some Python versions print out the first line of a multi-line function\u001b[0m\u001b[0;34m\u001b[0m\u001b[0;34m\u001b[0m\u001b[0m\n\u001b[1;32m    199\u001b[0m     \u001b[0;31m# calls in the traceback and some print out the last line\u001b[0m\u001b[0;34m\u001b[0m\u001b[0;34m\u001b[0m\u001b[0m\n\u001b[0;32m--> 200\u001b[0;31m     Variable._execution_engine.run_backward(  # Calls into the C++ engine to run the backward pass\n\u001b[0m\u001b[1;32m    201\u001b[0m         \u001b[0mtensors\u001b[0m\u001b[0;34m,\u001b[0m \u001b[0mgrad_tensors_\u001b[0m\u001b[0;34m,\u001b[0m \u001b[0mretain_graph\u001b[0m\u001b[0;34m,\u001b[0m \u001b[0mcreate_graph\u001b[0m\u001b[0;34m,\u001b[0m \u001b[0minputs\u001b[0m\u001b[0;34m,\u001b[0m\u001b[0;34m\u001b[0m\u001b[0;34m\u001b[0m\u001b[0m\n\u001b[1;32m    202\u001b[0m         allow_unreachable=True, accumulate_grad=True)  # Calls into the C++ engine to run the backward pass\n",
            "\u001b[0;31mKeyboardInterrupt\u001b[0m: "
          ]
        }
      ]
    }
  ],
  "metadata": {
    "colab": {
      "provenance": [],
      "toc_visible": true
    },
    "gpuClass": "standard",
    "kernelspec": {
      "display_name": "tf-gpu",
      "language": "python",
      "name": "python3"
    },
    "language_info": {
      "codemirror_mode": {
        "name": "ipython",
        "version": 3
      },
      "file_extension": ".py",
      "mimetype": "text/x-python",
      "name": "python",
      "nbconvert_exporter": "python",
      "pygments_lexer": "ipython3",
      "version": "3.11.0"
    }
  },
  "nbformat": 4,
  "nbformat_minor": 0
}