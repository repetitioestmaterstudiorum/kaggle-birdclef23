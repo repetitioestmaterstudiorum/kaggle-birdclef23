{
  "cells": [
    {
      "cell_type": "markdown",
      "metadata": {
        "id": "jAjhNzJTMFbm"
      },
      "source": [
        "## Mobilenet Training"
      ]
    },
    {
      "cell_type": "code",
      "source": [
        "!pip install timm"
      ],
      "metadata": {
        "id": "cR1152yECFdA",
        "colab": {
          "base_uri": "https://localhost:8080/"
        },
        "outputId": "3d328c08-a1b9-4b88-a799-bc8e9d347fba"
      },
      "execution_count": 1,
      "outputs": [
        {
          "output_type": "stream",
          "name": "stdout",
          "text": [
            "Looking in indexes: https://pypi.org/simple, https://us-python.pkg.dev/colab-wheels/public/simple/\n",
            "Collecting timm\n",
            "  Downloading timm-0.9.2-py3-none-any.whl (2.2 MB)\n",
            "\u001b[2K     \u001b[90m━━━━━━━━━━━━━━━━━━━━━━━━━━━━━━━━━━━━━━━━\u001b[0m \u001b[32m2.2/2.2 MB\u001b[0m \u001b[31m58.2 MB/s\u001b[0m eta \u001b[36m0:00:00\u001b[0m\n",
            "\u001b[?25hRequirement already satisfied: torch>=1.7 in /usr/local/lib/python3.10/dist-packages (from timm) (2.0.0+cu118)\n",
            "Requirement already satisfied: torchvision in /usr/local/lib/python3.10/dist-packages (from timm) (0.15.1+cu118)\n",
            "Requirement already satisfied: pyyaml in /usr/local/lib/python3.10/dist-packages (from timm) (6.0)\n",
            "Collecting huggingface-hub (from timm)\n",
            "  Downloading huggingface_hub-0.14.1-py3-none-any.whl (224 kB)\n",
            "\u001b[2K     \u001b[90m━━━━━━━━━━━━━━━━━━━━━━━━━━━━━━━━━━━━━━\u001b[0m \u001b[32m224.5/224.5 kB\u001b[0m \u001b[31m27.6 MB/s\u001b[0m eta \u001b[36m0:00:00\u001b[0m\n",
            "\u001b[?25hCollecting safetensors (from timm)\n",
            "  Downloading safetensors-0.3.1-cp310-cp310-manylinux_2_17_x86_64.manylinux2014_x86_64.whl (1.3 MB)\n",
            "\u001b[2K     \u001b[90m━━━━━━━━━━━━━━━━━━━━━━━━━━━━━━━━━━━━━━━━\u001b[0m \u001b[32m1.3/1.3 MB\u001b[0m \u001b[31m86.8 MB/s\u001b[0m eta \u001b[36m0:00:00\u001b[0m\n",
            "\u001b[?25hRequirement already satisfied: filelock in /usr/local/lib/python3.10/dist-packages (from torch>=1.7->timm) (3.12.0)\n",
            "Requirement already satisfied: typing-extensions in /usr/local/lib/python3.10/dist-packages (from torch>=1.7->timm) (4.5.0)\n",
            "Requirement already satisfied: sympy in /usr/local/lib/python3.10/dist-packages (from torch>=1.7->timm) (1.11.1)\n",
            "Requirement already satisfied: networkx in /usr/local/lib/python3.10/dist-packages (from torch>=1.7->timm) (3.1)\n",
            "Requirement already satisfied: jinja2 in /usr/local/lib/python3.10/dist-packages (from torch>=1.7->timm) (3.1.2)\n",
            "Requirement already satisfied: triton==2.0.0 in /usr/local/lib/python3.10/dist-packages (from torch>=1.7->timm) (2.0.0)\n",
            "Requirement already satisfied: cmake in /usr/local/lib/python3.10/dist-packages (from triton==2.0.0->torch>=1.7->timm) (3.25.2)\n",
            "Requirement already satisfied: lit in /usr/local/lib/python3.10/dist-packages (from triton==2.0.0->torch>=1.7->timm) (16.0.3)\n",
            "Requirement already satisfied: fsspec in /usr/local/lib/python3.10/dist-packages (from huggingface-hub->timm) (2023.4.0)\n",
            "Requirement already satisfied: requests in /usr/local/lib/python3.10/dist-packages (from huggingface-hub->timm) (2.27.1)\n",
            "Requirement already satisfied: tqdm>=4.42.1 in /usr/local/lib/python3.10/dist-packages (from huggingface-hub->timm) (4.65.0)\n",
            "Requirement already satisfied: packaging>=20.9 in /usr/local/lib/python3.10/dist-packages (from huggingface-hub->timm) (23.1)\n",
            "Requirement already satisfied: numpy in /usr/local/lib/python3.10/dist-packages (from torchvision->timm) (1.22.4)\n",
            "Requirement already satisfied: pillow!=8.3.*,>=5.3.0 in /usr/local/lib/python3.10/dist-packages (from torchvision->timm) (8.4.0)\n",
            "Requirement already satisfied: MarkupSafe>=2.0 in /usr/local/lib/python3.10/dist-packages (from jinja2->torch>=1.7->timm) (2.1.2)\n",
            "Requirement already satisfied: urllib3<1.27,>=1.21.1 in /usr/local/lib/python3.10/dist-packages (from requests->huggingface-hub->timm) (1.26.15)\n",
            "Requirement already satisfied: certifi>=2017.4.17 in /usr/local/lib/python3.10/dist-packages (from requests->huggingface-hub->timm) (2022.12.7)\n",
            "Requirement already satisfied: charset-normalizer~=2.0.0 in /usr/local/lib/python3.10/dist-packages (from requests->huggingface-hub->timm) (2.0.12)\n",
            "Requirement already satisfied: idna<4,>=2.5 in /usr/local/lib/python3.10/dist-packages (from requests->huggingface-hub->timm) (3.4)\n",
            "Requirement already satisfied: mpmath>=0.19 in /usr/local/lib/python3.10/dist-packages (from sympy->torch>=1.7->timm) (1.3.0)\n",
            "Installing collected packages: safetensors, huggingface-hub, timm\n",
            "Successfully installed huggingface-hub-0.14.1 safetensors-0.3.1 timm-0.9.2\n"
          ]
        }
      ]
    },
    {
      "cell_type": "code",
      "execution_count": 2,
      "metadata": {
        "id": "nVlDzbq8MFbo"
      },
      "outputs": [],
      "source": [
        "import pandas as pd\n",
        "import numpy as np\n",
        "import joblib\n",
        "import seaborn as sns\n",
        "import matplotlib.pyplot as plt\n",
        "from sklearn.model_selection import train_test_split\n",
        "import torch\n",
        "import torch.nn as nn\n",
        "import torch.optim as optim\n",
        "from torch.optim.lr_scheduler import ReduceLROnPlateau\n",
        "from torch.utils.data import Dataset, DataLoader, random_split\n",
        "from torchvision.models import regnet_y_800mf, RegNet_Y_800MF_Weights\n",
        "from torchvision import transforms, models\n",
        "from IPython.display import Audio\n",
        "import librosa\n",
        "from sklearn.preprocessing import LabelEncoder\n",
        "from sklearn.utils.class_weight import compute_class_weight\n",
        "from sklearn.metrics import confusion_matrix, accuracy_score, f1_score\n",
        "import torch.nn.functional as F\n",
        "from torchaudio import functional as F_audio\n",
        "from tqdm import tqdm\n",
        "import timm\n",
        "import torchaudio\n",
        "import pywt\n",
        "\n",
        "import copy\n",
        "import random\n",
        "import glob\n",
        "import os\n",
        "import time\n",
        "import sys\n",
        "import re"
      ]
    },
    {
      "cell_type": "code",
      "execution_count": 3,
      "metadata": {
        "id": "71xzcec9MFbq"
      },
      "outputs": [],
      "source": [
        "RANDOM_SEED = 21\n",
        "\n",
        "# Set seed for experiment reproducibility\n",
        "random.seed(RANDOM_SEED)\n",
        "np.random.seed(RANDOM_SEED)\n",
        "torch.manual_seed(RANDOM_SEED)\n",
        "torch.cuda.manual_seed(RANDOM_SEED)\n",
        "torch.backends.cudnn.deterministic = True\n",
        "torch.backends.cudnn.benchmark = True"
      ]
    },
    {
      "cell_type": "code",
      "execution_count": 4,
      "metadata": {
        "colab": {
          "base_uri": "https://localhost:8080/"
        },
        "id": "qypC4EiZMFbq",
        "outputId": "deb3ea83-a54d-49b2-baf5-4c196cedaa0e"
      },
      "outputs": [
        {
          "output_type": "stream",
          "name": "stdout",
          "text": [
            "We are running code on Localhost\n",
            "We are using device: cuda\n"
          ]
        }
      ],
      "source": [
        "## REUSE IN INFERENCE NOTEBOOK\n",
        "\n",
        "custom_dataset_path = '/kaggle/input/birdclef2023-inference'\n",
        "if os.path.exists(os.path.join(custom_dataset_path, 'utils.py')):\n",
        "    sys.path.append(custom_dataset_path)\n",
        "else:\n",
        "    sys.path.append('..')\n",
        "import utils\n",
        "\n",
        "IS_IN_KAGGLE_ENV = utils.get_is_in_kaggle_env()\n",
        "\n",
        "DATA_PATH = '/kaggle/input/birdclef-2023' if IS_IN_KAGGLE_ENV else './data'\n",
        "JOBLIB_PATH = custom_dataset_path if IS_IN_KAGGLE_ENV else './'\n",
        "\n",
        "DEVICE = 'cpu' if IS_IN_KAGGLE_ENV else utils.determine_device()\n",
        "\n",
        "AUDIO_LENGTH_S = 5\n",
        "SAMPLE_RATE = 32_000"
      ]
    },
    {
      "cell_type": "code",
      "execution_count": 5,
      "metadata": {
        "colab": {
          "base_uri": "https://localhost:8080/"
        },
        "id": "1IrJmqT9gv8H",
        "outputId": "6e3dcaa3-76a7-4e4b-b478-d3f2da0fd447"
      },
      "outputs": [
        {
          "output_type": "stream",
          "name": "stdout",
          "text": [
            "Mounted at /content/drive\n"
          ]
        }
      ],
      "source": [
        "from google.colab import drive\n",
        "drive.mount('/content/drive')"
      ]
    },
    {
      "cell_type": "code",
      "execution_count": 6,
      "metadata": {
        "id": "A3rjVv2rg_yD"
      },
      "outputs": [],
      "source": [
        "!mkdir -p ./dataset\n",
        "!unzip -q /content/drive/MyDrive/datasets/ML/birdclef-2023.zip -d ./data"
      ]
    },
    {
      "cell_type": "code",
      "execution_count": 7,
      "metadata": {
        "id": "IlC9zwMYMFbq"
      },
      "outputs": [],
      "source": [
        "if not IS_IN_KAGGLE_ENV and not os.path.exists(DATA_PATH):\n",
        "    print(\"Downloading data ...\")\n",
        "    !kaggle competitions download -c 'birdclef-2023'\n",
        "    !mkdir ../data\n",
        "    !unzip -q birdclef-2023.zip -d ../data\n",
        "    !rm birdclef-2023.zip\n",
        "\n",
        "DF_METADATA_CSV = pd.read_csv(f\"{DATA_PATH}/train_metadata.csv\")\n",
        "\n",
        "AUDIO_DATA_DIR = f\"{DATA_PATH}/train_audio/\""
      ]
    },
    {
      "cell_type": "code",
      "execution_count": 8,
      "metadata": {
        "id": "HHp0iAtXNPcv"
      },
      "outputs": [],
      "source": [
        "class WaveletTransformSingle(nn.Module):\n",
        "  def __init__(\n",
        "      self, \n",
        "      wavelet: pywt.Wavelet,\n",
        "      cut_to_nearest: int | None = None\n",
        "  ):\n",
        "    super(WaveletTransformSingle, self).__init__()\n",
        "    self.wavelet = wavelet\n",
        "    self.ctn = cut_to_nearest\n",
        "\n",
        "  def forward(self, X: torch.Tensor) -> torch.Tensor:\n",
        "    item = X.cpu().numpy()\n",
        "    \n",
        "    wh, wl = pywt.dwt(item[0], self.wavelet)\n",
        "    out = torch.stack((torch.from_numpy(wh), torch.from_numpy(wl)))\n",
        "    \n",
        "    if self.ctn is not None:\n",
        "      out = out[:,:-1 * (out.shape[-1] % self.ctn)]\n",
        "    # return out.to(device).unsqueeze(1)\n",
        "    return out.to(X.device)"
      ]
    },
    {
      "cell_type": "code",
      "execution_count": 9,
      "metadata": {
        "id": "wQllu-EWMy6Z"
      },
      "outputs": [],
      "source": [
        "class WaveletTransform(nn.Module):\n",
        "  def __init__(\n",
        "      self, \n",
        "      wavelet: pywt.Wavelet,\n",
        "      cut_to_nearest: int | None = None\n",
        "  ):\n",
        "    super(WaveletTransform, self).__init__()\n",
        "    self.wavelet = wavelet\n",
        "    self.ctn = cut_to_nearest\n",
        "\n",
        "  def forward(self, X: torch.Tensor) -> torch.Tensor:\n",
        "    items = X.cpu().numpy()\n",
        "    out = None\n",
        "    for item in items:\n",
        "      wh, wl = pywt.dwt(item[0], self.wavelet)\n",
        "      ca = torch.stack((torch.from_numpy(wh), torch.from_numpy(wl)))\n",
        "      if out is None:\n",
        "        out = ca.unsqueeze(0)\n",
        "      else:\n",
        "        out = torch.cat([out, ca.unsqueeze(0)], dim=0)\n",
        "    \n",
        "    if self.ctn is not None:\n",
        "      out = out[:,:,:-1 * (out.shape[-1] % self.ctn)]\n",
        "    # return out.to(device).unsqueeze(1)\n",
        "    return out.to(X.device)"
      ]
    },
    {
      "cell_type": "code",
      "execution_count": 10,
      "metadata": {
        "id": "NcYF5Mz9M0mX"
      },
      "outputs": [],
      "source": [
        "class AudioAugmentations(nn.Module):\n",
        "  def __init__(\n",
        "      self, \n",
        "      stretch_rate=0.8,\n",
        "      fixed_rate=True,\n",
        "      freq_mask_param=30,\n",
        "      time_mask_param=80\n",
        "  ):\n",
        "    super(AudioAugmentations, self).__init__()\n",
        "    self.aug = nn.Sequential(\n",
        "        torchaudio.transforms.TimeStretch(stretch_rate, fixed_rate=fixed_rate),\n",
        "        torchaudio.transforms.FrequencyMasking(freq_mask_param=freq_mask_param),\n",
        "        torchaudio.transforms.TimeMasking(time_mask_param=time_mask_param),\n",
        "    )\n",
        "  \n",
        "  def forward(self, X: torch.Tensor) -> torch.Tensor:\n",
        "    return self.aug(X)"
      ]
    },
    {
      "cell_type": "code",
      "execution_count": 11,
      "metadata": {
        "colab": {
          "base_uri": "https://localhost:8080/"
        },
        "id": "aQilP2XTMFbq",
        "outputId": "260004de-72e6-4050-e13a-2cf26d865c1d"
      },
      "outputs": [
        {
          "output_type": "stream",
          "name": "stdout",
          "text": [
            "Number of rows with 1 sample: 7\n",
            "Number of rows with 2 samples: 6\n",
            "Number of rows with 1 sample: 0\n",
            "Number of rows with 2 samples: 0\n"
          ]
        }
      ],
      "source": [
        "# Rows with 1 sample: copy twice, rows with 2 samples: copy once\n",
        "# This is to ensure that stratified sampling for train/valid/test splits works correctly\n",
        "def ensure_min_two_samples(DF_METADATA_CSV):\n",
        "    class_counts = DF_METADATA_CSV[\"primary_label\"].value_counts()\n",
        "\n",
        "    one_sample_rows = DF_METADATA_CSV[DF_METADATA_CSV[\"primary_label\"].isin(class_counts[class_counts == 1].index)]\n",
        "    print(f\"Number of rows with 1 sample: {len(one_sample_rows)}\")\n",
        "    if len(one_sample_rows) > 0:\n",
        "        DF_METADATA_CSV = pd.concat([DF_METADATA_CSV, one_sample_rows, one_sample_rows], ignore_index=True)\n",
        "    \n",
        "    two_sample_rows = DF_METADATA_CSV[DF_METADATA_CSV[\"primary_label\"].isin(class_counts[class_counts == 2].index)]\n",
        "    print(f\"Number of rows with 2 samples: {len(two_sample_rows)}\")\n",
        "    if len(two_sample_rows) > 0:\n",
        "        DF_METADATA_CSV = pd.concat([DF_METADATA_CSV, two_sample_rows], ignore_index=True)\n",
        "\n",
        "    return DF_METADATA_CSV\n",
        "\n",
        "DF_METADATA_CSV = ensure_min_two_samples(DF_METADATA_CSV)\n",
        "\n",
        "# Run again to verify\n",
        "DF_METADATA_CSV = ensure_min_two_samples(DF_METADATA_CSV)"
      ]
    },
    {
      "cell_type": "code",
      "execution_count": 12,
      "metadata": {
        "id": "G2obTwaaMFbr"
      },
      "outputs": [],
      "source": [
        "## REUSE IN INFERENCE NOTEBOOK\n",
        "\n",
        "class BirdMelspecClf(nn.Module):\n",
        "    def __init__(self, out_features, pretrained):\n",
        "        super().__init__()\n",
        "\n",
        "        self.aug = AudioAugmentations()\n",
        "        \n",
        "        model = models.mobilenet_v3_large(\n",
        "            models.MobileNet_V3_Large_Weights.IMAGENET1K_V1 \\\n",
        "              if pretrained == True else None\n",
        "        )\n",
        "\n",
        "        model.features[0][0] = nn.Conv2d(\n",
        "            2, 16, kernel_size=(3, 3), \n",
        "            stride=(2, 2), padding=(1, 1), bias=False\n",
        "        )\n",
        "\n",
        "        model.classifier[-1] = nn.Linear(\n",
        "            in_features=1280, out_features=out_features, \n",
        "            bias=True\n",
        "        )\n",
        "\n",
        "        self.model = model\n",
        "        \n",
        "\n",
        "        self.softmax = nn.Softmax(dim=1)\n",
        " \n",
        "    def forward(self, x):\n",
        "        if self.training: x = self.aug(x)\n",
        "        logits = self.model(x)\n",
        "        probas = self.softmax(logits)\n",
        "\n",
        "        return logits, probas\n",
        "\n",
        "\n",
        "def get_model(out_features, device, pretrained=False, load_state_dict=True, state_dict_starts_with=f\"{AUDIO_LENGTH_S}s_model\"):\n",
        "    model = BirdMelspecClf(out_features=out_features, pretrained=pretrained)\n",
        "    print(f\"Loaded model {model.__class__.__name__} with {sum(p.numel() for p in model.parameters())} parameters, pretained={pretrained}\")\n",
        "    model.to(device)\n",
        "\n",
        "    if not load_state_dict:\n",
        "        return model\n",
        "\n",
        "    model_files = [f for f in os.listdir(JOBLIB_PATH) if f.startswith(state_dict_starts_with) and f.endswith('.pt')]\n",
        "    if len(model_files) == 0:\n",
        "        print(f\"No model starting with {state_dict_starts_with} found in {JOBLIB_PATH}\")\n",
        "        return model\n",
        "    \n",
        "    # Extract timestamp from the filenames and sort based on it\n",
        "    model_files.sort(key=lambda x: int(re.findall(r'\\d+', x)[-1]) if re.findall(r'\\d+', x) else -1)\n",
        "\n",
        "    # The latest model file is the last one in the sorted list\n",
        "    latest_model_file = model_files[-1]\n",
        "    model_path = os.path.join(JOBLIB_PATH, latest_model_file)\n",
        "    model.load_state_dict(torch.load(model_path))\n",
        "    print(f\"Loaded model weights from {model_path}\")\n",
        "    model.to(device)\n",
        "\n",
        "    return model"
      ]
    },
    {
      "cell_type": "code",
      "execution_count": 13,
      "metadata": {
        "colab": {
          "base_uri": "https://localhost:8080/"
        },
        "id": "GkkGbyGtMFbs",
        "outputId": "59b6a213-3d30-4e8a-8a76-084270017fc8"
      },
      "outputs": [
        {
          "metadata": {
            "tags": null
          },
          "name": "stdout",
          "output_type": "stream",
          "text": [
            "Number of classes: 264\n"
          ]
        }
      ],
      "source": [
        "UNIQUE_CLASSES = DF_METADATA_CSV.primary_label.unique()\n",
        "N_CLASSES = len(UNIQUE_CLASSES)\n",
        "print(f\"Number of classes: {N_CLASSES}\")"
      ]
    },
    {
      "cell_type": "code",
      "execution_count": 14,
      "metadata": {
        "colab": {
          "base_uri": "https://localhost:8080/"
        },
        "id": "CHWDx19CMFbs",
        "outputId": "36ef2991-c049-4d4d-cd4e-aa3f416242a5"
      },
      "outputs": [
        {
          "data": {
            "text/plain": [
              "(264, './data/train_audio/abethr1')"
            ]
          },
          "execution_count": 14,
          "metadata": {},
          "output_type": "execute_result"
        }
      ],
      "source": [
        "train_classes_paths = glob.glob(f\"{DATA_PATH}/train_audio/*\")\n",
        "len(train_classes_paths), train_classes_paths[0]"
      ]
    },
    {
      "cell_type": "code",
      "execution_count": 15,
      "metadata": {
        "colab": {
          "base_uri": "https://localhost:8080/"
        },
        "id": "ELUjrC56MFbs",
        "outputId": "76b7d397-523a-42f5-e59c-46dd367c271f"
      },
      "outputs": [
        {
          "metadata": {
            "tags": null
          },
          "name": "stdout",
          "output_type": "stream",
          "text": [
            "Total samples in dataset: 16961\n"
          ]
        }
      ],
      "source": [
        "print(f\"Total samples in dataset: {len(DF_METADATA_CSV)}\")"
      ]
    },
    {
      "cell_type": "code",
      "execution_count": 16,
      "metadata": {
        "colab": {
          "base_uri": "https://localhost:8080/"
        },
        "id": "RsQreu41MFbs",
        "outputId": "cd2978ce-09cf-40f3-b2a8-e4bda491fcb2"
      },
      "outputs": [
        {
          "output_type": "stream",
          "name": "stdout",
          "text": [
            "Class with fewest samples: crefra2: 3 samples\n"
          ]
        }
      ],
      "source": [
        "class_with_fewest_samples = DF_METADATA_CSV.primary_label.value_counts(sort=True).index[-1]\n",
        "print(f\"Class with fewest samples: {class_with_fewest_samples}: {DF_METADATA_CSV.primary_label.value_counts().min()} samples\")"
      ]
    },
    {
      "cell_type": "code",
      "execution_count": 17,
      "metadata": {
        "id": "ApTEmuSiMFbt"
      },
      "outputs": [],
      "source": [
        "## REUSE IN INFERENCE NOTEBOOK\n",
        "\n",
        "def resample(audio, current_sample_rate, desired_sample_rate=SAMPLE_RATE):\n",
        "    resampler = torchaudio.transforms.Resample(orig_freq=current_sample_rate, new_freq=desired_sample_rate)\n",
        "    resampled_audio = resampler(audio)\n",
        "    return resampled_audio\n",
        "\n",
        "def load_audio(audio_path, sample_rate=SAMPLE_RATE):\n",
        "    audio, sr = torchaudio.load(audio_path)\n",
        "    if sr != sample_rate:\n",
        "        audio = resample(audio, sr, sample_rate)\n",
        "    return audio\n",
        "\n",
        "# Using librosa defaults for n_fft and hop_length\n",
        "def get_melspec_transform(sample_rate=SAMPLE_RATE, n_fft=2048, hop_length=512, n_mels=128):\n",
        "    return torchaudio.transforms.MelSpectrogram(\n",
        "        sample_rate=sample_rate,\n",
        "        n_fft=n_fft,\n",
        "        hop_length=hop_length,\n",
        "        n_mels=n_mels,\n",
        "    )\n",
        "\n",
        "# Using librosa defaults for top_db\n",
        "def get_melspec_db_transform(stype='power', top_db=80):\n",
        "    return torchaudio.transforms.AmplitudeToDB(\n",
        "        stype=stype,\n",
        "        top_db=top_db\n",
        "    )\n",
        "\n",
        "# Copied from torchaudio/transforms/_transforms.py (to avoid converting to melspec twice)\n",
        "dct_mat = F_audio.create_dct(40, 128, \"ortho\")\n",
        "def get_mfcc_from_melspec(melspec):\n",
        "    return torch.matmul(melspec.transpose(-1, -2), dct_mat).transpose(-1, -2)\n",
        "\n",
        "def normalize_tensor(tensor):\n",
        "    min_val = torch.min(tensor)\n",
        "    max_val = torch.max(tensor)\n",
        "    if max_val - min_val == 0:\n",
        "        return tensor\n",
        "    else:\n",
        "        return (tensor - min_val) / (max_val - min_val)"
      ]
    },
    {
      "cell_type": "code",
      "execution_count": 18,
      "metadata": {
        "colab": {
          "base_uri": "https://localhost:8080/"
        },
        "id": "Z_Xi8KWJMFbt",
        "outputId": "b87dcebb-2eef-4baf-a1ed-f560dd12f9f9"
      },
      "outputs": [
        {
          "metadata": {
            "tags": null
          },
          "name": "stdout",
          "output_type": "stream",
          "text": [
            "Creating label encoder...\n",
            "Splitting dataframe into train 60%, valid 20%, test 20%, stratified by primary_label\n"
          ]
        },
        {
          "metadata": {
            "tags": null
          },
          "name": "stderr",
          "output_type": "stream",
          "text": [
            "/usr/local/lib/python3.10/dist-packages/torchvision/models/_utils.py:135: UserWarning: Using 'weights' as positional parameter(s) is deprecated since 0.13 and may be removed in the future. Please use keyword parameter(s) instead.\n",
            "  warnings.warn(\n"
          ]
        },
        {
          "metadata": {
            "tags": null
          },
          "name": "stdout",
          "output_type": "stream",
          "text": [
            "Loaded model BirdMelspecClf with 4540072 parameters, pretained=False\n",
            "Loaded model weights from ./5s_model_e2_valacc19_traacc20_16843316802.pt\n",
            "batch_size: 8, data_percentage: 1, num_epochs: 4, n_mels: 128, learning_rate: 0.0001, pin_memory: True, \n",
            "validate_on_train: True, device: cuda, pad_method: wrap, validate_train_pct: 0.333\n"
          ]
        },
        {
          "metadata": {
            "tags": null
          },
          "name": "stderr",
          "output_type": "stream",
          "text": [
            "Validation batches: 100%|██████████| 424/424 [03:20<00:00,  2.12it/s]\n"
          ]
        },
        {
          "metadata": {
            "tags": null
          },
          "name": "stdout",
          "output_type": "stream",
          "text": [
            "Initial validation accuracy: 18.9858%\n",
            "Starting epoch 1/4\n"
          ]
        },
        {
          "metadata": {
            "tags": null
          },
          "name": "stderr",
          "output_type": "stream",
          "text": [
            "Training batches: 100%|██████████| 1272/1272 [10:05<00:00,  2.10it/s]\n",
            "Validation batches: 100%|██████████| 423/423 [03:00<00:00,  2.35it/s]\n",
            "Validation batches: 100%|██████████| 424/424 [03:09<00:00,  2.24it/s]\n"
          ]
        },
        {
          "metadata": {
            "tags": null
          },
          "name": "stdout",
          "output_type": "stream",
          "text": [
            "Finsished epoch 1/4. Train Loss: 0.5284, Valid Loss: 0.5561, Train Accuracy: 19.41%, Valid Accuracy: 18.28%\n",
            "Starting epoch 2/4\n"
          ]
        },
        {
          "metadata": {
            "tags": null
          },
          "name": "stderr",
          "output_type": "stream",
          "text": [
            "Training batches: 100%|██████████| 1272/1272 [10:00<00:00,  2.12it/s]\n",
            "Validation batches: 100%|██████████| 423/423 [03:02<00:00,  2.31it/s]\n",
            "Validation batches: 100%|██████████| 424/424 [03:06<00:00,  2.28it/s]\n"
          ]
        },
        {
          "metadata": {
            "tags": null
          },
          "name": "stdout",
          "output_type": "stream",
          "text": [
            "Moving model to CPU and saving it as 5s_model_e1_valacc19_traacc21_16843531851.pt ...\n",
            "Finsished epoch 2/4. Train Loss: 0.5399, Valid Loss: 0.5655, Train Accuracy: 21.10%, Valid Accuracy: 19.04%\n",
            "Starting epoch 3/4\n"
          ]
        },
        {
          "output_type": "stream",
          "name": "stderr",
          "text": [
            "Training batches: 100%|██████████| 1272/1272 [09:42<00:00,  2.18it/s]\n",
            "Validation batches: 100%|██████████| 423/423 [03:07<00:00,  2.26it/s]\n",
            "Validation batches: 100%|██████████| 424/424 [03:08<00:00,  2.25it/s]\n"
          ]
        },
        {
          "output_type": "stream",
          "name": "stdout",
          "text": [
            "Moving model to CPU and saving it as 5s_model_e2_valacc19_traacc22_16843531852.pt ...\n",
            "Finsished epoch 3/4. Train Loss: 0.5144, Valid Loss: 0.5644, Train Accuracy: 21.66%, Valid Accuracy: 19.49%\n",
            "Starting epoch 4/4\n"
          ]
        },
        {
          "output_type": "stream",
          "name": "stderr",
          "text": [
            "Training batches: 100%|██████████| 1272/1272 [10:01<00:00,  2.11it/s]\n",
            "Validation batches: 100%|██████████| 423/423 [03:07<00:00,  2.26it/s]\n",
            "Validation batches: 100%|██████████| 424/424 [03:09<00:00,  2.24it/s]"
          ]
        },
        {
          "output_type": "stream",
          "name": "stdout",
          "text": [
            "Finsished epoch 4/4. Train Loss: 0.5148, Valid Loss: 0.5706, Train Accuracy: 20.77%, Valid Accuracy: 18.60%\n"
          ]
        },
        {
          "output_type": "stream",
          "name": "stderr",
          "text": [
            "\n"
          ]
        }
      ],
      "source": [
        "class BirdClef23Dataset(Dataset):\n",
        "    def __init__(self, df, audio_data_dir, label_encoder, n_mels, device, pad_method='wrap'):\n",
        "        self.df = df\n",
        "        self.audio_data_dir = audio_data_dir\n",
        "        self.label_encoder = label_encoder\n",
        "        self.device = device\n",
        "        self.pad_method = pad_method\n",
        "        self.melspec_transform = get_melspec_transform(n_mels=n_mels)\n",
        "        self.melspec_db_transform = get_melspec_db_transform()\n",
        "        self.wavelet_trans = WaveletTransformSingle(pywt.Wavelet('sym4'), cut_to_nearest=1000)\n",
        "\n",
        "    def __getitem__(self, index):\n",
        "        audio_path = os.path.join(self.audio_data_dir, self.df.iloc[index, 11])\n",
        "        audio = load_audio(audio_path, SAMPLE_RATE)\n",
        "\n",
        "        # Increase audio length if below {AUDIO_LENGTH_S} by padding\n",
        "        if audio.shape[1] < AUDIO_LENGTH_S * SAMPLE_RATE:\n",
        "            padding_needed = AUDIO_LENGTH_S * SAMPLE_RATE - audio.shape[1]\n",
        "\n",
        "            if self.pad_method == 'wrap':\n",
        "                audio = F.pad(audio, (0, padding_needed), mode='replicate')\n",
        "\n",
        "            elif self.pad_method == 'zeros':\n",
        "                audio = F.pad(audio, (0, padding_needed), mode='constant', value=0)\n",
        "\n",
        "\n",
        "        # Truncate audio length if above {AUDIO_LENGTH_S} by random cropping\n",
        "        if audio.shape[1] > AUDIO_LENGTH_S * SAMPLE_RATE:\n",
        "            max_start_idx = audio.shape[1] - (SAMPLE_RATE * AUDIO_LENGTH_S)\n",
        "            start_idx = torch.randint(0, max_start_idx, (1,)).item()\n",
        "            audio = audio[:, start_idx:start_idx + (SAMPLE_RATE * AUDIO_LENGTH_S)]\n",
        "\n",
        "        # melspec = self.melspec_db_transform(self.melspec_transform(audio))\n",
        "        # norm_melspec = normalize_tensor(melspec)\n",
        "\n",
        "        wavelet = self.melspec_db_transform(self.melspec_transform(self.wavelet_trans(audio)))\n",
        "        norm_melspec = normalize_tensor(wavelet)\n",
        "\n",
        "        # mfcc = get_mfcc_from_melspec(melspec)\n",
        "        # norm_mfcc = normalize_tensor(mfcc)\n",
        "\n",
        "        # features = torch.cat((norm_melspec, norm_mfcc), dim=1)\n",
        "\n",
        "        features = norm_melspec\n",
        "        \n",
        "        primary_label_raw = self.df.iloc[index, 0]\n",
        "        primary_label = self.label_encoder.transform([primary_label_raw])[0]\n",
        "\n",
        "        return features, primary_label\n",
        "\n",
        "    def __len__(self):\n",
        "        return len(self.df)\n",
        "\n",
        "\n",
        "def get_data_loader(dataset, batch_size=32, data_percentage=None, shuffle=False, pin_memory=False):\n",
        "    if data_percentage is not None:\n",
        "        data_len = int(len(dataset) * data_percentage)\n",
        "        dataset, _ = random_split(dataset, [data_len, len(dataset) - data_len])\n",
        "\n",
        "    data_loader = DataLoader(dataset, batch_size=batch_size, shuffle=shuffle, pin_memory=pin_memory)\n",
        "\n",
        "    return data_loader\n",
        "\n",
        "\n",
        "def split_df(df, primary_label='primary_label', percentages=[60, 20, 20]):\n",
        "    \"\"\"\n",
        "    - Percentages: [train, valid, test]\n",
        "    - Splits a dataframe into three dataframes (train, valid, test), stratified by primary_label\n",
        "    - Also returns the class weights (based on the training set)\n",
        "    \"\"\"\n",
        "    print(f\"Splitting dataframe into train {percentages[0]}%, valid {percentages[1]}%, test {percentages[2]}%, stratified by {primary_label}\")\n",
        "    \n",
        "    train_perc, valid_perc, test_perc = [perc / 100 for perc in percentages]\n",
        "    train_valid_split = round(train_perc / (train_perc + valid_perc), 2)\n",
        "    \n",
        "    temp_df, test_df = train_test_split(df, test_size=test_perc, stratify=df[primary_label], random_state=RANDOM_SEED)\n",
        "    \n",
        "    train_df, valid_df = train_test_split(temp_df, test_size=1-train_valid_split, stratify=temp_df[primary_label], random_state=RANDOM_SEED)\n",
        "\n",
        "    classes = np.unique(train_df[primary_label])\n",
        "    class_weights = compute_class_weight(class_weight='balanced', classes=classes, y=train_df[primary_label])\n",
        "\n",
        "    return train_df, valid_df, test_df, class_weights\n",
        "\n",
        "\n",
        "def train(model, train_loader, valid_loader, loss_func, optimizer, num_epochs, validate_on_train, validate_train_pct, scheduler, device):\n",
        "    minibatch_loss, train_acc_lst, valid_acc_lst, train_loss_lst, valid_loss_lst, best_valid_acc = [], [], [], [], [], 0.0\n",
        "    train_start_ts = str(time.time()).split('.')[0]\n",
        "\n",
        "    # Initial validation step for models with loaded weights, so new weights are only saved if they improve on the loaded ones\n",
        "    valid_acc, valid_loss = validate(model, device, valid_loader, loss_func)\n",
        "    best_valid_acc = valid_acc\n",
        "    print(f\"Initial validation accuracy: {valid_acc:.4f}%\")\n",
        "    \n",
        "    for epoch in range(num_epochs):\n",
        "        print(f\"Starting epoch {epoch+1}/{num_epochs}\")\n",
        "        model.train()\n",
        "        \n",
        "        for melspec, primary_label in tqdm(train_loader, total=len(train_loader), desc=\"Training batches\"):\n",
        "            features = melspec.to(device)\n",
        "            targets = primary_label.to(device)\n",
        "\n",
        "            logits, probas = model(features)\n",
        "\n",
        "            loss = loss_func(logits, targets)\n",
        "\n",
        "            optimizer.zero_grad()\n",
        "            \n",
        "            loss.backward()\n",
        "\n",
        "            minibatch_loss.append(loss.item())\n",
        "            \n",
        "            optimizer.step()\n",
        "        \n",
        "        train_acc, train_loss = validate(model, device, train_loader, loss_func, validate_train_pct) if validate_on_train else (torch.tensor(0.0), torch.tensor(0.0))\n",
        "        valid_acc, valid_loss = validate(model, device, valid_loader, loss_func)\n",
        "\n",
        "        train_acc_lst.append(train_acc)\n",
        "        train_loss_lst.append(train_loss)\n",
        "        valid_acc_lst.append(valid_acc)\n",
        "        valid_loss_lst.append(valid_loss)\n",
        "\n",
        "        if valid_acc > best_valid_acc:\n",
        "            best_valid_acc = valid_acc\n",
        "            model_name = f\"{AUDIO_LENGTH_S}s_model_e{epoch}_valacc{valid_acc:.0f}_traacc{train_acc:.0f}_{train_start_ts}{epoch}.pt\"\n",
        "            print(f\"Moving model to CPU and saving it as {model_name} ...\")\n",
        "            model_cpu = copy.deepcopy(model)\n",
        "            model_cpu.to('cpu')\n",
        "            model_path = os.path.join(JOBLIB_PATH, model_name)\n",
        "            torch.save(model_cpu.state_dict(), model_path)\n",
        "\n",
        "        if scheduler is not None:\n",
        "            lr_before = optimizer.param_groups[0]['lr']\n",
        "            scheduler.step(valid_loss)\n",
        "            lr_after = optimizer.param_groups[0]['lr']\n",
        "            if lr_before != lr_after:\n",
        "                print(f\"Learning rate changed from {lr_before} to {lr_after}\")\n",
        "\n",
        "        print(f\"Finsished epoch {epoch+1}/{num_epochs}. Train Loss: {train_loss:.4f}, Valid Loss: {valid_loss:.4f}, Train Accuracy: {train_acc:.2f}%, Valid Accuracy: {valid_acc:.2f}%\")\n",
        "              \n",
        "    return minibatch_loss, train_loss_lst, valid_loss_lst, train_acc_lst, valid_acc_lst\n",
        "\n",
        "\n",
        "def validate(model, device, data_loader, loss_fn=F.cross_entropy, data_percentage=None):\n",
        "    model.eval()\n",
        "    \n",
        "    num_examples, correct_pred, cross_entropy = 0.0, 0.0, 0.0\n",
        "\n",
        "    with torch.no_grad():\n",
        "        data_loader_len = len(data_loader) if data_percentage is None else int(len(data_loader) * data_percentage)\n",
        "        i = 0\n",
        "        for melspec, primary_label in tqdm(data_loader, total=data_loader_len, desc='Validation batches'):\n",
        "            if data_percentage is not None and i >= data_loader_len:\n",
        "                break\n",
        "            i += 1\n",
        "\n",
        "            features = melspec.to(device)\n",
        "            targets = primary_label.to(device)\n",
        "\n",
        "            logits, probas = model(features)\n",
        "            cross_entropy += loss_fn(logits, targets)\n",
        "\n",
        "            _, predicted_labels = torch.max(probas, 1)\n",
        "\n",
        "            num_examples += targets.size(0)\n",
        "\n",
        "            correct_pred += (predicted_labels == targets).sum()\n",
        "\n",
        "    accuracy = correct_pred / num_examples * 100\n",
        "    loss = cross_entropy / num_examples\n",
        "    return accuracy, loss\n",
        "\n",
        "\n",
        "# --- training\n",
        "print('Creating label encoder...')\n",
        "label_encoder = LabelEncoder()\n",
        "label_encoder.fit(list(UNIQUE_CLASSES))\n",
        "joblib.dump(label_encoder, 'label_encoder.joblib')\n",
        "\n",
        "train_df, valid_df, test_df, class_weights = split_df(DF_METADATA_CSV)\n",
        "\n",
        "batch_size = 8\n",
        "data_percentage = 1 # 1 means 100% of the data\n",
        "num_epochs = 4\n",
        "n_mels = 128 # 128 is the default value in librosa\n",
        "learning_rate = 0.0001\n",
        "# DEVICE = 'cpu'\n",
        "pad_method = 'wrap' # wrap, zeros\n",
        "\n",
        "pin_memory = True # https://discuss.pytorch.org/t/when-to-set-pin-memory-to-true/19723/6\n",
        "validate_on_train = True\n",
        "validate_train_pct = 0.333\n",
        "\n",
        "train_dataset = BirdClef23Dataset(train_df, AUDIO_DATA_DIR, label_encoder, n_mels, DEVICE, pad_method=pad_method)\n",
        "valid_dataset = BirdClef23Dataset(valid_df, AUDIO_DATA_DIR, label_encoder, n_mels, DEVICE, pad_method=pad_method)\n",
        "\n",
        "train_loader = get_data_loader(train_dataset, batch_size, data_percentage, shuffle=True, pin_memory=pin_memory)\n",
        "valid_loader = get_data_loader(valid_dataset, batch_size, data_percentage, shuffle=False, pin_memory=pin_memory)\n",
        "\n",
        "model = get_model(out_features=N_CLASSES, device=DEVICE, pretrained=False, load_state_dict=True) # state_dict_starts_with='5s_model_e0_valacc6'\n",
        "\n",
        "loss_function = torch.nn.CrossEntropyLoss(weight=torch.from_numpy(class_weights).float().to(DEVICE))\n",
        "optimizer = torch.optim.Adam(model.parameters(), lr=learning_rate, weight_decay=0.01)\n",
        "scheduler = torch.optim.lr_scheduler.ReduceLROnPlateau(optimizer, mode='min', factor=0.1, patience=3, verbose=True)\n",
        "# scheduler = None\n",
        "\n",
        "print(f\"batch_size: {batch_size}, data_percentage: {data_percentage}, num_epochs: {num_epochs}, n_mels: {n_mels}, learning_rate: {learning_rate}, pin_memory: {pin_memory}, \\nvalidate_on_train: {validate_on_train}, device: {DEVICE}, pad_method: {pad_method}, validate_train_pct: {validate_train_pct}\")\n",
        "\n",
        "minibatch_loss, train_loss_lst, valid_loss_lst, train_acc_lst, valid_acc_lst = train(model, train_loader, valid_loader, loss_function, optimizer, num_epochs, validate_on_train, validate_train_pct, scheduler, DEVICE)"
      ]
    },
    {
      "cell_type": "code",
      "execution_count": 19,
      "metadata": {
        "id": "78mRDfBAMFbt",
        "colab": {
          "base_uri": "https://localhost:8080/",
          "height": 472
        },
        "outputId": "9f3ef974-b5e6-4c0f-e6c7-5c393f6d58bf"
      },
      "outputs": [
        {
          "output_type": "display_data",
          "data": {
            "text/plain": [
              "<Figure size 640x480 with 1 Axes>"
            ],
            "image/png": "[encoded data removed]"
          },
          "metadata": {}
        }
      ],
      "source": [
        "utils.plot_minibatch_loss(minibatch_loss)"
      ]
    },
    {
      "cell_type": "code",
      "execution_count": 20,
      "metadata": {
        "id": "dDZdpXrVMFbu",
        "colab": {
          "base_uri": "https://localhost:8080/",
          "height": 428
        },
        "outputId": "26241018-72d1-42fe-ffdb-41cf1c375315"
      },
      "outputs": [
        {
          "output_type": "display_data",
          "data": {
            "text/plain": [
              "<Figure size 2000x500 with 2 Axes>"
            ],
            "image/png": "[encoded data removed]"
          },
          "metadata": {}
        }
      ],
      "source": [
        "utils.plot_train_and_valid_loss_and_accuracy(train_loss_lst, valid_loss_lst, train_acc_lst, valid_acc_lst)"
      ]
    },
    {
      "cell_type": "code",
      "execution_count": 20,
      "metadata": {
        "id": "vlih4pxmMFbu"
      },
      "outputs": [],
      "source": []
    }
  ],
  "metadata": {
    "colab": {
      "provenance": [],
      "gpuType": "T4"
    },
    "kernelspec": {
      "display_name": "Python 3",
      "language": "python",
      "name": "python3"
    },
    "language_info": {
      "codemirror_mode": {
        "name": "ipython",
        "version": 3
      },
      "file_extension": ".py",
      "mimetype": "text/x-python",
      "name": "python",
      "nbconvert_exporter": "python",
      "pygments_lexer": "ipython3",
      "version": "3.10.10"
    },
    "accelerator": "GPU",
    "gpuClass": "standard"
  },
  "nbformat": 4,
  "nbformat_minor": 0
}