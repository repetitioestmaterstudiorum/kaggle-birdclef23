{
	"cells": [
		{
			"cell_type": "code",
			"execution_count": 1,
			"metadata": {},
			"outputs": [],
			"source": [
				"import pandas as pd\n",
				"import numpy as np\n",
				"import joblib\n",
				"import seaborn as sns\n",
				"import matplotlib.pyplot as plt\n",
				"from sklearn.model_selection import train_test_split\n",
				"import torch\n",
				"import torch.nn as nn\n",
				"import torch.optim as optim\n",
				"from torch.optim.lr_scheduler import ReduceLROnPlateau\n",
				"from torch.utils.data import Dataset, DataLoader, random_split\n",
				"from torchvision.models import resnet18, ResNet18_Weights\n",
				"from torchvision import transforms\n",
				"from IPython.display import Audio\n",
				"import librosa\n",
				"from sklearn.preprocessing import LabelEncoder\n",
				"from sklearn.utils.class_weight import compute_class_weight\n",
				"from sklearn.metrics import confusion_matrix, accuracy_score, f1_score\n",
				"import tqdm\n",
				"\n",
				"import random\n",
				"import glob\n",
				"import os\n",
				"import ast\n",
				"\n",
				"import sys\n",
				"sys.path.append(\"..\")\n",
				"import utils"
			]
		},
		{
			"cell_type": "code",
			"execution_count": 2,
			"metadata": {},
			"outputs": [],
			"source": [
				"RANDOM_SEED = 21\n",
				"\n",
				"# Set seed for experiment reproducibility\n",
				"random.seed(RANDOM_SEED)\n",
				"np.random.seed(RANDOM_SEED)\n",
				"torch.manual_seed(RANDOM_SEED)\n",
				"torch.cuda.manual_seed(RANDOM_SEED)\n",
				"torch.backends.cudnn.deterministic = True\n",
				"torch.backends.cudnn.benchmark = True"
			]
		},
		{
			"cell_type": "code",
			"execution_count": 3,
			"metadata": {},
			"outputs": [
				{
					"name": "stdout",
					"output_type": "stream",
					"text": [
						"We are running code on Localhost\n",
						"We are using device: mps\n"
					]
				}
			],
			"source": [
				"is_in_kaggle_env = utils.get_is_in_kaggle_env()\n",
				"\n",
				"data_path = '/kaggle/input/birdclef-2023' if is_in_kaggle_env else '../data'\n",
				"\n",
				"device = 'cpu' if is_in_kaggle_env else utils.determine_device()\n",
				"\n",
				"if not is_in_kaggle_env and not os.path.exists('../data'):\n",
				"    print(\"Downloading data...\")\n",
				"    !kaggle competitions download -c 'birdclef-2023'\n",
				"    !mkdir ../data\n",
				"    !unzip -q birdclef-2023.zip -d ../data\n",
				"    !rm birdclef-2023.zip\n",
				"\n",
				"df_metadata_csv = pd.read_csv(f\"{data_path}/train_metadata.csv\")\n",
				"\n",
				"audio_data_dir = f\"{data_path}/train_audio/\""
			]
		},
		{
			"cell_type": "code",
			"execution_count": 4,
			"metadata": {},
			"outputs": [
				{
					"data": {
						"text/html": [
							"<div>\n",
							"<style scoped>\n",
							"    .dataframe tbody tr th:only-of-type {\n",
							"        vertical-align: middle;\n",
							"    }\n",
							"\n",
							"    .dataframe tbody tr th {\n",
							"        vertical-align: top;\n",
							"    }\n",
							"\n",
							"    .dataframe thead th {\n",
							"        text-align: right;\n",
							"    }\n",
							"</style>\n",
							"<table border=\"1\" class=\"dataframe\">\n",
							"  <thead>\n",
							"    <tr style=\"text-align: right;\">\n",
							"      <th></th>\n",
							"      <th>primary_label</th>\n",
							"      <th>secondary_labels</th>\n",
							"      <th>type</th>\n",
							"      <th>latitude</th>\n",
							"      <th>longitude</th>\n",
							"      <th>scientific_name</th>\n",
							"      <th>common_name</th>\n",
							"      <th>author</th>\n",
							"      <th>license</th>\n",
							"      <th>rating</th>\n",
							"      <th>url</th>\n",
							"      <th>filename</th>\n",
							"    </tr>\n",
							"  </thead>\n",
							"  <tbody>\n",
							"    <tr>\n",
							"      <th>0</th>\n",
							"      <td>abethr1</td>\n",
							"      <td>[]</td>\n",
							"      <td>['song']</td>\n",
							"      <td>4.3906</td>\n",
							"      <td>38.2788</td>\n",
							"      <td>Turdus tephronotus</td>\n",
							"      <td>African Bare-eyed Thrush</td>\n",
							"      <td>Rolf A. de By</td>\n",
							"      <td>Creative Commons Attribution-NonCommercial-Sha...</td>\n",
							"      <td>4.0</td>\n",
							"      <td>https://www.xeno-canto.org/128013</td>\n",
							"      <td>abethr1/XC128013.ogg</td>\n",
							"    </tr>\n",
							"    <tr>\n",
							"      <th>1</th>\n",
							"      <td>abethr1</td>\n",
							"      <td>[]</td>\n",
							"      <td>['call']</td>\n",
							"      <td>-2.9524</td>\n",
							"      <td>38.2921</td>\n",
							"      <td>Turdus tephronotus</td>\n",
							"      <td>African Bare-eyed Thrush</td>\n",
							"      <td>James Bradley</td>\n",
							"      <td>Creative Commons Attribution-NonCommercial-Sha...</td>\n",
							"      <td>3.5</td>\n",
							"      <td>https://www.xeno-canto.org/363501</td>\n",
							"      <td>abethr1/XC363501.ogg</td>\n",
							"    </tr>\n",
							"    <tr>\n",
							"      <th>2</th>\n",
							"      <td>abethr1</td>\n",
							"      <td>[]</td>\n",
							"      <td>['song']</td>\n",
							"      <td>-2.9524</td>\n",
							"      <td>38.2921</td>\n",
							"      <td>Turdus tephronotus</td>\n",
							"      <td>African Bare-eyed Thrush</td>\n",
							"      <td>James Bradley</td>\n",
							"      <td>Creative Commons Attribution-NonCommercial-Sha...</td>\n",
							"      <td>3.5</td>\n",
							"      <td>https://www.xeno-canto.org/363502</td>\n",
							"      <td>abethr1/XC363502.ogg</td>\n",
							"    </tr>\n",
							"  </tbody>\n",
							"</table>\n",
							"</div>"
						],
						"text/plain": [
							"  primary_label secondary_labels      type  latitude  longitude  \\\n",
							"0       abethr1               []  ['song']    4.3906    38.2788   \n",
							"1       abethr1               []  ['call']   -2.9524    38.2921   \n",
							"2       abethr1               []  ['song']   -2.9524    38.2921   \n",
							"\n",
							"      scientific_name               common_name         author  \\\n",
							"0  Turdus tephronotus  African Bare-eyed Thrush  Rolf A. de By   \n",
							"1  Turdus tephronotus  African Bare-eyed Thrush  James Bradley   \n",
							"2  Turdus tephronotus  African Bare-eyed Thrush  James Bradley   \n",
							"\n",
							"                                             license  rating  \\\n",
							"0  Creative Commons Attribution-NonCommercial-Sha...     4.0   \n",
							"1  Creative Commons Attribution-NonCommercial-Sha...     3.5   \n",
							"2  Creative Commons Attribution-NonCommercial-Sha...     3.5   \n",
							"\n",
							"                                 url              filename  \n",
							"0  https://www.xeno-canto.org/128013  abethr1/XC128013.ogg  \n",
							"1  https://www.xeno-canto.org/363501  abethr1/XC363501.ogg  \n",
							"2  https://www.xeno-canto.org/363502  abethr1/XC363502.ogg  "
						]
					},
					"execution_count": 4,
					"metadata": {},
					"output_type": "execute_result"
				}
			],
			"source": [
				"df_metadata_csv.head(3)"
			]
		},
		{
			"cell_type": "code",
			"execution_count": 5,
			"metadata": {},
			"outputs": [
				{
					"data": {
						"text/html": [
							"<div>\n",
							"<style scoped>\n",
							"    .dataframe tbody tr th:only-of-type {\n",
							"        vertical-align: middle;\n",
							"    }\n",
							"\n",
							"    .dataframe tbody tr th {\n",
							"        vertical-align: top;\n",
							"    }\n",
							"\n",
							"    .dataframe thead th {\n",
							"        text-align: right;\n",
							"    }\n",
							"</style>\n",
							"<table border=\"1\" class=\"dataframe\">\n",
							"  <thead>\n",
							"    <tr style=\"text-align: right;\">\n",
							"      <th></th>\n",
							"      <th>primary_label</th>\n",
							"      <th>secondary_labels</th>\n",
							"      <th>type</th>\n",
							"      <th>latitude</th>\n",
							"      <th>longitude</th>\n",
							"      <th>scientific_name</th>\n",
							"      <th>common_name</th>\n",
							"      <th>author</th>\n",
							"      <th>license</th>\n",
							"      <th>rating</th>\n",
							"      <th>url</th>\n",
							"      <th>filename</th>\n",
							"    </tr>\n",
							"  </thead>\n",
							"  <tbody>\n",
							"    <tr>\n",
							"      <th>13623</th>\n",
							"      <td>tafpri1</td>\n",
							"      <td>[]</td>\n",
							"      <td>['call']</td>\n",
							"      <td>-33.6302</td>\n",
							"      <td>26.5732</td>\n",
							"      <td>Prinia subflava</td>\n",
							"      <td>Tawny-flanked Prinia</td>\n",
							"      <td>Lynette Rudman</td>\n",
							"      <td>Creative Commons Attribution-NonCommercial-Sha...</td>\n",
							"      <td>4.0</td>\n",
							"      <td>https://www.xeno-canto.org/321277</td>\n",
							"      <td>tafpri1/XC321277.ogg</td>\n",
							"    </tr>\n",
							"  </tbody>\n",
							"</table>\n",
							"</div>"
						],
						"text/plain": [
							"      primary_label secondary_labels      type  latitude  longitude  \\\n",
							"13623       tafpri1               []  ['call']  -33.6302    26.5732   \n",
							"\n",
							"       scientific_name           common_name          author  \\\n",
							"13623  Prinia subflava  Tawny-flanked Prinia  Lynette Rudman   \n",
							"\n",
							"                                                 license  rating  \\\n",
							"13623  Creative Commons Attribution-NonCommercial-Sha...     4.0   \n",
							"\n",
							"                                     url              filename  \n",
							"13623  https://www.xeno-canto.org/321277  tafpri1/XC321277.ogg  "
						]
					},
					"execution_count": 5,
					"metadata": {},
					"output_type": "execute_result"
				}
			],
			"source": [
				"df_metadata_csv[df_metadata_csv['filename'].str.contains(\"XC321277\")]"
			]
		},
		{
			"cell_type": "code",
			"execution_count": 6,
			"metadata": {},
			"outputs": [
				{
					"name": "stdout",
					"output_type": "stream",
					"text": [
						"Audio path: abethr1/XC128013.ogg\n",
						"Primary label: abethr1\n",
						"Secondary labels: []\n",
						"File ID: XC128013\n",
						"df length: 16941\n"
					]
				}
			],
			"source": [
				"audio_path = df_metadata_csv.iloc[0, 11]\n",
				"print(f\"Audio path: {audio_path}\")\n",
				"\n",
				"primary_label = df_metadata_csv.iloc[0, 0]\n",
				"print(f\"Primary label: {primary_label}\")\n",
				"\n",
				"secondary_labels = df_metadata_csv.iloc[0, 1]\n",
				"print(f\"Secondary labels: {secondary_labels}\")\n",
				"\n",
				"file_id = audio_path.split('/')[-1].split('.')[0]\n",
				"print(f\"File ID: {file_id}\")\n",
				"\n",
				"print(f\"df length: {len(df_metadata_csv)}\")"
			]
		},
		{
			"cell_type": "code",
			"execution_count": 7,
			"metadata": {},
			"outputs": [
				{
					"name": "stdout",
					"output_type": "stream",
					"text": [
						"<class 'pandas.core.frame.DataFrame'>\n",
						"RangeIndex: 16941 entries, 0 to 16940\n",
						"Data columns (total 12 columns):\n",
						" #   Column            Non-Null Count  Dtype  \n",
						"---  ------            --------------  -----  \n",
						" 0   primary_label     16941 non-null  object \n",
						" 1   secondary_labels  16941 non-null  object \n",
						" 2   type              16941 non-null  object \n",
						" 3   latitude          16714 non-null  float64\n",
						" 4   longitude         16714 non-null  float64\n",
						" 5   scientific_name   16941 non-null  object \n",
						" 6   common_name       16941 non-null  object \n",
						" 7   author            16941 non-null  object \n",
						" 8   license           16941 non-null  object \n",
						" 9   rating            16941 non-null  float64\n",
						" 10  url               16941 non-null  object \n",
						" 11  filename          16941 non-null  object \n",
						"dtypes: float64(3), object(9)\n",
						"memory usage: 1.6+ MB\n"
					]
				}
			],
			"source": [
				"df_metadata_csv.info()"
			]
		},
		{
			"cell_type": "code",
			"execution_count": 8,
			"metadata": {},
			"outputs": [
				{
					"name": "stdout",
					"output_type": "stream",
					"text": [
						"Number of unique classes with less than 2 samples: 10\n",
						"Number of rows with less than 2 samples: 13\n",
						"Primary labels with less than 2 samples: ['afpkin1' 'brcwea1' 'brtcha1' 'crefra2' 'golher1' 'lotcor1' 'rehblu1'\n",
						" 'whctur2' 'whhsaw1' 'yebsto1']\n"
					]
				}
			],
			"source": [
				"class_counts = df_metadata_csv[\"primary_label\"].value_counts()\n",
				"\n",
				"two_or_less_samples_rows = df_metadata_csv[df_metadata_csv[\"primary_label\"].isin(class_counts[class_counts < 3].index)]\n",
				"\n",
				"print(f\"Number of unique classes with less than 2 samples: {len(two_or_less_samples_rows['primary_label'].unique())}\")\n",
				"print(f\"Number of rows with less than 2 samples: {len(two_or_less_samples_rows)}\")\n",
				"print(f\"Primary labels with less than 2 samples: {two_or_less_samples_rows['primary_label'].unique()}\")"
			]
		},
		{
			"cell_type": "code",
			"execution_count": 9,
			"metadata": {},
			"outputs": [
				{
					"name": "stdout",
					"output_type": "stream",
					"text": [
						"Number of rows before dropping: 16941\n",
						"Number of rows after dropping: 16928\n"
					]
				}
			],
			"source": [
				"# Drop rows with primary_label that have two or less samples\n",
				"print(f\"Number of rows before dropping: {len(df_metadata_csv)}\")\n",
				"df_metadata_csv = df_metadata_csv[~df_metadata_csv[\"primary_label\"].isin(class_counts[class_counts < 3].index)]\n",
				"print(f\"Number of rows after dropping: {len(df_metadata_csv)}\")"
			]
		},
		{
			"cell_type": "code",
			"execution_count": 10,
			"metadata": {},
			"outputs": [
				{
					"name": "stderr",
					"output_type": "stream",
					"text": [
						"1693it [01:07, 25.12it/s]                          \n"
					]
				}
			],
			"source": [
				"# go through each row of a 10% random sample of train_df, get the audio file length, and add it to a list, show the progress using tqdm\n",
				"\n",
				"audio_lengths_s = []\n",
				"for i, row in tqdm.tqdm(df_metadata_csv.sample(frac=0.1).iterrows(), total=int(len(df_metadata_csv) * 0.1)):\n",
				"    audio_path = row[\"filename\"]\n",
				"    audio_path = f\"{audio_data_dir}/{audio_path}\"\n",
				"    audio, sr = librosa.load(audio_path)\n",
				"    audio_lengths_s.append(len(audio) / sr)"
			]
		},
		{
			"cell_type": "code",
			"execution_count": 11,
			"metadata": {},
			"outputs": [
				{
					"data": {
						"image/png": "[encoded data removed]",
						"text/plain": [
							"<Figure size 640x480 with 1 Axes>"
						]
					},
					"metadata": {},
					"output_type": "display_data"
				}
			],
			"source": [
				"# plot the audio lengths\n",
				"plt.hist(audio_lengths_s, bins=100)\n",
				"plt.show()"
			]
		},
		{
			"cell_type": "code",
			"execution_count": 12,
			"metadata": {},
			"outputs": [
				{
					"data": {
						"image/png": "[encoded data removed]",
						"text/plain": [
							"<Figure size 640x480 with 1 Axes>"
						]
					},
					"metadata": {},
					"output_type": "display_data"
				}
			],
			"source": [
				"# plot the audio lengths as histogram until 80th percentile\n",
				"plt.hist(audio_lengths_s, bins=1000)\n",
				"plt.xlim(0, np.percentile(audio_lengths_s, 80))\n",
				"plt.show()"
			]
		},
		{
			"cell_type": "code",
			"execution_count": 13,
			"metadata": {},
			"outputs": [
				{
					"data": {
						"text/plain": [
							"(640.0522902494331, 0.9665759637188208, 55.33222675736962)"
						]
					},
					"execution_count": 13,
					"metadata": {},
					"output_type": "execute_result"
				}
			],
			"source": [
				"max(audio_lengths_s), min(audio_lengths_s), np.percentile(audio_lengths_s, 80)"
			]
		},
		{
			"cell_type": "code",
			"execution_count": 14,
			"metadata": {},
			"outputs": [
				{
					"data": {
						"text/plain": [
							"(39.524182005938826, 24.790249433106577)"
						]
					},
					"execution_count": 14,
					"metadata": {},
					"output_type": "execute_result"
				}
			],
			"source": [
				"np.mean(audio_lengths_s), np.median(audio_lengths_s)"
			]
		},
		{
			"cell_type": "code",
			"execution_count": 15,
			"metadata": {},
			"outputs": [
				{
					"name": "stdout",
					"output_type": "stream",
					"text": [
						"Number of classes: 257\n",
						"Number of classes in secondary but not primary: 3\n"
					]
				}
			],
			"source": [
				"# Get unique classes\n",
				"unique_primary_classes = df_metadata_csv.primary_label.unique()\n",
				"\n",
				"secondary_classes = df_metadata_csv.secondary_labels.tolist()\n",
				"unique_secondary_classes = set()\n",
				"for class_list_str in secondary_classes:\n",
				"    class_list = ast.literal_eval(class_list_str)\n",
				"    for c in class_list:\n",
				"        unique_secondary_classes.add(c)\n",
				"\n",
				"classes = set(unique_primary_classes).union(unique_secondary_classes)\n",
				"print(f\"Number of classes: {len(classes)}\")\n",
				"\n",
				"classes_in_secondary_but_not_primary = unique_secondary_classes.difference(unique_primary_classes)\n",
				"print(f\"Number of classes in secondary but not primary: {len(classes_in_secondary_but_not_primary)}\")"
			]
		},
		{
			"cell_type": "code",
			"execution_count": null,
			"metadata": {},
			"outputs": [],
			"source": []
		}
	],
	"metadata": {
		"kernelspec": {
			"display_name": "torch-3-10",
			"language": "python",
			"name": "python3"
		},
		"language_info": {
			"codemirror_mode": {
				"name": "ipython",
				"version": 3
			},
			"file_extension": ".py",
			"mimetype": "text/x-python",
			"name": "python",
			"nbconvert_exporter": "python",
			"pygments_lexer": "ipython3",
			"version": "3.10.10"
		},
		"orig_nbformat": 4
	},
	"nbformat": 4,
	"nbformat_minor": 2
}
